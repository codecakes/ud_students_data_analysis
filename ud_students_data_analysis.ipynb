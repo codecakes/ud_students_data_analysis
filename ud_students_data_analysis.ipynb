{
  "nbformat": 4,
  "nbformat_minor": 0,
  "metadata": {
    "colab": {
      "name": "ud_students_data_analysis.ipynb",
      "provenance": [],
      "collapsed_sections": [],
      "machine_shape": "hm",
      "include_colab_link": true
    },
    "kernelspec": {
      "name": "python3",
      "display_name": "Python 3"
    }
  },
  "cells": [
    {
      "cell_type": "markdown",
      "metadata": {
        "id": "view-in-github",
        "colab_type": "text"
      },
      "source": [
        "<a href=\"https://colab.research.google.com/github/codecakes/ud_students_data_analysis/blob/master/ud_students_data_analysis.ipynb\" target=\"_parent\"><img src=\"https://colab.research.google.com/assets/colab-badge.svg\" alt=\"Open In Colab\"/></a>"
      ]
    },
    {
      "cell_type": "code",
      "metadata": {
        "id": "CS1KeIvrCa7x",
        "colab_type": "code",
        "colab": {}
      },
      "source": [
        "import os\n",
        "import datetime as dt\n",
        "import matplotlib\n",
        "%matplotlib inline\n",
        "import numpy as np\n",
        "import pandas as pd\n",
        "%config IPCompleter.greedy=True\n"
      ],
      "execution_count": 0,
      "outputs": []
    },
    {
      "cell_type": "markdown",
      "metadata": {
        "id": "0NFM_yczy7GI",
        "colab_type": "text"
      },
      "source": [
        "# Wrangling Phase"
      ]
    },
    {
      "cell_type": "markdown",
      "metadata": {
        "id": "sV0HGZ4JT3is",
        "colab_type": "text"
      },
      "source": [
        "## Load DF."
      ]
    },
    {
      "cell_type": "code",
      "metadata": {
        "id": "jWKQolCqCivy",
        "colab_type": "code",
        "outputId": "6e9ee140-e749-42ba-e449-b92f7db594a6",
        "colab": {
          "base_uri": "https://localhost:8080/",
          "height": 34
        }
      },
      "source": [
        "# Mount Google drive for data set.\n",
        "from google.colab import drive\n",
        "drive.mount('/content/gdrive')"
      ],
      "execution_count": 596,
      "outputs": [
        {
          "output_type": "stream",
          "text": [
            "Drive already mounted at /content/gdrive; to attempt to forcibly remount, call drive.mount(\"/content/gdrive\", force_remount=True).\n"
          ],
          "name": "stdout"
        }
      ]
    },
    {
      "cell_type": "code",
      "metadata": {
        "id": "vflLekDcSiLH",
        "colab_type": "code",
        "colab": {}
      },
      "source": [
        "root_path = r'gdrive/My Drive/Colab Notebooks/ud_data_analysis'"
      ],
      "execution_count": 0,
      "outputs": []
    },
    {
      "cell_type": "code",
      "metadata": {
        "id": "BpgWNdJVOfVu",
        "colab_type": "code",
        "colab": {}
      },
      "source": [
        "def toDateTimeFormat(df, cols):\n",
        "  df[cols] = df[cols].transform(\n",
        "      lambda col: pd.to_datetime(col, errors='raise',\n",
        "                                 infer_datetime_format=True))"
      ],
      "execution_count": 0,
      "outputs": []
    },
    {
      "cell_type": "code",
      "metadata": {
        "id": "lCjisWIgDHRP",
        "colab_type": "code",
        "outputId": "f3aa9a5b-347c-4922-8c53-962af2e8efcd",
        "colab": {
          "base_uri": "https://localhost:8080/",
          "height": 111
        }
      },
      "source": [
        "f = os.path.join(root_path, 'daily_engagement.csv')\n",
        "daily_engagement_sample_df = pd.read_csv(\n",
        "    f, infer_datetime_format=True, engine='c')\n",
        "daily_engagement_sample_df.head(2)"
      ],
      "execution_count": 599,
      "outputs": [
        {
          "output_type": "execute_result",
          "data": {
            "text/html": [
              "<div>\n",
              "<style scoped>\n",
              "    .dataframe tbody tr th:only-of-type {\n",
              "        vertical-align: middle;\n",
              "    }\n",
              "\n",
              "    .dataframe tbody tr th {\n",
              "        vertical-align: top;\n",
              "    }\n",
              "\n",
              "    .dataframe thead th {\n",
              "        text-align: right;\n",
              "    }\n",
              "</style>\n",
              "<table border=\"1\" class=\"dataframe\">\n",
              "  <thead>\n",
              "    <tr style=\"text-align: right;\">\n",
              "      <th></th>\n",
              "      <th>acct</th>\n",
              "      <th>utc_date</th>\n",
              "      <th>num_courses_visited</th>\n",
              "      <th>total_minutes_visited</th>\n",
              "      <th>lessons_completed</th>\n",
              "      <th>projects_completed</th>\n",
              "    </tr>\n",
              "  </thead>\n",
              "  <tbody>\n",
              "    <tr>\n",
              "      <th>0</th>\n",
              "      <td>0</td>\n",
              "      <td>2015-01-09</td>\n",
              "      <td>1.0</td>\n",
              "      <td>11.679374</td>\n",
              "      <td>0.0</td>\n",
              "      <td>0.0</td>\n",
              "    </tr>\n",
              "    <tr>\n",
              "      <th>1</th>\n",
              "      <td>0</td>\n",
              "      <td>2015-01-10</td>\n",
              "      <td>2.0</td>\n",
              "      <td>37.284887</td>\n",
              "      <td>0.0</td>\n",
              "      <td>0.0</td>\n",
              "    </tr>\n",
              "  </tbody>\n",
              "</table>\n",
              "</div>"
            ],
            "text/plain": [
              "   acct    utc_date  ...  lessons_completed  projects_completed\n",
              "0     0  2015-01-09  ...                0.0                 0.0\n",
              "1     0  2015-01-10  ...                0.0                 0.0\n",
              "\n",
              "[2 rows x 6 columns]"
            ]
          },
          "metadata": {
            "tags": []
          },
          "execution_count": 599
        }
      ]
    },
    {
      "cell_type": "code",
      "metadata": {
        "id": "f5mKOXyaFeqj",
        "colab_type": "code",
        "colab": {}
      },
      "source": [
        "f = os.path.join(root_path, 'daily_engagement_full.csv')\n",
        "columns = ['utc_date', 'acct', 'registration_date', 'subscription_start',\n",
        "       'course_key', 'sibling_key', 'course_title', 'has_visited',\n",
        "       'total_minutes_visited', 'lessons_completed', 'projects_completed',\n",
        "       'account_key']\n",
        "engagements = pd.read_csv(\n",
        "    f, infer_datetime_format=True, engine='c', usecols=columns)\n",
        "engagements.astype({k: str for k in ['acct', 'course_key', 'sibling_key', 'course_title', 'account_key']})\n",
        "engagements.astype({k: 'datetime64[ns]' for k in ['utc_date', 'registration_date', 'subscription_start']})\n",
        "toDateTimeFormat(engagements, ['registration_date', 'subscription_start'])"
      ],
      "execution_count": 0,
      "outputs": []
    },
    {
      "cell_type": "code",
      "metadata": {
        "id": "V9OIlB3kKTer",
        "colab_type": "code",
        "colab": {}
      },
      "source": [
        "f = os.path.join(root_path, 'enrollments.csv')\n",
        "columns=['account_key', 'status', 'join_date', 'cancel_date', 'days_to_cancel',\n",
        "       'is_udacity', 'is_canceled']\n",
        "enrollments = pd.read_csv(\n",
        "    f, infer_datetime_format=True, engine='c', usecols=columns)\n",
        "enrollments.astype({\n",
        "    'join_date': 'datetime64[ns]',\n",
        "    'cancel_date': 'datetime64[ns]', \n",
        "    'account_key': str,\n",
        "    'status': str,\n",
        "    'days_to_cancel': float,\n",
        "    'is_udacity': bool,\n",
        "    'is_canceled': bool,\n",
        "    })\n",
        "toDateTimeFormat(enrollments, ['join_date', 'cancel_date'])"
      ],
      "execution_count": 0,
      "outputs": []
    },
    {
      "cell_type": "code",
      "metadata": {
        "id": "Bg_LEsR_JhYC",
        "colab_type": "code",
        "colab": {}
      },
      "source": [
        "\n",
        "cols =['join_date', 'cancel_date']\n",
        "enrollments[cols] = enrollments[cols].transform(\n",
        "    lambda row: pd.to_datetime(row, errors='raise', \n",
        "                               infer_datetime_format=True), axis=1)"
      ],
      "execution_count": 0,
      "outputs": []
    },
    {
      "cell_type": "code",
      "metadata": {
        "id": "8jdRf46sMhH0",
        "colab_type": "code",
        "colab": {}
      },
      "source": [
        "f = os.path.join(root_path, 'project_submissions.csv')\n",
        "project_submissions = pd.read_csv(\n",
        "    f, infer_datetime_format=True, engine='c')\n",
        "project_submissions.astype({\n",
        "    'creation_date': 'datetime64[ns]',\n",
        "    'completion_date': 'datetime64[ns]',\n",
        "    'assigned_rating': str,\n",
        "    'account_key': str,\n",
        "    'lesson_key': str,\n",
        "    })\n",
        "toDateTimeFormat(project_submissions, ['creation_date', 'completion_date'])"
      ],
      "execution_count": 0,
      "outputs": []
    },
    {
      "cell_type": "code",
      "metadata": {
        "id": "ENoCdyt1MwLC",
        "colab_type": "code",
        "colab": {}
      },
      "source": [
        ""
      ],
      "execution_count": 0,
      "outputs": []
    },
    {
      "cell_type": "markdown",
      "metadata": {
        "id": "iNw3A6QJNV0M",
        "colab_type": "text"
      },
      "source": [
        "How many students enrolled?\n",
        "\n",
        "How many students passed/failed/didnt finish?\n",
        "\n",
        "when did students frequently join?\n",
        "\n",
        "is there a correlation between students joining/completing projects vs pass status?\n",
        "\n",
        "\n",
        "\n"
      ]
    },
    {
      "cell_type": "markdown",
      "metadata": {
        "id": "8cCavF7NbHl5",
        "colab_type": "text"
      },
      "source": [
        "## Size Before Cleaning"
      ]
    },
    {
      "cell_type": "code",
      "metadata": {
        "id": "Y55259xObLR3",
        "colab_type": "code",
        "colab": {
          "base_uri": "https://localhost:8080/",
          "height": 34
        },
        "outputId": "aad14c7b-5022-4efb-9f18-5cdef63d3021"
      },
      "source": [
        "enrollments.shape, engagements.shape, project_submissions.shape"
      ],
      "execution_count": 604,
      "outputs": [
        {
          "output_type": "execute_result",
          "data": {
            "text/plain": [
              "((1640, 7), (2309239, 12), (3642, 6))"
            ]
          },
          "metadata": {
            "tags": []
          },
          "execution_count": 604
        }
      ]
    },
    {
      "cell_type": "code",
      "metadata": {
        "id": "E2bKxBTct93u",
        "colab_type": "code",
        "colab": {}
      },
      "source": [
        "# Update only valid accounts.\n",
        "def resetIndex(df1):\n",
        "  df1.reset_index(inplace=True)\n",
        "  return df1\n",
        "\n",
        "# Remove all Test Udacity accounts.\n",
        "filter_enrollments = enrollments[enrollments['is_udacity'] == False]\n",
        "valid_accounts = filter_enrollments['account_key']\n",
        "filter_engagements = engagements[engagements['acct'].isin(valid_accounts)]\n",
        "valid_submissions = project_submissions['account_key'].isin(valid_accounts)\n",
        "filter_project_submissions = project_submissions[valid_submissions]"
      ],
      "execution_count": 0,
      "outputs": []
    },
    {
      "cell_type": "code",
      "metadata": {
        "id": "Msv-DuWGJYTx",
        "colab_type": "code",
        "colab": {}
      },
      "source": [
        "enrollments = resetIndex(filter_enrollments)\n",
        "engagements = resetIndex(filter_engagements)\n",
        "project_submissions = resetIndex(filter_project_submissions)"
      ],
      "execution_count": 0,
      "outputs": []
    },
    {
      "cell_type": "markdown",
      "metadata": {
        "id": "uLEl_Kr5a4ZN",
        "colab_type": "text"
      },
      "source": [
        "## Size After Cleaning"
      ]
    },
    {
      "cell_type": "code",
      "metadata": {
        "id": "nEzs3XUbXViQ",
        "colab_type": "code",
        "colab": {
          "base_uri": "https://localhost:8080/",
          "height": 34
        },
        "outputId": "748219fb-3cca-44f4-cd4e-1e1dd6ee8d9b"
      },
      "source": [
        "enrollments.shape, engagements.shape, project_submissions.shape"
      ],
      "execution_count": 607,
      "outputs": [
        {
          "output_type": "execute_result",
          "data": {
            "text/plain": [
              "((1622, 8), (2299629, 13), (3626, 7))"
            ]
          },
          "metadata": {
            "tags": []
          },
          "execution_count": 607
        }
      ]
    },
    {
      "cell_type": "markdown",
      "metadata": {
        "id": "DGFA3qNozEN0",
        "colab_type": "text"
      },
      "source": [
        "# Exploration"
      ]
    },
    {
      "cell_type": "markdown",
      "metadata": {
        "id": "x59Gy8eMJgbl",
        "colab_type": "text"
      },
      "source": [
        "### Get Total Unique Engagements, Enrollments, Submissions"
      ]
    },
    {
      "cell_type": "code",
      "metadata": {
        "id": "XDvS5hHO-MUf",
        "colab_type": "code",
        "colab": {}
      },
      "source": [
        "uniq_student_engagement=engagements.drop_duplicates(subset=['acct'])\n",
        "uniq_student_enrollment = enrollments.drop_duplicates(subset=['account_key'])\n",
        "uniq_student_submission = project_submissions.drop_duplicates(subset=['account_key'])\n"
      ],
      "execution_count": 0,
      "outputs": []
    },
    {
      "cell_type": "code",
      "metadata": {
        "id": "ylqqtK5t-M_X",
        "colab_type": "code",
        "outputId": "5bbd6f71-18f0-486b-8b5c-2eea140db2ff",
        "colab": {
          "base_uri": "https://localhost:8080/",
          "height": 34
        }
      },
      "source": [
        "uniq_student_engagement.size"
      ],
      "execution_count": 609,
      "outputs": [
        {
          "output_type": "execute_result",
          "data": {
            "text/plain": [
              "16042"
            ]
          },
          "metadata": {
            "tags": []
          },
          "execution_count": 609
        }
      ]
    },
    {
      "cell_type": "code",
      "metadata": {
        "id": "K3gY3dRB-Veg",
        "colab_type": "code",
        "outputId": "79c5a93c-85e9-4214-8cd5-2974ac021fd7",
        "colab": {
          "base_uri": "https://localhost:8080/",
          "height": 34
        }
      },
      "source": [
        "uniq_student_enrollment.size"
      ],
      "execution_count": 610,
      "outputs": [
        {
          "output_type": "execute_result",
          "data": {
            "text/plain": [
              "10368"
            ]
          },
          "metadata": {
            "tags": []
          },
          "execution_count": 610
        }
      ]
    },
    {
      "cell_type": "code",
      "metadata": {
        "id": "NtXAsEaP-Xd9",
        "colab_type": "code",
        "outputId": "4f50c492-8ff7-41f8-e5e6-4c43cdf8e689",
        "colab": {
          "base_uri": "https://localhost:8080/",
          "height": 34
        }
      },
      "source": [
        "uniq_student_submission.size"
      ],
      "execution_count": 611,
      "outputs": [
        {
          "output_type": "execute_result",
          "data": {
            "text/plain": [
              "5159"
            ]
          },
          "metadata": {
            "tags": []
          },
          "execution_count": 611
        }
      ]
    },
    {
      "cell_type": "code",
      "metadata": {
        "id": "fu1H4fBP_3Nv",
        "colab_type": "code",
        "outputId": "8e45a9fd-7885-4414-aec1-43d3ce95953a",
        "colab": {
          "base_uri": "https://localhost:8080/",
          "height": 204
        }
      },
      "source": [
        "uniq_student_enrollment.tail(5)"
      ],
      "execution_count": 612,
      "outputs": [
        {
          "output_type": "execute_result",
          "data": {
            "text/html": [
              "<div>\n",
              "<style scoped>\n",
              "    .dataframe tbody tr th:only-of-type {\n",
              "        vertical-align: middle;\n",
              "    }\n",
              "\n",
              "    .dataframe tbody tr th {\n",
              "        vertical-align: top;\n",
              "    }\n",
              "\n",
              "    .dataframe thead th {\n",
              "        text-align: right;\n",
              "    }\n",
              "</style>\n",
              "<table border=\"1\" class=\"dataframe\">\n",
              "  <thead>\n",
              "    <tr style=\"text-align: right;\">\n",
              "      <th></th>\n",
              "      <th>index</th>\n",
              "      <th>account_key</th>\n",
              "      <th>status</th>\n",
              "      <th>join_date</th>\n",
              "      <th>cancel_date</th>\n",
              "      <th>days_to_cancel</th>\n",
              "      <th>is_udacity</th>\n",
              "      <th>is_canceled</th>\n",
              "    </tr>\n",
              "  </thead>\n",
              "  <tbody>\n",
              "    <tr>\n",
              "      <th>1617</th>\n",
              "      <td>1635</td>\n",
              "      <td>1176</td>\n",
              "      <td>current</td>\n",
              "      <td>2015-08-12</td>\n",
              "      <td>NaT</td>\n",
              "      <td>NaN</td>\n",
              "      <td>False</td>\n",
              "      <td>False</td>\n",
              "    </tr>\n",
              "    <tr>\n",
              "      <th>1618</th>\n",
              "      <td>1636</td>\n",
              "      <td>1110</td>\n",
              "      <td>current</td>\n",
              "      <td>2015-08-13</td>\n",
              "      <td>NaT</td>\n",
              "      <td>NaN</td>\n",
              "      <td>False</td>\n",
              "      <td>False</td>\n",
              "    </tr>\n",
              "    <tr>\n",
              "      <th>1619</th>\n",
              "      <td>1637</td>\n",
              "      <td>1116</td>\n",
              "      <td>canceled</td>\n",
              "      <td>2015-08-15</td>\n",
              "      <td>2015-08-18</td>\n",
              "      <td>3.0</td>\n",
              "      <td>False</td>\n",
              "      <td>True</td>\n",
              "    </tr>\n",
              "    <tr>\n",
              "      <th>1620</th>\n",
              "      <td>1638</td>\n",
              "      <td>874</td>\n",
              "      <td>current</td>\n",
              "      <td>2015-08-22</td>\n",
              "      <td>NaT</td>\n",
              "      <td>NaN</td>\n",
              "      <td>False</td>\n",
              "      <td>False</td>\n",
              "    </tr>\n",
              "    <tr>\n",
              "      <th>1621</th>\n",
              "      <td>1639</td>\n",
              "      <td>686</td>\n",
              "      <td>current</td>\n",
              "      <td>2015-08-23</td>\n",
              "      <td>NaT</td>\n",
              "      <td>NaN</td>\n",
              "      <td>False</td>\n",
              "      <td>False</td>\n",
              "    </tr>\n",
              "  </tbody>\n",
              "</table>\n",
              "</div>"
            ],
            "text/plain": [
              "      index  account_key    status  ... days_to_cancel is_udacity  is_canceled\n",
              "1617   1635         1176   current  ...            NaN      False        False\n",
              "1618   1636         1110   current  ...            NaN      False        False\n",
              "1619   1637         1116  canceled  ...            3.0      False         True\n",
              "1620   1638          874   current  ...            NaN      False        False\n",
              "1621   1639          686   current  ...            NaN      False        False\n",
              "\n",
              "[5 rows x 8 columns]"
            ]
          },
          "metadata": {
            "tags": []
          },
          "execution_count": 612
        }
      ]
    },
    {
      "cell_type": "code",
      "metadata": {
        "id": "4EuDvx81Amf7",
        "colab_type": "code",
        "outputId": "5a22085c-0bee-424d-bd6d-ab5da03b1a53",
        "colab": {
          "base_uri": "https://localhost:8080/",
          "height": 309
        }
      },
      "source": [
        "uniq_student_engagement.tail(5)"
      ],
      "execution_count": 613,
      "outputs": [
        {
          "output_type": "execute_result",
          "data": {
            "text/html": [
              "<div>\n",
              "<style scoped>\n",
              "    .dataframe tbody tr th:only-of-type {\n",
              "        vertical-align: middle;\n",
              "    }\n",
              "\n",
              "    .dataframe tbody tr th {\n",
              "        vertical-align: top;\n",
              "    }\n",
              "\n",
              "    .dataframe thead th {\n",
              "        text-align: right;\n",
              "    }\n",
              "</style>\n",
              "<table border=\"1\" class=\"dataframe\">\n",
              "  <thead>\n",
              "    <tr style=\"text-align: right;\">\n",
              "      <th></th>\n",
              "      <th>index</th>\n",
              "      <th>utc_date</th>\n",
              "      <th>acct</th>\n",
              "      <th>registration_date</th>\n",
              "      <th>subscription_start</th>\n",
              "      <th>course_key</th>\n",
              "      <th>sibling_key</th>\n",
              "      <th>course_title</th>\n",
              "      <th>has_visited</th>\n",
              "      <th>total_minutes_visited</th>\n",
              "      <th>lessons_completed</th>\n",
              "      <th>projects_completed</th>\n",
              "      <th>account_key</th>\n",
              "    </tr>\n",
              "  </thead>\n",
              "  <tbody>\n",
              "    <tr>\n",
              "      <th>2299249</th>\n",
              "      <td>2308859</td>\n",
              "      <td>2015-08-23</td>\n",
              "      <td>686</td>\n",
              "      <td>2012-10-20</td>\n",
              "      <td>2015-08-23</td>\n",
              "      <td>ud032-nd</td>\n",
              "      <td>ud032</td>\n",
              "      <td>Data Wrangling with MongoDB</td>\n",
              "      <td>0.0</td>\n",
              "      <td>0.0</td>\n",
              "      <td>0.0</td>\n",
              "      <td>0.0</td>\n",
              "      <td>u28015558</td>\n",
              "    </tr>\n",
              "    <tr>\n",
              "      <th>2299268</th>\n",
              "      <td>2308878</td>\n",
              "      <td>2015-08-23</td>\n",
              "      <td>1067</td>\n",
              "      <td>2012-08-30</td>\n",
              "      <td>2015-08-22</td>\n",
              "      <td>ud120-nd</td>\n",
              "      <td>ud120</td>\n",
              "      <td>Intro to Machine Learning</td>\n",
              "      <td>0.0</td>\n",
              "      <td>0.0</td>\n",
              "      <td>0.0</td>\n",
              "      <td>0.0</td>\n",
              "      <td>u20522597</td>\n",
              "    </tr>\n",
              "    <tr>\n",
              "      <th>2299363</th>\n",
              "      <td>2308973</td>\n",
              "      <td>2015-08-23</td>\n",
              "      <td>874</td>\n",
              "      <td>2015-08-05</td>\n",
              "      <td>2015-08-22</td>\n",
              "      <td>ud651-nd</td>\n",
              "      <td>ud651</td>\n",
              "      <td>Data Analysis with R</td>\n",
              "      <td>0.0</td>\n",
              "      <td>0.0</td>\n",
              "      <td>0.0</td>\n",
              "      <td>0.0</td>\n",
              "      <td>4804719296</td>\n",
              "    </tr>\n",
              "    <tr>\n",
              "      <th>2299458</th>\n",
              "      <td>2309068</td>\n",
              "      <td>2015-08-23</td>\n",
              "      <td>754</td>\n",
              "      <td>2015-01-22</td>\n",
              "      <td>2015-08-21</td>\n",
              "      <td>ud359-nd</td>\n",
              "      <td>ud359</td>\n",
              "      <td>Intro to Data Science</td>\n",
              "      <td>0.0</td>\n",
              "      <td>0.0</td>\n",
              "      <td>0.0</td>\n",
              "      <td>0.0</td>\n",
              "      <td>3567109205</td>\n",
              "    </tr>\n",
              "    <tr>\n",
              "      <th>2299553</th>\n",
              "      <td>2309163</td>\n",
              "      <td>2015-08-23</td>\n",
              "      <td>854</td>\n",
              "      <td>2012-10-12</td>\n",
              "      <td>2015-08-23</td>\n",
              "      <td>ud359-nd</td>\n",
              "      <td>ud359</td>\n",
              "      <td>Intro to Data Science</td>\n",
              "      <td>0.0</td>\n",
              "      <td>0.0</td>\n",
              "      <td>0.0</td>\n",
              "      <td>0.0</td>\n",
              "      <td>u26334020</td>\n",
              "    </tr>\n",
              "  </tbody>\n",
              "</table>\n",
              "</div>"
            ],
            "text/plain": [
              "           index    utc_date  ...  projects_completed account_key\n",
              "2299249  2308859  2015-08-23  ...                 0.0   u28015558\n",
              "2299268  2308878  2015-08-23  ...                 0.0   u20522597\n",
              "2299363  2308973  2015-08-23  ...                 0.0  4804719296\n",
              "2299458  2309068  2015-08-23  ...                 0.0  3567109205\n",
              "2299553  2309163  2015-08-23  ...                 0.0   u26334020\n",
              "\n",
              "[5 rows x 13 columns]"
            ]
          },
          "metadata": {
            "tags": []
          },
          "execution_count": 613
        }
      ]
    },
    {
      "cell_type": "code",
      "metadata": {
        "id": "o-n5QJVuBNRU",
        "colab_type": "code",
        "colab": {}
      },
      "source": [
        "uniq_enrolled_accounts = uniq_student_enrollment['account_key']\n",
        "uniq_engagement_accounts = uniq_student_engagement['acct']"
      ],
      "execution_count": 0,
      "outputs": []
    },
    {
      "cell_type": "code",
      "metadata": {
        "id": "wmqqXfooEFr4",
        "colab_type": "code",
        "outputId": "cb2fadf3-65b9-43fd-e37b-73b6f354e1e6",
        "colab": {
          "base_uri": "https://localhost:8080/",
          "height": 34
        }
      },
      "source": [
        "uniq_enrolled_accounts.size"
      ],
      "execution_count": 615,
      "outputs": [
        {
          "output_type": "execute_result",
          "data": {
            "text/plain": [
              "1296"
            ]
          },
          "metadata": {
            "tags": []
          },
          "execution_count": 615
        }
      ]
    },
    {
      "cell_type": "code",
      "metadata": {
        "id": "v5sYyOuWF2Qk",
        "colab_type": "code",
        "outputId": "6092b60e-79d4-46f2-fd9c-64f89d7b0666",
        "colab": {
          "base_uri": "https://localhost:8080/",
          "height": 34
        }
      },
      "source": [
        "uniq_engagement_accounts.size"
      ],
      "execution_count": 616,
      "outputs": [
        {
          "output_type": "execute_result",
          "data": {
            "text/plain": [
              "1234"
            ]
          },
          "metadata": {
            "tags": []
          },
          "execution_count": 616
        }
      ]
    },
    {
      "cell_type": "code",
      "metadata": {
        "id": "CDjKdfmvC_fm",
        "colab_type": "code",
        "outputId": "8c6ff1a4-d9e2-4020-8021-298657dfeeb1",
        "colab": {
          "base_uri": "https://localhost:8080/",
          "height": 119
        }
      },
      "source": [
        "uniq_engagement_accounts.head(5)"
      ],
      "execution_count": 617,
      "outputs": [
        {
          "output_type": "execute_result",
          "data": {
            "text/plain": [
              "0         44\n",
              "4783     258\n",
              "8799     366\n",
              "11201    587\n",
              "15287    943\n",
              "Name: acct, dtype: int64"
            ]
          },
          "metadata": {
            "tags": []
          },
          "execution_count": 617
        }
      ]
    },
    {
      "cell_type": "code",
      "metadata": {
        "id": "D5KU7GDDGShS",
        "colab_type": "code",
        "outputId": "252a4db4-88f1-4aa3-d3d0-abd411be47f3",
        "colab": {
          "base_uri": "https://localhost:8080/",
          "height": 119
        }
      },
      "source": [
        "uniq_enrolled_accounts.head(5)"
      ],
      "execution_count": 618,
      "outputs": [
        {
          "output_type": "execute_result",
          "data": {
            "text/plain": [
              "0     700\n",
              "1     429\n",
              "3      60\n",
              "6    1300\n",
              "7     369\n",
              "Name: account_key, dtype: int64"
            ]
          },
          "metadata": {
            "tags": []
          },
          "execution_count": 618
        }
      ]
    },
    {
      "cell_type": "markdown",
      "metadata": {
        "id": "rXQVJb_1Jph_",
        "colab_type": "text"
      },
      "source": [
        "### Get total Unique Accounts Enrolled but Not Engaged "
      ]
    },
    {
      "cell_type": "code",
      "metadata": {
        "id": "FEqF_FzpIDSh",
        "colab_type": "code",
        "outputId": "3851b7b7-d8be-4893-b1c6-7ff588ae8f07",
        "colab": {
          "base_uri": "https://localhost:8080/",
          "height": 221
        }
      },
      "source": [
        "enrolled_not_engaged_accounts = uniq_enrolled_accounts[~uniq_enrolled_accounts.isin(uniq_engagement_accounts)]\n",
        "enrolled_not_engaged_accounts"
      ],
      "execution_count": 619,
      "outputs": [
        {
          "output_type": "execute_result",
          "data": {
            "text/plain": [
              "56      1219\n",
              "66       871\n",
              "184     1218\n",
              "207      654\n",
              "211      964\n",
              "        ... \n",
              "1483    1079\n",
              "1525    1063\n",
              "1545    1270\n",
              "1590    1291\n",
              "1595    1241\n",
              "Name: account_key, Length: 62, dtype: int64"
            ]
          },
          "metadata": {
            "tags": []
          },
          "execution_count": 619
        }
      ]
    },
    {
      "cell_type": "markdown",
      "metadata": {
        "id": "qM9gxaJjjsDH",
        "colab_type": "text"
      },
      "source": [
        "### Students Enrolled But Not Engaged"
      ]
    },
    {
      "cell_type": "code",
      "metadata": {
        "id": "aoNA1JunJPEY",
        "colab_type": "code",
        "outputId": "4b106c9c-67a3-4927-ee36-a4ddb29b62fb",
        "colab": {
          "base_uri": "https://localhost:8080/",
          "height": 419
        }
      },
      "source": [
        "uniq_student_enrollment[uniq_student_enrollment['account_key'].isin(enrolled_not_engaged_accounts)]"
      ],
      "execution_count": 620,
      "outputs": [
        {
          "output_type": "execute_result",
          "data": {
            "text/html": [
              "<div>\n",
              "<style scoped>\n",
              "    .dataframe tbody tr th:only-of-type {\n",
              "        vertical-align: middle;\n",
              "    }\n",
              "\n",
              "    .dataframe tbody tr th {\n",
              "        vertical-align: top;\n",
              "    }\n",
              "\n",
              "    .dataframe thead th {\n",
              "        text-align: right;\n",
              "    }\n",
              "</style>\n",
              "<table border=\"1\" class=\"dataframe\">\n",
              "  <thead>\n",
              "    <tr style=\"text-align: right;\">\n",
              "      <th></th>\n",
              "      <th>index</th>\n",
              "      <th>account_key</th>\n",
              "      <th>status</th>\n",
              "      <th>join_date</th>\n",
              "      <th>cancel_date</th>\n",
              "      <th>days_to_cancel</th>\n",
              "      <th>is_udacity</th>\n",
              "      <th>is_canceled</th>\n",
              "    </tr>\n",
              "  </thead>\n",
              "  <tbody>\n",
              "    <tr>\n",
              "      <th>56</th>\n",
              "      <td>65</td>\n",
              "      <td>1219</td>\n",
              "      <td>canceled</td>\n",
              "      <td>2014-11-12</td>\n",
              "      <td>2014-11-12</td>\n",
              "      <td>0.0</td>\n",
              "      <td>False</td>\n",
              "      <td>True</td>\n",
              "    </tr>\n",
              "    <tr>\n",
              "      <th>66</th>\n",
              "      <td>75</td>\n",
              "      <td>871</td>\n",
              "      <td>canceled</td>\n",
              "      <td>2014-11-13</td>\n",
              "      <td>2014-11-13</td>\n",
              "      <td>0.0</td>\n",
              "      <td>False</td>\n",
              "      <td>True</td>\n",
              "    </tr>\n",
              "    <tr>\n",
              "      <th>184</th>\n",
              "      <td>193</td>\n",
              "      <td>1218</td>\n",
              "      <td>canceled</td>\n",
              "      <td>2014-11-15</td>\n",
              "      <td>2014-11-15</td>\n",
              "      <td>0.0</td>\n",
              "      <td>False</td>\n",
              "      <td>True</td>\n",
              "    </tr>\n",
              "    <tr>\n",
              "      <th>207</th>\n",
              "      <td>216</td>\n",
              "      <td>654</td>\n",
              "      <td>canceled</td>\n",
              "      <td>2014-12-04</td>\n",
              "      <td>2014-12-04</td>\n",
              "      <td>0.0</td>\n",
              "      <td>False</td>\n",
              "      <td>True</td>\n",
              "    </tr>\n",
              "    <tr>\n",
              "      <th>211</th>\n",
              "      <td>220</td>\n",
              "      <td>964</td>\n",
              "      <td>canceled</td>\n",
              "      <td>2014-12-04</td>\n",
              "      <td>2014-12-04</td>\n",
              "      <td>0.0</td>\n",
              "      <td>False</td>\n",
              "      <td>True</td>\n",
              "    </tr>\n",
              "    <tr>\n",
              "      <th>...</th>\n",
              "      <td>...</td>\n",
              "      <td>...</td>\n",
              "      <td>...</td>\n",
              "      <td>...</td>\n",
              "      <td>...</td>\n",
              "      <td>...</td>\n",
              "      <td>...</td>\n",
              "      <td>...</td>\n",
              "    </tr>\n",
              "    <tr>\n",
              "      <th>1483</th>\n",
              "      <td>1501</td>\n",
              "      <td>1079</td>\n",
              "      <td>canceled</td>\n",
              "      <td>2015-02-09</td>\n",
              "      <td>2015-02-09</td>\n",
              "      <td>0.0</td>\n",
              "      <td>False</td>\n",
              "      <td>True</td>\n",
              "    </tr>\n",
              "    <tr>\n",
              "      <th>1525</th>\n",
              "      <td>1543</td>\n",
              "      <td>1063</td>\n",
              "      <td>canceled</td>\n",
              "      <td>2015-07-14</td>\n",
              "      <td>2015-07-14</td>\n",
              "      <td>0.0</td>\n",
              "      <td>False</td>\n",
              "      <td>True</td>\n",
              "    </tr>\n",
              "    <tr>\n",
              "      <th>1545</th>\n",
              "      <td>1563</td>\n",
              "      <td>1270</td>\n",
              "      <td>canceled</td>\n",
              "      <td>2015-07-20</td>\n",
              "      <td>2015-07-20</td>\n",
              "      <td>0.0</td>\n",
              "      <td>False</td>\n",
              "      <td>True</td>\n",
              "    </tr>\n",
              "    <tr>\n",
              "      <th>1590</th>\n",
              "      <td>1608</td>\n",
              "      <td>1291</td>\n",
              "      <td>canceled</td>\n",
              "      <td>2015-06-03</td>\n",
              "      <td>2015-06-03</td>\n",
              "      <td>0.0</td>\n",
              "      <td>False</td>\n",
              "      <td>True</td>\n",
              "    </tr>\n",
              "    <tr>\n",
              "      <th>1595</th>\n",
              "      <td>1613</td>\n",
              "      <td>1241</td>\n",
              "      <td>canceled</td>\n",
              "      <td>2015-06-09</td>\n",
              "      <td>2015-06-09</td>\n",
              "      <td>0.0</td>\n",
              "      <td>False</td>\n",
              "      <td>True</td>\n",
              "    </tr>\n",
              "  </tbody>\n",
              "</table>\n",
              "<p>62 rows × 8 columns</p>\n",
              "</div>"
            ],
            "text/plain": [
              "      index  account_key    status  ... days_to_cancel is_udacity  is_canceled\n",
              "56       65         1219  canceled  ...            0.0      False         True\n",
              "66       75          871  canceled  ...            0.0      False         True\n",
              "184     193         1218  canceled  ...            0.0      False         True\n",
              "207     216          654  canceled  ...            0.0      False         True\n",
              "211     220          964  canceled  ...            0.0      False         True\n",
              "...     ...          ...       ...  ...            ...        ...          ...\n",
              "1483   1501         1079  canceled  ...            0.0      False         True\n",
              "1525   1543         1063  canceled  ...            0.0      False         True\n",
              "1545   1563         1270  canceled  ...            0.0      False         True\n",
              "1590   1608         1291  canceled  ...            0.0      False         True\n",
              "1595   1613         1241  canceled  ...            0.0      False         True\n",
              "\n",
              "[62 rows x 8 columns]"
            ]
          },
          "metadata": {
            "tags": []
          },
          "execution_count": 620
        }
      ]
    },
    {
      "cell_type": "markdown",
      "metadata": {
        "id": "cVoA1djVXg9z",
        "colab_type": "text"
      },
      "source": [
        "## **Lets look at the project submissions grouped by accounts.**"
      ]
    },
    {
      "cell_type": "code",
      "metadata": {
        "id": "yKJmnE7dePKy",
        "colab_type": "code",
        "outputId": "fe5078b8-4ea5-4164-8194-ccc95ecbc1c7",
        "colab": {
          "base_uri": "https://localhost:8080/",
          "height": 204
        }
      },
      "source": [
        "project_submissions.head(5)"
      ],
      "execution_count": 621,
      "outputs": [
        {
          "output_type": "execute_result",
          "data": {
            "text/html": [
              "<div>\n",
              "<style scoped>\n",
              "    .dataframe tbody tr th:only-of-type {\n",
              "        vertical-align: middle;\n",
              "    }\n",
              "\n",
              "    .dataframe tbody tr th {\n",
              "        vertical-align: top;\n",
              "    }\n",
              "\n",
              "    .dataframe thead th {\n",
              "        text-align: right;\n",
              "    }\n",
              "</style>\n",
              "<table border=\"1\" class=\"dataframe\">\n",
              "  <thead>\n",
              "    <tr style=\"text-align: right;\">\n",
              "      <th></th>\n",
              "      <th>index</th>\n",
              "      <th>creation_date</th>\n",
              "      <th>completion_date</th>\n",
              "      <th>assigned_rating</th>\n",
              "      <th>account_key</th>\n",
              "      <th>lesson_key</th>\n",
              "      <th>processing_state</th>\n",
              "    </tr>\n",
              "  </thead>\n",
              "  <tbody>\n",
              "    <tr>\n",
              "      <th>0</th>\n",
              "      <td>0</td>\n",
              "      <td>2015-01-14</td>\n",
              "      <td>2015-01-16</td>\n",
              "      <td>UNGRADED</td>\n",
              "      <td>256</td>\n",
              "      <td>3176718735</td>\n",
              "      <td>EVALUATED</td>\n",
              "    </tr>\n",
              "    <tr>\n",
              "      <th>1</th>\n",
              "      <td>1</td>\n",
              "      <td>2015-01-10</td>\n",
              "      <td>2015-01-13</td>\n",
              "      <td>INCOMPLETE</td>\n",
              "      <td>256</td>\n",
              "      <td>3176718735</td>\n",
              "      <td>EVALUATED</td>\n",
              "    </tr>\n",
              "    <tr>\n",
              "      <th>2</th>\n",
              "      <td>2</td>\n",
              "      <td>2015-01-20</td>\n",
              "      <td>2015-01-20</td>\n",
              "      <td>PASSED</td>\n",
              "      <td>256</td>\n",
              "      <td>3176718735</td>\n",
              "      <td>EVALUATED</td>\n",
              "    </tr>\n",
              "    <tr>\n",
              "      <th>3</th>\n",
              "      <td>3</td>\n",
              "      <td>2015-03-10</td>\n",
              "      <td>2015-03-13</td>\n",
              "      <td>PASSED</td>\n",
              "      <td>434</td>\n",
              "      <td>3176718735</td>\n",
              "      <td>EVALUATED</td>\n",
              "    </tr>\n",
              "    <tr>\n",
              "      <th>4</th>\n",
              "      <td>4</td>\n",
              "      <td>2015-02-17</td>\n",
              "      <td>2015-03-03</td>\n",
              "      <td>INCOMPLETE</td>\n",
              "      <td>434</td>\n",
              "      <td>3176718735</td>\n",
              "      <td>EVALUATED</td>\n",
              "    </tr>\n",
              "  </tbody>\n",
              "</table>\n",
              "</div>"
            ],
            "text/plain": [
              "   index creation_date  ...  lesson_key processing_state\n",
              "0      0    2015-01-14  ...  3176718735        EVALUATED\n",
              "1      1    2015-01-10  ...  3176718735        EVALUATED\n",
              "2      2    2015-01-20  ...  3176718735        EVALUATED\n",
              "3      3    2015-03-10  ...  3176718735        EVALUATED\n",
              "4      4    2015-02-17  ...  3176718735        EVALUATED\n",
              "\n",
              "[5 rows x 7 columns]"
            ]
          },
          "metadata": {
            "tags": []
          },
          "execution_count": 621
        }
      ]
    },
    {
      "cell_type": "code",
      "metadata": {
        "id": "fJiCy4o6XqFN",
        "colab_type": "code",
        "colab": {}
      },
      "source": [
        "submissions_groupby_account = project_submissions.groupby(by='account_key', squeeze=True)"
      ],
      "execution_count": 0,
      "outputs": []
    },
    {
      "cell_type": "markdown",
      "metadata": {
        "id": "fZZCRRw6m3yi",
        "colab_type": "text"
      },
      "source": [
        "### Project submissions in descending order"
      ]
    },
    {
      "cell_type": "code",
      "metadata": {
        "id": "7G3bwbFUZO0v",
        "colab_type": "code",
        "outputId": "e100ff98-5f52-440a-f8ca-25eb4961d02d",
        "colab": {
          "base_uri": "https://localhost:8080/",
          "height": 238
        }
      },
      "source": [
        "submissions_groupby_account.size().sort_values(ascending=False)"
      ],
      "execution_count": 623,
      "outputs": [
        {
          "output_type": "execute_result",
          "data": {
            "text/plain": [
              "account_key\n",
              "569    27\n",
              "281    20\n",
              "427    17\n",
              "426    17\n",
              "641    17\n",
              "       ..\n",
              "88      1\n",
              "534     1\n",
              "243     1\n",
              "771     1\n",
              "64      1\n",
              "Length: 737, dtype: int64"
            ]
          },
          "metadata": {
            "tags": []
          },
          "execution_count": 623
        }
      ]
    },
    {
      "cell_type": "markdown",
      "metadata": {
        "id": "0ZYL9OpEnGHP",
        "colab_type": "text"
      },
      "source": [
        "### Segregate Submitted Projects by their submission status(Assigned Rating)"
      ]
    },
    {
      "cell_type": "code",
      "metadata": {
        "id": "KApT42GEedDv",
        "colab_type": "code",
        "colab": {}
      },
      "source": [
        "project_grouped = project_submissions.groupby(by=['account_key', 'assigned_rating'])"
      ],
      "execution_count": 0,
      "outputs": []
    },
    {
      "cell_type": "code",
      "metadata": {
        "id": "KSiU717IerLp",
        "colab_type": "code",
        "outputId": "a13e18b6-55c1-4622-e707-c4fc2ed811e3",
        "colab": {
          "base_uri": "https://localhost:8080/",
          "height": 238
        }
      },
      "source": [
        "project_grouped_size=project_grouped.size()\n",
        "project_grouped_size"
      ],
      "execution_count": 625,
      "outputs": [
        {
          "output_type": "execute_result",
          "data": {
            "text/plain": [
              "account_key  assigned_rating\n",
              "0            INCOMPLETE         5\n",
              "             PASSED             2\n",
              "1            INCOMPLETE         1\n",
              "             PASSED             2\n",
              "2            PASSED             1\n",
              "                               ..\n",
              "1263         PASSED             1\n",
              "1274         PASSED             1\n",
              "1279         PASSED             1\n",
              "1292         INCOMPLETE         1\n",
              "1298         INCOMPLETE         2\n",
              "Length: 1398, dtype: int64"
            ]
          },
          "metadata": {
            "tags": []
          },
          "execution_count": 625
        }
      ]
    },
    {
      "cell_type": "code",
      "metadata": {
        "id": "q09AnxMNngoJ",
        "colab_type": "code",
        "outputId": "bf5075f9-7283-4889-f434-f60918a214bf",
        "colab": {
          "base_uri": "https://localhost:8080/",
          "height": 238
        }
      },
      "source": [
        "project_grouped_size.sort_values(ascending=False)"
      ],
      "execution_count": 626,
      "outputs": [
        {
          "output_type": "execute_result",
          "data": {
            "text/plain": [
              "account_key  assigned_rating\n",
              "569          INCOMPLETE         20\n",
              "281          INCOMPLETE         16\n",
              "557          INCOMPLETE         13\n",
              "641          INCOMPLETE         12\n",
              "427          INCOMPLETE         11\n",
              "                                ..\n",
              "212          PASSED              1\n",
              "493          INCOMPLETE          1\n",
              "214          UNGRADED            1\n",
              "215          INCOMPLETE          1\n",
              "353          PASSED              1\n",
              "Length: 1398, dtype: int64"
            ]
          },
          "metadata": {
            "tags": []
          },
          "execution_count": 626
        }
      ]
    },
    {
      "cell_type": "code",
      "metadata": {
        "id": "u926B79nh3Sw",
        "colab_type": "code",
        "colab": {}
      },
      "source": [
        "project_grouped_sample = project_grouped.size().unstack(fill_value=0).head(10)"
      ],
      "execution_count": 0,
      "outputs": []
    },
    {
      "cell_type": "code",
      "metadata": {
        "id": "qBSGstLyjXGM",
        "colab_type": "code",
        "outputId": "5d8dcb23-6b23-4449-d2e7-532c454e8f14",
        "colab": {
          "base_uri": "https://localhost:8080/",
          "height": 294
        }
      },
      "source": [
        "project_grouped_sample.plot.bar()"
      ],
      "execution_count": 628,
      "outputs": [
        {
          "output_type": "execute_result",
          "data": {
            "text/plain": [
              "<matplotlib.axes._subplots.AxesSubplot at 0x7efda8130cf8>"
            ]
          },
          "metadata": {
            "tags": []
          },
          "execution_count": 628
        },
        {
          "output_type": "display_data",
          "data": {
            "image/png": "[encoded data removed]",
            "text/plain": [
              "<Figure size 432x288 with 1 Axes>"
            ]
          },
          "metadata": {
            "tags": []
          }
        }
      ]
    },
    {
      "cell_type": "code",
      "metadata": {
        "id": "parchZ85llnH",
        "colab_type": "code",
        "outputId": "1ec1ecce-0ceb-44b7-8a7a-416319ca05b0",
        "colab": {
          "base_uri": "https://localhost:8080/",
          "height": 450
        }
      },
      "source": [
        "grouped_ratings = project_grouped.size().unstack(fill_value=0)\n",
        "grouped_ratings"
      ],
      "execution_count": 629,
      "outputs": [
        {
          "output_type": "execute_result",
          "data": {
            "text/html": [
              "<div>\n",
              "<style scoped>\n",
              "    .dataframe tbody tr th:only-of-type {\n",
              "        vertical-align: middle;\n",
              "    }\n",
              "\n",
              "    .dataframe tbody tr th {\n",
              "        vertical-align: top;\n",
              "    }\n",
              "\n",
              "    .dataframe thead th {\n",
              "        text-align: right;\n",
              "    }\n",
              "</style>\n",
              "<table border=\"1\" class=\"dataframe\">\n",
              "  <thead>\n",
              "    <tr style=\"text-align: right;\">\n",
              "      <th>assigned_rating</th>\n",
              "      <th>DISTINCTION</th>\n",
              "      <th>INCOMPLETE</th>\n",
              "      <th>PASSED</th>\n",
              "      <th>UNGRADED</th>\n",
              "    </tr>\n",
              "    <tr>\n",
              "      <th>account_key</th>\n",
              "      <th></th>\n",
              "      <th></th>\n",
              "      <th></th>\n",
              "      <th></th>\n",
              "    </tr>\n",
              "  </thead>\n",
              "  <tbody>\n",
              "    <tr>\n",
              "      <th>0</th>\n",
              "      <td>0</td>\n",
              "      <td>5</td>\n",
              "      <td>2</td>\n",
              "      <td>0</td>\n",
              "    </tr>\n",
              "    <tr>\n",
              "      <th>1</th>\n",
              "      <td>0</td>\n",
              "      <td>1</td>\n",
              "      <td>2</td>\n",
              "      <td>0</td>\n",
              "    </tr>\n",
              "    <tr>\n",
              "      <th>2</th>\n",
              "      <td>0</td>\n",
              "      <td>0</td>\n",
              "      <td>1</td>\n",
              "      <td>0</td>\n",
              "    </tr>\n",
              "    <tr>\n",
              "      <th>3</th>\n",
              "      <td>0</td>\n",
              "      <td>3</td>\n",
              "      <td>2</td>\n",
              "      <td>0</td>\n",
              "    </tr>\n",
              "    <tr>\n",
              "      <th>4</th>\n",
              "      <td>0</td>\n",
              "      <td>5</td>\n",
              "      <td>2</td>\n",
              "      <td>0</td>\n",
              "    </tr>\n",
              "    <tr>\n",
              "      <th>...</th>\n",
              "      <td>...</td>\n",
              "      <td>...</td>\n",
              "      <td>...</td>\n",
              "      <td>...</td>\n",
              "    </tr>\n",
              "    <tr>\n",
              "      <th>1263</th>\n",
              "      <td>0</td>\n",
              "      <td>0</td>\n",
              "      <td>1</td>\n",
              "      <td>0</td>\n",
              "    </tr>\n",
              "    <tr>\n",
              "      <th>1274</th>\n",
              "      <td>0</td>\n",
              "      <td>0</td>\n",
              "      <td>1</td>\n",
              "      <td>0</td>\n",
              "    </tr>\n",
              "    <tr>\n",
              "      <th>1279</th>\n",
              "      <td>0</td>\n",
              "      <td>0</td>\n",
              "      <td>1</td>\n",
              "      <td>0</td>\n",
              "    </tr>\n",
              "    <tr>\n",
              "      <th>1292</th>\n",
              "      <td>0</td>\n",
              "      <td>1</td>\n",
              "      <td>0</td>\n",
              "      <td>0</td>\n",
              "    </tr>\n",
              "    <tr>\n",
              "      <th>1298</th>\n",
              "      <td>0</td>\n",
              "      <td>2</td>\n",
              "      <td>0</td>\n",
              "      <td>0</td>\n",
              "    </tr>\n",
              "  </tbody>\n",
              "</table>\n",
              "<p>737 rows × 4 columns</p>\n",
              "</div>"
            ],
            "text/plain": [
              "assigned_rating  DISTINCTION  INCOMPLETE  PASSED  UNGRADED\n",
              "account_key                                               \n",
              "0                          0           5       2         0\n",
              "1                          0           1       2         0\n",
              "2                          0           0       1         0\n",
              "3                          0           3       2         0\n",
              "4                          0           5       2         0\n",
              "...                      ...         ...     ...       ...\n",
              "1263                       0           0       1         0\n",
              "1274                       0           0       1         0\n",
              "1279                       0           0       1         0\n",
              "1292                       0           1       0         0\n",
              "1298                       0           2       0         0\n",
              "\n",
              "[737 rows x 4 columns]"
            ]
          },
          "metadata": {
            "tags": []
          },
          "execution_count": 629
        }
      ]
    },
    {
      "cell_type": "code",
      "metadata": {
        "id": "OiqaPmgXqgdm",
        "colab_type": "code",
        "outputId": "2051b3a1-57ee-4bcc-8d76-609dd659b29a",
        "colab": {
          "base_uri": "https://localhost:8080/",
          "height": 450
        }
      },
      "source": [
        "grouped_ratings.sort_values(['DISTINCTION'], ascending=False)"
      ],
      "execution_count": 630,
      "outputs": [
        {
          "output_type": "execute_result",
          "data": {
            "text/html": [
              "<div>\n",
              "<style scoped>\n",
              "    .dataframe tbody tr th:only-of-type {\n",
              "        vertical-align: middle;\n",
              "    }\n",
              "\n",
              "    .dataframe tbody tr th {\n",
              "        vertical-align: top;\n",
              "    }\n",
              "\n",
              "    .dataframe thead th {\n",
              "        text-align: right;\n",
              "    }\n",
              "</style>\n",
              "<table border=\"1\" class=\"dataframe\">\n",
              "  <thead>\n",
              "    <tr style=\"text-align: right;\">\n",
              "      <th>assigned_rating</th>\n",
              "      <th>DISTINCTION</th>\n",
              "      <th>INCOMPLETE</th>\n",
              "      <th>PASSED</th>\n",
              "      <th>UNGRADED</th>\n",
              "    </tr>\n",
              "    <tr>\n",
              "      <th>account_key</th>\n",
              "      <th></th>\n",
              "      <th></th>\n",
              "      <th></th>\n",
              "      <th></th>\n",
              "    </tr>\n",
              "  </thead>\n",
              "  <tbody>\n",
              "    <tr>\n",
              "      <th>553</th>\n",
              "      <td>2</td>\n",
              "      <td>3</td>\n",
              "      <td>3</td>\n",
              "      <td>2</td>\n",
              "    </tr>\n",
              "    <tr>\n",
              "      <th>627</th>\n",
              "      <td>2</td>\n",
              "      <td>3</td>\n",
              "      <td>0</td>\n",
              "      <td>0</td>\n",
              "    </tr>\n",
              "    <tr>\n",
              "      <th>156</th>\n",
              "      <td>2</td>\n",
              "      <td>3</td>\n",
              "      <td>0</td>\n",
              "      <td>0</td>\n",
              "    </tr>\n",
              "    <tr>\n",
              "      <th>45</th>\n",
              "      <td>2</td>\n",
              "      <td>2</td>\n",
              "      <td>1</td>\n",
              "      <td>0</td>\n",
              "    </tr>\n",
              "    <tr>\n",
              "      <th>280</th>\n",
              "      <td>1</td>\n",
              "      <td>4</td>\n",
              "      <td>2</td>\n",
              "      <td>0</td>\n",
              "    </tr>\n",
              "    <tr>\n",
              "      <th>...</th>\n",
              "      <td>...</td>\n",
              "      <td>...</td>\n",
              "      <td>...</td>\n",
              "      <td>...</td>\n",
              "    </tr>\n",
              "    <tr>\n",
              "      <th>254</th>\n",
              "      <td>0</td>\n",
              "      <td>5</td>\n",
              "      <td>3</td>\n",
              "      <td>2</td>\n",
              "    </tr>\n",
              "    <tr>\n",
              "      <th>255</th>\n",
              "      <td>0</td>\n",
              "      <td>2</td>\n",
              "      <td>2</td>\n",
              "      <td>0</td>\n",
              "    </tr>\n",
              "    <tr>\n",
              "      <th>256</th>\n",
              "      <td>0</td>\n",
              "      <td>1</td>\n",
              "      <td>1</td>\n",
              "      <td>1</td>\n",
              "    </tr>\n",
              "    <tr>\n",
              "      <th>257</th>\n",
              "      <td>0</td>\n",
              "      <td>7</td>\n",
              "      <td>5</td>\n",
              "      <td>1</td>\n",
              "    </tr>\n",
              "    <tr>\n",
              "      <th>1298</th>\n",
              "      <td>0</td>\n",
              "      <td>2</td>\n",
              "      <td>0</td>\n",
              "      <td>0</td>\n",
              "    </tr>\n",
              "  </tbody>\n",
              "</table>\n",
              "<p>737 rows × 4 columns</p>\n",
              "</div>"
            ],
            "text/plain": [
              "assigned_rating  DISTINCTION  INCOMPLETE  PASSED  UNGRADED\n",
              "account_key                                               \n",
              "553                        2           3       3         2\n",
              "627                        2           3       0         0\n",
              "156                        2           3       0         0\n",
              "45                         2           2       1         0\n",
              "280                        1           4       2         0\n",
              "...                      ...         ...     ...       ...\n",
              "254                        0           5       3         2\n",
              "255                        0           2       2         0\n",
              "256                        0           1       1         1\n",
              "257                        0           7       5         1\n",
              "1298                       0           2       0         0\n",
              "\n",
              "[737 rows x 4 columns]"
            ]
          },
          "metadata": {
            "tags": []
          },
          "execution_count": 630
        }
      ]
    },
    {
      "cell_type": "code",
      "metadata": {
        "id": "Anv5wqWZlxbH",
        "colab_type": "code",
        "outputId": "8d66dce2-958e-49bf-a2c5-2ad34084da02",
        "colab": {
          "base_uri": "https://localhost:8080/",
          "height": 450
        }
      },
      "source": [
        "grouped_ratings.sort_values(['DISTINCTION', 'PASSED'], ascending=False)"
      ],
      "execution_count": 631,
      "outputs": [
        {
          "output_type": "execute_result",
          "data": {
            "text/html": [
              "<div>\n",
              "<style scoped>\n",
              "    .dataframe tbody tr th:only-of-type {\n",
              "        vertical-align: middle;\n",
              "    }\n",
              "\n",
              "    .dataframe tbody tr th {\n",
              "        vertical-align: top;\n",
              "    }\n",
              "\n",
              "    .dataframe thead th {\n",
              "        text-align: right;\n",
              "    }\n",
              "</style>\n",
              "<table border=\"1\" class=\"dataframe\">\n",
              "  <thead>\n",
              "    <tr style=\"text-align: right;\">\n",
              "      <th>assigned_rating</th>\n",
              "      <th>DISTINCTION</th>\n",
              "      <th>INCOMPLETE</th>\n",
              "      <th>PASSED</th>\n",
              "      <th>UNGRADED</th>\n",
              "    </tr>\n",
              "    <tr>\n",
              "      <th>account_key</th>\n",
              "      <th></th>\n",
              "      <th></th>\n",
              "      <th></th>\n",
              "      <th></th>\n",
              "    </tr>\n",
              "  </thead>\n",
              "  <tbody>\n",
              "    <tr>\n",
              "      <th>553</th>\n",
              "      <td>2</td>\n",
              "      <td>3</td>\n",
              "      <td>3</td>\n",
              "      <td>2</td>\n",
              "    </tr>\n",
              "    <tr>\n",
              "      <th>45</th>\n",
              "      <td>2</td>\n",
              "      <td>2</td>\n",
              "      <td>1</td>\n",
              "      <td>0</td>\n",
              "    </tr>\n",
              "    <tr>\n",
              "      <th>156</th>\n",
              "      <td>2</td>\n",
              "      <td>3</td>\n",
              "      <td>0</td>\n",
              "      <td>0</td>\n",
              "    </tr>\n",
              "    <tr>\n",
              "      <th>627</th>\n",
              "      <td>2</td>\n",
              "      <td>3</td>\n",
              "      <td>0</td>\n",
              "      <td>0</td>\n",
              "    </tr>\n",
              "    <tr>\n",
              "      <th>328</th>\n",
              "      <td>1</td>\n",
              "      <td>6</td>\n",
              "      <td>6</td>\n",
              "      <td>0</td>\n",
              "    </tr>\n",
              "    <tr>\n",
              "      <th>...</th>\n",
              "      <td>...</td>\n",
              "      <td>...</td>\n",
              "      <td>...</td>\n",
              "      <td>...</td>\n",
              "    </tr>\n",
              "    <tr>\n",
              "      <th>1206</th>\n",
              "      <td>0</td>\n",
              "      <td>1</td>\n",
              "      <td>0</td>\n",
              "      <td>0</td>\n",
              "    </tr>\n",
              "    <tr>\n",
              "      <th>1215</th>\n",
              "      <td>0</td>\n",
              "      <td>3</td>\n",
              "      <td>0</td>\n",
              "      <td>0</td>\n",
              "    </tr>\n",
              "    <tr>\n",
              "      <th>1247</th>\n",
              "      <td>0</td>\n",
              "      <td>2</td>\n",
              "      <td>0</td>\n",
              "      <td>0</td>\n",
              "    </tr>\n",
              "    <tr>\n",
              "      <th>1292</th>\n",
              "      <td>0</td>\n",
              "      <td>1</td>\n",
              "      <td>0</td>\n",
              "      <td>0</td>\n",
              "    </tr>\n",
              "    <tr>\n",
              "      <th>1298</th>\n",
              "      <td>0</td>\n",
              "      <td>2</td>\n",
              "      <td>0</td>\n",
              "      <td>0</td>\n",
              "    </tr>\n",
              "  </tbody>\n",
              "</table>\n",
              "<p>737 rows × 4 columns</p>\n",
              "</div>"
            ],
            "text/plain": [
              "assigned_rating  DISTINCTION  INCOMPLETE  PASSED  UNGRADED\n",
              "account_key                                               \n",
              "553                        2           3       3         2\n",
              "45                         2           2       1         0\n",
              "156                        2           3       0         0\n",
              "627                        2           3       0         0\n",
              "328                        1           6       6         0\n",
              "...                      ...         ...     ...       ...\n",
              "1206                       0           1       0         0\n",
              "1215                       0           3       0         0\n",
              "1247                       0           2       0         0\n",
              "1292                       0           1       0         0\n",
              "1298                       0           2       0         0\n",
              "\n",
              "[737 rows x 4 columns]"
            ]
          },
          "metadata": {
            "tags": []
          },
          "execution_count": 631
        }
      ]
    },
    {
      "cell_type": "code",
      "metadata": {
        "id": "EGQdnVgrmVCX",
        "colab_type": "code",
        "outputId": "aeef6ae0-a202-47e4-ebc7-c41efc948f9d",
        "colab": {
          "base_uri": "https://localhost:8080/",
          "height": 450
        }
      },
      "source": [
        "grouped_ratings.sort_values(['PASSED'], ascending=False)"
      ],
      "execution_count": 632,
      "outputs": [
        {
          "output_type": "execute_result",
          "data": {
            "text/html": [
              "<div>\n",
              "<style scoped>\n",
              "    .dataframe tbody tr th:only-of-type {\n",
              "        vertical-align: middle;\n",
              "    }\n",
              "\n",
              "    .dataframe tbody tr th {\n",
              "        vertical-align: top;\n",
              "    }\n",
              "\n",
              "    .dataframe thead th {\n",
              "        text-align: right;\n",
              "    }\n",
              "</style>\n",
              "<table border=\"1\" class=\"dataframe\">\n",
              "  <thead>\n",
              "    <tr style=\"text-align: right;\">\n",
              "      <th>assigned_rating</th>\n",
              "      <th>DISTINCTION</th>\n",
              "      <th>INCOMPLETE</th>\n",
              "      <th>PASSED</th>\n",
              "      <th>UNGRADED</th>\n",
              "    </tr>\n",
              "    <tr>\n",
              "      <th>account_key</th>\n",
              "      <th></th>\n",
              "      <th></th>\n",
              "      <th></th>\n",
              "      <th></th>\n",
              "    </tr>\n",
              "  </thead>\n",
              "  <tbody>\n",
              "    <tr>\n",
              "      <th>317</th>\n",
              "      <td>0</td>\n",
              "      <td>6</td>\n",
              "      <td>8</td>\n",
              "      <td>0</td>\n",
              "    </tr>\n",
              "    <tr>\n",
              "      <th>85</th>\n",
              "      <td>0</td>\n",
              "      <td>6</td>\n",
              "      <td>8</td>\n",
              "      <td>0</td>\n",
              "    </tr>\n",
              "    <tr>\n",
              "      <th>569</th>\n",
              "      <td>0</td>\n",
              "      <td>20</td>\n",
              "      <td>7</td>\n",
              "      <td>0</td>\n",
              "    </tr>\n",
              "    <tr>\n",
              "      <th>316</th>\n",
              "      <td>0</td>\n",
              "      <td>4</td>\n",
              "      <td>7</td>\n",
              "      <td>0</td>\n",
              "    </tr>\n",
              "    <tr>\n",
              "      <th>125</th>\n",
              "      <td>0</td>\n",
              "      <td>8</td>\n",
              "      <td>7</td>\n",
              "      <td>0</td>\n",
              "    </tr>\n",
              "    <tr>\n",
              "      <th>...</th>\n",
              "      <td>...</td>\n",
              "      <td>...</td>\n",
              "      <td>...</td>\n",
              "      <td>...</td>\n",
              "    </tr>\n",
              "    <tr>\n",
              "      <th>1002</th>\n",
              "      <td>0</td>\n",
              "      <td>1</td>\n",
              "      <td>0</td>\n",
              "      <td>0</td>\n",
              "    </tr>\n",
              "    <tr>\n",
              "      <th>1013</th>\n",
              "      <td>0</td>\n",
              "      <td>1</td>\n",
              "      <td>0</td>\n",
              "      <td>0</td>\n",
              "    </tr>\n",
              "    <tr>\n",
              "      <th>1033</th>\n",
              "      <td>0</td>\n",
              "      <td>3</td>\n",
              "      <td>0</td>\n",
              "      <td>0</td>\n",
              "    </tr>\n",
              "    <tr>\n",
              "      <th>1048</th>\n",
              "      <td>0</td>\n",
              "      <td>1</td>\n",
              "      <td>0</td>\n",
              "      <td>0</td>\n",
              "    </tr>\n",
              "    <tr>\n",
              "      <th>1298</th>\n",
              "      <td>0</td>\n",
              "      <td>2</td>\n",
              "      <td>0</td>\n",
              "      <td>0</td>\n",
              "    </tr>\n",
              "  </tbody>\n",
              "</table>\n",
              "<p>737 rows × 4 columns</p>\n",
              "</div>"
            ],
            "text/plain": [
              "assigned_rating  DISTINCTION  INCOMPLETE  PASSED  UNGRADED\n",
              "account_key                                               \n",
              "317                        0           6       8         0\n",
              "85                         0           6       8         0\n",
              "569                        0          20       7         0\n",
              "316                        0           4       7         0\n",
              "125                        0           8       7         0\n",
              "...                      ...         ...     ...       ...\n",
              "1002                       0           1       0         0\n",
              "1013                       0           1       0         0\n",
              "1033                       0           3       0         0\n",
              "1048                       0           1       0         0\n",
              "1298                       0           2       0         0\n",
              "\n",
              "[737 rows x 4 columns]"
            ]
          },
          "metadata": {
            "tags": []
          },
          "execution_count": 632
        }
      ]
    },
    {
      "cell_type": "code",
      "metadata": {
        "id": "AohGggCemXh2",
        "colab_type": "code",
        "outputId": "25a57da5-1f51-4ef7-de2c-e0748076c678",
        "colab": {
          "base_uri": "https://localhost:8080/",
          "height": 450
        }
      },
      "source": [
        "grouped_ratings.sort_values(['INCOMPLETE'], ascending=False)"
      ],
      "execution_count": 633,
      "outputs": [
        {
          "output_type": "execute_result",
          "data": {
            "text/html": [
              "<div>\n",
              "<style scoped>\n",
              "    .dataframe tbody tr th:only-of-type {\n",
              "        vertical-align: middle;\n",
              "    }\n",
              "\n",
              "    .dataframe tbody tr th {\n",
              "        vertical-align: top;\n",
              "    }\n",
              "\n",
              "    .dataframe thead th {\n",
              "        text-align: right;\n",
              "    }\n",
              "</style>\n",
              "<table border=\"1\" class=\"dataframe\">\n",
              "  <thead>\n",
              "    <tr style=\"text-align: right;\">\n",
              "      <th>assigned_rating</th>\n",
              "      <th>DISTINCTION</th>\n",
              "      <th>INCOMPLETE</th>\n",
              "      <th>PASSED</th>\n",
              "      <th>UNGRADED</th>\n",
              "    </tr>\n",
              "    <tr>\n",
              "      <th>account_key</th>\n",
              "      <th></th>\n",
              "      <th></th>\n",
              "      <th></th>\n",
              "      <th></th>\n",
              "    </tr>\n",
              "  </thead>\n",
              "  <tbody>\n",
              "    <tr>\n",
              "      <th>569</th>\n",
              "      <td>0</td>\n",
              "      <td>20</td>\n",
              "      <td>7</td>\n",
              "      <td>0</td>\n",
              "    </tr>\n",
              "    <tr>\n",
              "      <th>281</th>\n",
              "      <td>0</td>\n",
              "      <td>16</td>\n",
              "      <td>4</td>\n",
              "      <td>0</td>\n",
              "    </tr>\n",
              "    <tr>\n",
              "      <th>557</th>\n",
              "      <td>0</td>\n",
              "      <td>13</td>\n",
              "      <td>4</td>\n",
              "      <td>0</td>\n",
              "    </tr>\n",
              "    <tr>\n",
              "      <th>641</th>\n",
              "      <td>0</td>\n",
              "      <td>12</td>\n",
              "      <td>5</td>\n",
              "      <td>0</td>\n",
              "    </tr>\n",
              "    <tr>\n",
              "      <th>426</th>\n",
              "      <td>0</td>\n",
              "      <td>11</td>\n",
              "      <td>6</td>\n",
              "      <td>0</td>\n",
              "    </tr>\n",
              "    <tr>\n",
              "      <th>...</th>\n",
              "      <td>...</td>\n",
              "      <td>...</td>\n",
              "      <td>...</td>\n",
              "      <td>...</td>\n",
              "    </tr>\n",
              "    <tr>\n",
              "      <th>601</th>\n",
              "      <td>0</td>\n",
              "      <td>0</td>\n",
              "      <td>1</td>\n",
              "      <td>0</td>\n",
              "    </tr>\n",
              "    <tr>\n",
              "      <th>88</th>\n",
              "      <td>0</td>\n",
              "      <td>0</td>\n",
              "      <td>1</td>\n",
              "      <td>0</td>\n",
              "    </tr>\n",
              "    <tr>\n",
              "      <th>325</th>\n",
              "      <td>0</td>\n",
              "      <td>0</td>\n",
              "      <td>3</td>\n",
              "      <td>0</td>\n",
              "    </tr>\n",
              "    <tr>\n",
              "      <th>610</th>\n",
              "      <td>0</td>\n",
              "      <td>0</td>\n",
              "      <td>1</td>\n",
              "      <td>0</td>\n",
              "    </tr>\n",
              "    <tr>\n",
              "      <th>355</th>\n",
              "      <td>0</td>\n",
              "      <td>0</td>\n",
              "      <td>3</td>\n",
              "      <td>0</td>\n",
              "    </tr>\n",
              "  </tbody>\n",
              "</table>\n",
              "<p>737 rows × 4 columns</p>\n",
              "</div>"
            ],
            "text/plain": [
              "assigned_rating  DISTINCTION  INCOMPLETE  PASSED  UNGRADED\n",
              "account_key                                               \n",
              "569                        0          20       7         0\n",
              "281                        0          16       4         0\n",
              "557                        0          13       4         0\n",
              "641                        0          12       5         0\n",
              "426                        0          11       6         0\n",
              "...                      ...         ...     ...       ...\n",
              "601                        0           0       1         0\n",
              "88                         0           0       1         0\n",
              "325                        0           0       3         0\n",
              "610                        0           0       1         0\n",
              "355                        0           0       3         0\n",
              "\n",
              "[737 rows x 4 columns]"
            ]
          },
          "metadata": {
            "tags": []
          },
          "execution_count": 633
        }
      ]
    },
    {
      "cell_type": "code",
      "metadata": {
        "id": "7UImgT0tmeD2",
        "colab_type": "code",
        "outputId": "8f4ec8fb-3b38-4b81-9236-ef276facf44a",
        "colab": {
          "base_uri": "https://localhost:8080/",
          "height": 450
        }
      },
      "source": [
        "grouped_ratings.sort_values(['UNGRADED'], ascending=False)"
      ],
      "execution_count": 634,
      "outputs": [
        {
          "output_type": "execute_result",
          "data": {
            "text/html": [
              "<div>\n",
              "<style scoped>\n",
              "    .dataframe tbody tr th:only-of-type {\n",
              "        vertical-align: middle;\n",
              "    }\n",
              "\n",
              "    .dataframe tbody tr th {\n",
              "        vertical-align: top;\n",
              "    }\n",
              "\n",
              "    .dataframe thead th {\n",
              "        text-align: right;\n",
              "    }\n",
              "</style>\n",
              "<table border=\"1\" class=\"dataframe\">\n",
              "  <thead>\n",
              "    <tr style=\"text-align: right;\">\n",
              "      <th>assigned_rating</th>\n",
              "      <th>DISTINCTION</th>\n",
              "      <th>INCOMPLETE</th>\n",
              "      <th>PASSED</th>\n",
              "      <th>UNGRADED</th>\n",
              "    </tr>\n",
              "    <tr>\n",
              "      <th>account_key</th>\n",
              "      <th></th>\n",
              "      <th></th>\n",
              "      <th></th>\n",
              "      <th></th>\n",
              "    </tr>\n",
              "  </thead>\n",
              "  <tbody>\n",
              "    <tr>\n",
              "      <th>553</th>\n",
              "      <td>2</td>\n",
              "      <td>3</td>\n",
              "      <td>3</td>\n",
              "      <td>2</td>\n",
              "    </tr>\n",
              "    <tr>\n",
              "      <th>755</th>\n",
              "      <td>0</td>\n",
              "      <td>0</td>\n",
              "      <td>0</td>\n",
              "      <td>2</td>\n",
              "    </tr>\n",
              "    <tr>\n",
              "      <th>620</th>\n",
              "      <td>0</td>\n",
              "      <td>1</td>\n",
              "      <td>1</td>\n",
              "      <td>2</td>\n",
              "    </tr>\n",
              "    <tr>\n",
              "      <th>473</th>\n",
              "      <td>0</td>\n",
              "      <td>1</td>\n",
              "      <td>1</td>\n",
              "      <td>2</td>\n",
              "    </tr>\n",
              "    <tr>\n",
              "      <th>254</th>\n",
              "      <td>0</td>\n",
              "      <td>5</td>\n",
              "      <td>3</td>\n",
              "      <td>2</td>\n",
              "    </tr>\n",
              "    <tr>\n",
              "      <th>...</th>\n",
              "      <td>...</td>\n",
              "      <td>...</td>\n",
              "      <td>...</td>\n",
              "      <td>...</td>\n",
              "    </tr>\n",
              "    <tr>\n",
              "      <th>263</th>\n",
              "      <td>0</td>\n",
              "      <td>5</td>\n",
              "      <td>4</td>\n",
              "      <td>0</td>\n",
              "    </tr>\n",
              "    <tr>\n",
              "      <th>264</th>\n",
              "      <td>0</td>\n",
              "      <td>0</td>\n",
              "      <td>1</td>\n",
              "      <td>0</td>\n",
              "    </tr>\n",
              "    <tr>\n",
              "      <th>265</th>\n",
              "      <td>0</td>\n",
              "      <td>0</td>\n",
              "      <td>1</td>\n",
              "      <td>0</td>\n",
              "    </tr>\n",
              "    <tr>\n",
              "      <th>266</th>\n",
              "      <td>0</td>\n",
              "      <td>6</td>\n",
              "      <td>4</td>\n",
              "      <td>0</td>\n",
              "    </tr>\n",
              "    <tr>\n",
              "      <th>1298</th>\n",
              "      <td>0</td>\n",
              "      <td>2</td>\n",
              "      <td>0</td>\n",
              "      <td>0</td>\n",
              "    </tr>\n",
              "  </tbody>\n",
              "</table>\n",
              "<p>737 rows × 4 columns</p>\n",
              "</div>"
            ],
            "text/plain": [
              "assigned_rating  DISTINCTION  INCOMPLETE  PASSED  UNGRADED\n",
              "account_key                                               \n",
              "553                        2           3       3         2\n",
              "755                        0           0       0         2\n",
              "620                        0           1       1         2\n",
              "473                        0           1       1         2\n",
              "254                        0           5       3         2\n",
              "...                      ...         ...     ...       ...\n",
              "263                        0           5       4         0\n",
              "264                        0           0       1         0\n",
              "265                        0           0       1         0\n",
              "266                        0           6       4         0\n",
              "1298                       0           2       0         0\n",
              "\n",
              "[737 rows x 4 columns]"
            ]
          },
          "metadata": {
            "tags": []
          },
          "execution_count": 634
        }
      ]
    },
    {
      "cell_type": "markdown",
      "metadata": {
        "id": "pyRvM_zWoPCz",
        "colab_type": "text"
      },
      "source": [
        "## Lets look at the nature of Cumulative Submission Status "
      ]
    },
    {
      "cell_type": "code",
      "metadata": {
        "id": "gUiJG29xpBBC",
        "colab_type": "code",
        "outputId": "c8826954-55b8-40dd-eb6b-69be5d30164a",
        "colab": {
          "base_uri": "https://localhost:8080/",
          "height": 119
        }
      },
      "source": [
        "grouped_ratings.agg(np.sum)"
      ],
      "execution_count": 635,
      "outputs": [
        {
          "output_type": "execute_result",
          "data": {
            "text/plain": [
              "assigned_rating\n",
              "DISTINCTION      36\n",
              "INCOMPLETE     1903\n",
              "PASSED         1623\n",
              "UNGRADED         58\n",
              "dtype: int64"
            ]
          },
          "metadata": {
            "tags": []
          },
          "execution_count": 635
        }
      ]
    },
    {
      "cell_type": "code",
      "metadata": {
        "id": "uioRNBStkXp6",
        "colab_type": "code",
        "colab": {
          "base_uri": "https://localhost:8080/",
          "height": 334
        },
        "outputId": "3316a25d-af43-4eb4-8e5e-9c911e2e37f2"
      },
      "source": [
        "ratings_sum = grouped_ratings.agg(np.sum)\n",
        "ax = ratings_sum.plot.bar(x=grouped_ratings.columns.values, \n",
        "                     color=['green', 'red', 'blue', 'gray'])"
      ],
      "execution_count": 636,
      "outputs": [
        {
          "output_type": "display_data",
          "data": {
            "image/png": "[encoded data removed]",
            "text/plain": [
              "<Figure size 432x288 with 1 Axes>"
            ]
          },
          "metadata": {
            "tags": []
          }
        }
      ]
    },
    {
      "cell_type": "markdown",
      "metadata": {
        "id": "LUwahZeVoyew",
        "colab_type": "text"
      },
      "source": [
        "## Observations\n",
        "\n",
        "*   There are **more Incomplete submissions** than **Passed**\n",
        "*   There are **more Passed submissions** than **Ungraded**\n",
        "*   The Ungraded submissions per account is not more than 2.\n",
        "*   There are not more than 20 incomplete submissions per account.\n",
        "*   At best an account has passed 8 submissions.\n",
        "*   Someone doing very well **with Distinction** has **also had \n",
        "incomplete and ungraded submissions**. \n",
        "\n",
        "\n"
      ]
    },
    {
      "cell_type": "markdown",
      "metadata": {
        "id": "uJV0gKTQz8KE",
        "colab_type": "text"
      },
      "source": [
        "### Trend of Engaged Students over Period of time."
      ]
    },
    {
      "cell_type": "code",
      "metadata": {
        "id": "mRl1wsuVz67n",
        "colab_type": "code",
        "colab": {
          "base_uri": "https://localhost:8080/",
          "height": 289
        },
        "outputId": "e51e2bc7-95a9-4db5-e0b1-73aae67910c7"
      },
      "source": [
        "paid_students = enrollments[enrollments['days_to_cancel'] > 7]\n",
        "ax = paid_students.sort_values(by='days_to_cancel', ascending=False)[:20].plot.bar(x='account_key', y='days_to_cancel')\n",
        "ax.autoscale(tight=False)"
      ],
      "execution_count": 637,
      "outputs": [
        {
          "output_type": "display_data",
          "data": {
            "image/png": "[encoded data removed]",
            "text/plain": [
              "<Figure size 432x288 with 1 Axes>"
            ]
          },
          "metadata": {
            "tags": []
          }
        }
      ]
    },
    {
      "cell_type": "code",
      "metadata": {
        "id": "cGH50bEt20CO",
        "colab_type": "code",
        "colab": {
          "base_uri": "https://localhost:8080/",
          "height": 111
        },
        "outputId": "4877abb7-7be7-410d-801a-28fb3c4f380c"
      },
      "source": [
        "p = paid_students[paid_students['account_key'] == 429]\n",
        "p"
      ],
      "execution_count": 638,
      "outputs": [
        {
          "output_type": "execute_result",
          "data": {
            "text/html": [
              "<div>\n",
              "<style scoped>\n",
              "    .dataframe tbody tr th:only-of-type {\n",
              "        vertical-align: middle;\n",
              "    }\n",
              "\n",
              "    .dataframe tbody tr th {\n",
              "        vertical-align: top;\n",
              "    }\n",
              "\n",
              "    .dataframe thead th {\n",
              "        text-align: right;\n",
              "    }\n",
              "</style>\n",
              "<table border=\"1\" class=\"dataframe\">\n",
              "  <thead>\n",
              "    <tr style=\"text-align: right;\">\n",
              "      <th></th>\n",
              "      <th>index</th>\n",
              "      <th>account_key</th>\n",
              "      <th>status</th>\n",
              "      <th>join_date</th>\n",
              "      <th>cancel_date</th>\n",
              "      <th>days_to_cancel</th>\n",
              "      <th>is_udacity</th>\n",
              "      <th>is_canceled</th>\n",
              "    </tr>\n",
              "  </thead>\n",
              "  <tbody>\n",
              "    <tr>\n",
              "      <th>1</th>\n",
              "      <td>10</td>\n",
              "      <td>429</td>\n",
              "      <td>canceled</td>\n",
              "      <td>2014-11-10</td>\n",
              "      <td>2015-03-10</td>\n",
              "      <td>120.0</td>\n",
              "      <td>False</td>\n",
              "      <td>True</td>\n",
              "    </tr>\n",
              "    <tr>\n",
              "      <th>2</th>\n",
              "      <td>11</td>\n",
              "      <td>429</td>\n",
              "      <td>canceled</td>\n",
              "      <td>2015-03-10</td>\n",
              "      <td>2015-06-17</td>\n",
              "      <td>99.0</td>\n",
              "      <td>False</td>\n",
              "      <td>True</td>\n",
              "    </tr>\n",
              "  </tbody>\n",
              "</table>\n",
              "</div>"
            ],
            "text/plain": [
              "   index  account_key    status  ... days_to_cancel is_udacity  is_canceled\n",
              "1     10          429  canceled  ...          120.0      False         True\n",
              "2     11          429  canceled  ...           99.0      False         True\n",
              "\n",
              "[2 rows x 8 columns]"
            ]
          },
          "metadata": {
            "tags": []
          },
          "execution_count": 638
        }
      ]
    },
    {
      "cell_type": "code",
      "metadata": {
        "id": "A0AqYJaXSuo5",
        "colab_type": "code",
        "colab": {
          "base_uri": "https://localhost:8080/",
          "height": 643
        },
        "outputId": "0355bd2c-4bf3-4d05-fddd-8c32ed02bfb6"
      },
      "source": [
        "tmp = engagements[engagements['acct'] == 429]\n",
        "tmp[tmp['acct'].isin(paid_students['account_key'])]\n"
      ],
      "execution_count": 639,
      "outputs": [
        {
          "output_type": "execute_result",
          "data": {
            "text/html": [
              "<div>\n",
              "<style scoped>\n",
              "    .dataframe tbody tr th:only-of-type {\n",
              "        vertical-align: middle;\n",
              "    }\n",
              "\n",
              "    .dataframe tbody tr th {\n",
              "        vertical-align: top;\n",
              "    }\n",
              "\n",
              "    .dataframe thead th {\n",
              "        text-align: right;\n",
              "    }\n",
              "</style>\n",
              "<table border=\"1\" class=\"dataframe\">\n",
              "  <thead>\n",
              "    <tr style=\"text-align: right;\">\n",
              "      <th></th>\n",
              "      <th>index</th>\n",
              "      <th>utc_date</th>\n",
              "      <th>acct</th>\n",
              "      <th>registration_date</th>\n",
              "      <th>subscription_start</th>\n",
              "      <th>course_key</th>\n",
              "      <th>sibling_key</th>\n",
              "      <th>course_title</th>\n",
              "      <th>has_visited</th>\n",
              "      <th>total_minutes_visited</th>\n",
              "      <th>lessons_completed</th>\n",
              "      <th>projects_completed</th>\n",
              "      <th>account_key</th>\n",
              "    </tr>\n",
              "  </thead>\n",
              "  <tbody>\n",
              "    <tr>\n",
              "      <th>20370</th>\n",
              "      <td>25228</td>\n",
              "      <td>2014-11-10</td>\n",
              "      <td>429</td>\n",
              "      <td>2012-08-24</td>\n",
              "      <td>2014-11-10</td>\n",
              "      <td>ud120-nd</td>\n",
              "      <td>ud120</td>\n",
              "      <td>Intro to Machine Learning</td>\n",
              "      <td>1.0</td>\n",
              "      <td>2.798053</td>\n",
              "      <td>0.0</td>\n",
              "      <td>0.0</td>\n",
              "      <td>u19633984</td>\n",
              "    </tr>\n",
              "    <tr>\n",
              "      <th>20371</th>\n",
              "      <td>25229</td>\n",
              "      <td>2014-11-10</td>\n",
              "      <td>429</td>\n",
              "      <td>2012-08-24</td>\n",
              "      <td>2014-11-10</td>\n",
              "      <td>ud651-nd</td>\n",
              "      <td>ud651</td>\n",
              "      <td>Data Analysis with R</td>\n",
              "      <td>0.0</td>\n",
              "      <td>0.000000</td>\n",
              "      <td>0.0</td>\n",
              "      <td>0.0</td>\n",
              "      <td>u19633984</td>\n",
              "    </tr>\n",
              "    <tr>\n",
              "      <th>20372</th>\n",
              "      <td>25230</td>\n",
              "      <td>2014-11-10</td>\n",
              "      <td>429</td>\n",
              "      <td>2012-08-24</td>\n",
              "      <td>2014-11-10</td>\n",
              "      <td>ud507-nd</td>\n",
              "      <td>ud507</td>\n",
              "      <td>Data Visualization and D3.js</td>\n",
              "      <td>1.0</td>\n",
              "      <td>13.719307</td>\n",
              "      <td>0.0</td>\n",
              "      <td>0.0</td>\n",
              "      <td>u19633984</td>\n",
              "    </tr>\n",
              "    <tr>\n",
              "      <th>20373</th>\n",
              "      <td>25231</td>\n",
              "      <td>2014-11-10</td>\n",
              "      <td>429</td>\n",
              "      <td>2012-08-24</td>\n",
              "      <td>2014-11-10</td>\n",
              "      <td>ud032</td>\n",
              "      <td>ud032</td>\n",
              "      <td>Data Wrangling with MongoDB</td>\n",
              "      <td>0.0</td>\n",
              "      <td>0.000000</td>\n",
              "      <td>0.0</td>\n",
              "      <td>0.0</td>\n",
              "      <td>u19633984</td>\n",
              "    </tr>\n",
              "    <tr>\n",
              "      <th>20374</th>\n",
              "      <td>25232</td>\n",
              "      <td>2014-11-10</td>\n",
              "      <td>429</td>\n",
              "      <td>2012-08-24</td>\n",
              "      <td>2014-11-10</td>\n",
              "      <td>ud507</td>\n",
              "      <td>ud507</td>\n",
              "      <td>Data Visualization and D3.js</td>\n",
              "      <td>0.0</td>\n",
              "      <td>0.000000</td>\n",
              "      <td>0.0</td>\n",
              "      <td>0.0</td>\n",
              "      <td>u19633984</td>\n",
              "    </tr>\n",
              "    <tr>\n",
              "      <th>...</th>\n",
              "      <td>...</td>\n",
              "      <td>...</td>\n",
              "      <td>...</td>\n",
              "      <td>...</td>\n",
              "      <td>...</td>\n",
              "      <td>...</td>\n",
              "      <td>...</td>\n",
              "      <td>...</td>\n",
              "      <td>...</td>\n",
              "      <td>...</td>\n",
              "      <td>...</td>\n",
              "      <td>...</td>\n",
              "      <td>...</td>\n",
              "    </tr>\n",
              "    <tr>\n",
              "      <th>23804</th>\n",
              "      <td>28662</td>\n",
              "      <td>2015-06-16</td>\n",
              "      <td>429</td>\n",
              "      <td>2012-08-24</td>\n",
              "      <td>2015-03-10</td>\n",
              "      <td>ud304</td>\n",
              "      <td>ud304</td>\n",
              "      <td>Intro to HTML and CSS</td>\n",
              "      <td>0.0</td>\n",
              "      <td>0.000000</td>\n",
              "      <td>0.0</td>\n",
              "      <td>0.0</td>\n",
              "      <td>u19633984</td>\n",
              "    </tr>\n",
              "    <tr>\n",
              "      <th>23805</th>\n",
              "      <td>28663</td>\n",
              "      <td>2015-06-16</td>\n",
              "      <td>429</td>\n",
              "      <td>2012-08-24</td>\n",
              "      <td>2015-03-10</td>\n",
              "      <td>ud032-nd</td>\n",
              "      <td>ud032</td>\n",
              "      <td>Data Wrangling with MongoDB</td>\n",
              "      <td>0.0</td>\n",
              "      <td>0.000000</td>\n",
              "      <td>0.0</td>\n",
              "      <td>0.0</td>\n",
              "      <td>u19633984</td>\n",
              "    </tr>\n",
              "    <tr>\n",
              "      <th>23806</th>\n",
              "      <td>28664</td>\n",
              "      <td>2015-06-16</td>\n",
              "      <td>429</td>\n",
              "      <td>2012-08-24</td>\n",
              "      <td>2015-03-10</td>\n",
              "      <td>nd002</td>\n",
              "      <td>nd002</td>\n",
              "      <td>Data Analyst Nanodegree</td>\n",
              "      <td>0.0</td>\n",
              "      <td>0.000000</td>\n",
              "      <td>0.0</td>\n",
              "      <td>0.0</td>\n",
              "      <td>u19633984</td>\n",
              "    </tr>\n",
              "    <tr>\n",
              "      <th>23807</th>\n",
              "      <td>28665</td>\n",
              "      <td>2015-06-16</td>\n",
              "      <td>429</td>\n",
              "      <td>2012-08-24</td>\n",
              "      <td>2015-03-10</td>\n",
              "      <td>ud257</td>\n",
              "      <td>ud257</td>\n",
              "      <td>A/B Testing</td>\n",
              "      <td>0.0</td>\n",
              "      <td>0.000000</td>\n",
              "      <td>0.0</td>\n",
              "      <td>0.0</td>\n",
              "      <td>u19633984</td>\n",
              "    </tr>\n",
              "    <tr>\n",
              "      <th>23808</th>\n",
              "      <td>28666</td>\n",
              "      <td>2015-06-16</td>\n",
              "      <td>429</td>\n",
              "      <td>2012-08-24</td>\n",
              "      <td>2015-03-10</td>\n",
              "      <td>ud804</td>\n",
              "      <td>ud804</td>\n",
              "      <td>JavaScript Basics</td>\n",
              "      <td>0.0</td>\n",
              "      <td>0.000000</td>\n",
              "      <td>0.0</td>\n",
              "      <td>0.0</td>\n",
              "      <td>u19633984</td>\n",
              "    </tr>\n",
              "  </tbody>\n",
              "</table>\n",
              "<p>3439 rows × 13 columns</p>\n",
              "</div>"
            ],
            "text/plain": [
              "       index    utc_date  ...  projects_completed account_key\n",
              "20370  25228  2014-11-10  ...                 0.0   u19633984\n",
              "20371  25229  2014-11-10  ...                 0.0   u19633984\n",
              "20372  25230  2014-11-10  ...                 0.0   u19633984\n",
              "20373  25231  2014-11-10  ...                 0.0   u19633984\n",
              "20374  25232  2014-11-10  ...                 0.0   u19633984\n",
              "...      ...         ...  ...                 ...         ...\n",
              "23804  28662  2015-06-16  ...                 0.0   u19633984\n",
              "23805  28663  2015-06-16  ...                 0.0   u19633984\n",
              "23806  28664  2015-06-16  ...                 0.0   u19633984\n",
              "23807  28665  2015-06-16  ...                 0.0   u19633984\n",
              "23808  28666  2015-06-16  ...                 0.0   u19633984\n",
              "\n",
              "[3439 rows x 13 columns]"
            ]
          },
          "metadata": {
            "tags": []
          },
          "execution_count": 639
        }
      ]
    },
    {
      "cell_type": "code",
      "metadata": {
        "id": "IKwIm36HWyHj",
        "colab_type": "code",
        "colab": {
          "base_uri": "https://localhost:8080/",
          "height": 221
        },
        "outputId": "302a084c-82d8-4003-c084-e387427c6b71"
      },
      "source": [
        "paid_engagements['acct']"
      ],
      "execution_count": 640,
      "outputs": [
        {
          "output_type": "execute_result",
          "data": {
            "text/plain": [
              "0           44\n",
              "1           44\n",
              "2           44\n",
              "3           44\n",
              "4           44\n",
              "          ... \n",
              "2280935    856\n",
              "2280936    856\n",
              "2280937    856\n",
              "2280938    856\n",
              "2280939    856\n",
              "Name: acct, Length: 911839, dtype: int64"
            ]
          },
          "metadata": {
            "tags": []
          },
          "execution_count": 640
        }
      ]
    },
    {
      "cell_type": "code",
      "metadata": {
        "id": "uxHHt_3-W2XG",
        "colab_type": "code",
        "colab": {
          "base_uri": "https://localhost:8080/",
          "height": 221
        },
        "outputId": "ae5373d5-68c9-4edc-c2d4-49b2f29a9f0e"
      },
      "source": [
        "paid_students['account_key']"
      ],
      "execution_count": 641,
      "outputs": [
        {
          "output_type": "execute_result",
          "data": {
            "text/plain": [
              "1        429\n",
              "2        429\n",
              "3         60\n",
              "4         60\n",
              "8        322\n",
              "        ... \n",
              "1577    1099\n",
              "1579     846\n",
              "1580    1052\n",
              "1582     661\n",
              "1604    1178\n",
              "Name: account_key, Length: 566, dtype: int64"
            ]
          },
          "metadata": {
            "tags": []
          },
          "execution_count": 641
        }
      ]
    },
    {
      "cell_type": "markdown",
      "metadata": {
        "id": "TtRUxf_zFpn0",
        "colab_type": "text"
      },
      "source": [
        "### Engagements by Paid Accounts who subscribed with 1st 7 days of joining."
      ]
    },
    {
      "cell_type": "code",
      "metadata": {
        "id": "m0AstX2B3Axy",
        "colab_type": "code",
        "colab": {}
      },
      "source": [
        "_DT_FORMAT = '%Y-%m-%d'\n",
        "calc7DayFn = lambda col: col + dt.timedelta(days=7)\n",
        "\n",
        "paid_engagements = engagements[engagements['acct'].isin(paid_students['account_key'])]\n",
        "first7days = paid_engagements['registration_date'].apply(calc7DayFn)\n",
        "cols = ('subscription_start', 'registration_date')\n",
        "cmp = paid_engagements['subscription_start'] <= first7days\n",
        "paid_engagements_first7days = paid_engagements[cmp]"
      ],
      "execution_count": 0,
      "outputs": []
    },
    {
      "cell_type": "code",
      "metadata": {
        "id": "xoijCFssk2U9",
        "colab_type": "code",
        "colab": {
          "base_uri": "https://localhost:8080/",
          "height": 34
        },
        "outputId": "f6fb65e3-4987-4530-b9c7-f054650ba14c"
      },
      "source": [
        "print(('There are %d paid students who engaged in their enrollments within '\n",
        "'1st week of joining.') %paid_engagements_first7days.shape[0])"
      ],
      "execution_count": 644,
      "outputs": [
        {
          "output_type": "stream",
          "text": [
            "There are 98936 paid students who engaged in their enrollments within 1st week of joining.\n"
          ],
          "name": "stdout"
        }
      ]
    }
  ]
}