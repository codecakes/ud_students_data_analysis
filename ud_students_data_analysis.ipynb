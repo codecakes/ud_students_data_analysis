{
  "nbformat": 4,
  "nbformat_minor": 0,
  "metadata": {
    "colab": {
      "name": "ud_students_data_analysis.ipynb",
      "provenance": [],
      "collapsed_sections": [],
      "include_colab_link": true
    },
    "kernelspec": {
      "name": "python3",
      "display_name": "Python 3"
    }
  },
  "cells": [
    {
      "cell_type": "markdown",
      "metadata": {
        "id": "view-in-github",
        "colab_type": "text"
      },
      "source": [
        "<a href=\"https://colab.research.google.com/github/codecakes/ud_students_data_analysis/blob/master/ud_students_data_analysis.ipynb\" target=\"_parent\"><img src=\"https://colab.research.google.com/assets/colab-badge.svg\" alt=\"Open In Colab\"/></a>"
      ]
    },
    {
      "cell_type": "code",
      "metadata": {
        "id": "CS1KeIvrCa7x",
        "colab_type": "code",
        "colab": {}
      },
      "source": [
        "import matplotlib\n",
        "%matplotlib inline\n",
        "import numpy as np\n",
        "import pandas as pd\n",
        "%config IPCompleter.greedy=True\n"
      ],
      "execution_count": 0,
      "outputs": []
    },
    {
      "cell_type": "code",
      "metadata": {
        "id": "jWKQolCqCivy",
        "colab_type": "code",
        "colab": {
          "base_uri": "https://localhost:8080/",
          "height": 34
        },
        "outputId": "c38d3a4f-87c3-4305-bbe2-959a01e3c3e5"
      },
      "source": [
        "%cd ~/Documents/projects/ud_data_analysis/"
      ],
      "execution_count": 21,
      "outputs": [
        {
          "output_type": "stream",
          "text": [
            "/home/codecakes/Documents/projects/ud_data_analysis\n"
          ],
          "name": "stdout"
        }
      ]
    },
    {
      "cell_type": "code",
      "metadata": {
        "id": "lCjisWIgDHRP",
        "colab_type": "code",
        "colab": {
          "base_uri": "https://localhost:8080/",
          "height": 111
        },
        "outputId": "85440c14-3486-4bad-ff88-ee1bfd60c1bd"
      },
      "source": [
        "daily_engagement_sample_df = pd.read_csv('daily_engagement.csv', infer_datetime_format=True, engine='c')\n",
        "daily_engagement_sample_df.head(2)"
      ],
      "execution_count": 64,
      "outputs": [
        {
          "output_type": "execute_result",
          "data": {
            "text/plain": [
              "   acct    utc_date  num_courses_visited  total_minutes_visited  \\\n",
              "0     0  2015-01-09                  1.0              11.679374   \n",
              "1     0  2015-01-10                  2.0              37.284887   \n",
              "\n",
              "   lessons_completed  projects_completed  \n",
              "0                0.0                 0.0  \n",
              "1                0.0                 0.0  "
            ],
            "text/html": [
              "<div>\n",
              "<style scoped>\n",
              "    .dataframe tbody tr th:only-of-type {\n",
              "        vertical-align: middle;\n",
              "    }\n",
              "\n",
              "    .dataframe tbody tr th {\n",
              "        vertical-align: top;\n",
              "    }\n",
              "\n",
              "    .dataframe thead th {\n",
              "        text-align: right;\n",
              "    }\n",
              "</style>\n",
              "<table border=\"1\" class=\"dataframe\">\n",
              "  <thead>\n",
              "    <tr style=\"text-align: right;\">\n",
              "      <th></th>\n",
              "      <th>acct</th>\n",
              "      <th>utc_date</th>\n",
              "      <th>num_courses_visited</th>\n",
              "      <th>total_minutes_visited</th>\n",
              "      <th>lessons_completed</th>\n",
              "      <th>projects_completed</th>\n",
              "    </tr>\n",
              "  </thead>\n",
              "  <tbody>\n",
              "    <tr>\n",
              "      <th>0</th>\n",
              "      <td>0</td>\n",
              "      <td>2015-01-09</td>\n",
              "      <td>1.0</td>\n",
              "      <td>11.679374</td>\n",
              "      <td>0.0</td>\n",
              "      <td>0.0</td>\n",
              "    </tr>\n",
              "    <tr>\n",
              "      <th>1</th>\n",
              "      <td>0</td>\n",
              "      <td>2015-01-10</td>\n",
              "      <td>2.0</td>\n",
              "      <td>37.284887</td>\n",
              "      <td>0.0</td>\n",
              "      <td>0.0</td>\n",
              "    </tr>\n",
              "  </tbody>\n",
              "</table>\n",
              "</div>"
            ]
          },
          "metadata": {
            "tags": []
          },
          "execution_count": 64
        }
      ]
    },
    {
      "cell_type": "code",
      "metadata": {
        "id": "f5mKOXyaFeqj",
        "colab_type": "code",
        "colab": {}
      },
      "source": [
        "\n",
        "columns = ['utc_date', 'acct', 'registration_date', 'subscription_start',\n",
        "       'course_key', 'sibling_key', 'course_title', 'has_visited',\n",
        "       'total_minutes_visited', 'lessons_completed', 'projects_completed',\n",
        "       'account_key']\n",
        "engagements = pd.read_csv(\n",
        "    'daily_engagement_full.csv', infer_datetime_format=True, engine='c', \n",
        "    usecols=columns)\n"
      ],
      "execution_count": 0,
      "outputs": []
    },
    {
      "cell_type": "code",
      "metadata": {
        "id": "UCOPTiGQI6pF",
        "colab_type": "code",
        "colab": {
          "base_uri": "https://localhost:8080/",
          "height": 566
        },
        "outputId": "098b8355-a69f-4436-8fbb-91a614b31a62"
      },
      "source": [
        "engagements.astype({k: str for k in ['acct', 'course_key', 'sibling_key', 'course_title', 'account_key']})\n",
        "engagements.astype({k: 'datetime64[ns]' for k in ['utc_date', 'registration_date', 'subscription_start']})\n",
        "engagements.head(10)"
      ],
      "execution_count": 73,
      "outputs": [
        {
          "output_type": "execute_result",
          "data": {
            "text/plain": [
              "     utc_date  acct registration_date subscription_start course_key  \\\n",
              "0  2014-11-05   448        2014-08-05         2014-11-05   ud359-nd   \n",
              "1  2014-11-05   448        2014-08-05         2014-11-05   ud120-nd   \n",
              "2  2014-11-05   448        2014-08-05         2014-11-05   ud651-nd   \n",
              "3  2014-11-05   448        2014-08-05         2014-11-05   ud507-nd   \n",
              "4  2014-11-05   448        2014-08-05         2014-11-05      ud651   \n",
              "5  2014-11-05   448        2014-08-05         2014-11-05   ud804-nd   \n",
              "6  2014-11-05   448        2014-08-05         2014-11-05   ud032-nd   \n",
              "7  2014-11-05   448        2014-08-05         2014-11-05   ud304-nd   \n",
              "8  2014-11-05   448        2014-08-05         2014-11-05      ud120   \n",
              "9  2014-11-05   448        2014-08-05         2014-11-05      ud359   \n",
              "\n",
              "  sibling_key                  course_title  has_visited  \\\n",
              "0       ud359         Intro to Data Science          0.0   \n",
              "1       ud120     Intro to Machine Learning          0.0   \n",
              "2       ud651          Data Analysis with R          0.0   \n",
              "3       ud507  Data Visualization and D3.js          0.0   \n",
              "4       ud651          Data Analysis with R          0.0   \n",
              "5       ud804             JavaScript Basics          0.0   \n",
              "6       ud032   Data Wrangling with MongoDB          0.0   \n",
              "7       ud304         Intro to HTML and CSS          0.0   \n",
              "8       ud120     Intro to Machine Learning          0.0   \n",
              "9       ud359         Intro to Data Science          0.0   \n",
              "\n",
              "   total_minutes_visited  lessons_completed  projects_completed account_key  \n",
              "0                    0.0                0.0                 0.0  2257038596  \n",
              "1                    0.0                0.0                 0.0  2257038596  \n",
              "2                    0.0                0.0                 0.0  2257038596  \n",
              "3                    0.0                0.0                 0.0  2257038596  \n",
              "4                    0.0                0.0                 0.0  2257038596  \n",
              "5                    0.0                0.0                 0.0  2257038596  \n",
              "6                    0.0                0.0                 0.0  2257038596  \n",
              "7                    0.0                0.0                 0.0  2257038596  \n",
              "8                    0.0                0.0                 0.0  2257038596  \n",
              "9                    0.0                0.0                 0.0  2257038596  "
            ],
            "text/html": [
              "<div>\n",
              "<style scoped>\n",
              "    .dataframe tbody tr th:only-of-type {\n",
              "        vertical-align: middle;\n",
              "    }\n",
              "\n",
              "    .dataframe tbody tr th {\n",
              "        vertical-align: top;\n",
              "    }\n",
              "\n",
              "    .dataframe thead th {\n",
              "        text-align: right;\n",
              "    }\n",
              "</style>\n",
              "<table border=\"1\" class=\"dataframe\">\n",
              "  <thead>\n",
              "    <tr style=\"text-align: right;\">\n",
              "      <th></th>\n",
              "      <th>utc_date</th>\n",
              "      <th>acct</th>\n",
              "      <th>registration_date</th>\n",
              "      <th>subscription_start</th>\n",
              "      <th>course_key</th>\n",
              "      <th>sibling_key</th>\n",
              "      <th>course_title</th>\n",
              "      <th>has_visited</th>\n",
              "      <th>total_minutes_visited</th>\n",
              "      <th>lessons_completed</th>\n",
              "      <th>projects_completed</th>\n",
              "      <th>account_key</th>\n",
              "    </tr>\n",
              "  </thead>\n",
              "  <tbody>\n",
              "    <tr>\n",
              "      <th>0</th>\n",
              "      <td>2014-11-05</td>\n",
              "      <td>448</td>\n",
              "      <td>2014-08-05</td>\n",
              "      <td>2014-11-05</td>\n",
              "      <td>ud359-nd</td>\n",
              "      <td>ud359</td>\n",
              "      <td>Intro to Data Science</td>\n",
              "      <td>0.0</td>\n",
              "      <td>0.0</td>\n",
              "      <td>0.0</td>\n",
              "      <td>0.0</td>\n",
              "      <td>2257038596</td>\n",
              "    </tr>\n",
              "    <tr>\n",
              "      <th>1</th>\n",
              "      <td>2014-11-05</td>\n",
              "      <td>448</td>\n",
              "      <td>2014-08-05</td>\n",
              "      <td>2014-11-05</td>\n",
              "      <td>ud120-nd</td>\n",
              "      <td>ud120</td>\n",
              "      <td>Intro to Machine Learning</td>\n",
              "      <td>0.0</td>\n",
              "      <td>0.0</td>\n",
              "      <td>0.0</td>\n",
              "      <td>0.0</td>\n",
              "      <td>2257038596</td>\n",
              "    </tr>\n",
              "    <tr>\n",
              "      <th>2</th>\n",
              "      <td>2014-11-05</td>\n",
              "      <td>448</td>\n",
              "      <td>2014-08-05</td>\n",
              "      <td>2014-11-05</td>\n",
              "      <td>ud651-nd</td>\n",
              "      <td>ud651</td>\n",
              "      <td>Data Analysis with R</td>\n",
              "      <td>0.0</td>\n",
              "      <td>0.0</td>\n",
              "      <td>0.0</td>\n",
              "      <td>0.0</td>\n",
              "      <td>2257038596</td>\n",
              "    </tr>\n",
              "    <tr>\n",
              "      <th>3</th>\n",
              "      <td>2014-11-05</td>\n",
              "      <td>448</td>\n",
              "      <td>2014-08-05</td>\n",
              "      <td>2014-11-05</td>\n",
              "      <td>ud507-nd</td>\n",
              "      <td>ud507</td>\n",
              "      <td>Data Visualization and D3.js</td>\n",
              "      <td>0.0</td>\n",
              "      <td>0.0</td>\n",
              "      <td>0.0</td>\n",
              "      <td>0.0</td>\n",
              "      <td>2257038596</td>\n",
              "    </tr>\n",
              "    <tr>\n",
              "      <th>4</th>\n",
              "      <td>2014-11-05</td>\n",
              "      <td>448</td>\n",
              "      <td>2014-08-05</td>\n",
              "      <td>2014-11-05</td>\n",
              "      <td>ud651</td>\n",
              "      <td>ud651</td>\n",
              "      <td>Data Analysis with R</td>\n",
              "      <td>0.0</td>\n",
              "      <td>0.0</td>\n",
              "      <td>0.0</td>\n",
              "      <td>0.0</td>\n",
              "      <td>2257038596</td>\n",
              "    </tr>\n",
              "    <tr>\n",
              "      <th>5</th>\n",
              "      <td>2014-11-05</td>\n",
              "      <td>448</td>\n",
              "      <td>2014-08-05</td>\n",
              "      <td>2014-11-05</td>\n",
              "      <td>ud804-nd</td>\n",
              "      <td>ud804</td>\n",
              "      <td>JavaScript Basics</td>\n",
              "      <td>0.0</td>\n",
              "      <td>0.0</td>\n",
              "      <td>0.0</td>\n",
              "      <td>0.0</td>\n",
              "      <td>2257038596</td>\n",
              "    </tr>\n",
              "    <tr>\n",
              "      <th>6</th>\n",
              "      <td>2014-11-05</td>\n",
              "      <td>448</td>\n",
              "      <td>2014-08-05</td>\n",
              "      <td>2014-11-05</td>\n",
              "      <td>ud032-nd</td>\n",
              "      <td>ud032</td>\n",
              "      <td>Data Wrangling with MongoDB</td>\n",
              "      <td>0.0</td>\n",
              "      <td>0.0</td>\n",
              "      <td>0.0</td>\n",
              "      <td>0.0</td>\n",
              "      <td>2257038596</td>\n",
              "    </tr>\n",
              "    <tr>\n",
              "      <th>7</th>\n",
              "      <td>2014-11-05</td>\n",
              "      <td>448</td>\n",
              "      <td>2014-08-05</td>\n",
              "      <td>2014-11-05</td>\n",
              "      <td>ud304-nd</td>\n",
              "      <td>ud304</td>\n",
              "      <td>Intro to HTML and CSS</td>\n",
              "      <td>0.0</td>\n",
              "      <td>0.0</td>\n",
              "      <td>0.0</td>\n",
              "      <td>0.0</td>\n",
              "      <td>2257038596</td>\n",
              "    </tr>\n",
              "    <tr>\n",
              "      <th>8</th>\n",
              "      <td>2014-11-05</td>\n",
              "      <td>448</td>\n",
              "      <td>2014-08-05</td>\n",
              "      <td>2014-11-05</td>\n",
              "      <td>ud120</td>\n",
              "      <td>ud120</td>\n",
              "      <td>Intro to Machine Learning</td>\n",
              "      <td>0.0</td>\n",
              "      <td>0.0</td>\n",
              "      <td>0.0</td>\n",
              "      <td>0.0</td>\n",
              "      <td>2257038596</td>\n",
              "    </tr>\n",
              "    <tr>\n",
              "      <th>9</th>\n",
              "      <td>2014-11-05</td>\n",
              "      <td>448</td>\n",
              "      <td>2014-08-05</td>\n",
              "      <td>2014-11-05</td>\n",
              "      <td>ud359</td>\n",
              "      <td>ud359</td>\n",
              "      <td>Intro to Data Science</td>\n",
              "      <td>0.0</td>\n",
              "      <td>0.0</td>\n",
              "      <td>0.0</td>\n",
              "      <td>0.0</td>\n",
              "      <td>2257038596</td>\n",
              "    </tr>\n",
              "  </tbody>\n",
              "</table>\n",
              "</div>"
            ]
          },
          "metadata": {
            "tags": []
          },
          "execution_count": 73
        }
      ]
    },
    {
      "cell_type": "code",
      "metadata": {
        "id": "w6mrOHe8F9QN",
        "colab_type": "code",
        "colab": {
          "base_uri": "https://localhost:8080/",
          "height": 238
        },
        "outputId": "41923629-4063-45d9-8802-503dc43f2ce4"
      },
      "source": [
        "engagements.dtypes"
      ],
      "execution_count": 38,
      "outputs": [
        {
          "output_type": "execute_result",
          "data": {
            "text/plain": [
              "utc_date                  object\n",
              "acct                       int64\n",
              "registration_date         object\n",
              "subscription_start        object\n",
              "course_key                object\n",
              "sibling_key               object\n",
              "course_title              object\n",
              "has_visited              float64\n",
              "total_minutes_visited    float64\n",
              "lessons_completed        float64\n",
              "projects_completed       float64\n",
              "account_key               object\n",
              "dtype: object"
            ]
          },
          "metadata": {
            "tags": []
          },
          "execution_count": 38
        }
      ]
    },
    {
      "cell_type": "code",
      "metadata": {
        "id": "V9OIlB3kKTer",
        "colab_type": "code",
        "colab": {}
      },
      "source": [
        "columns=['account_key', 'status', 'join_date', 'cancel_date', 'days_to_cancel',\n",
        "       'is_udacity', 'is_canceled']\n",
        "enrollments_df = pd.read_csv(\n",
        "'enrollments.csv', infer_datetime_format=True, engine='c', usecols=columns)"
      ],
      "execution_count": 0,
      "outputs": []
    },
    {
      "cell_type": "code",
      "metadata": {
        "id": "Wb3FgQFHKklX",
        "colab_type": "code",
        "colab": {
          "base_uri": "https://localhost:8080/",
          "height": 419
        },
        "outputId": "ad98593b-1d15-4dd9-df89-b819eadfb266"
      },
      "source": [
        "enrollments_df.astype({\n",
        "    'cancel_date': 'datetime64[ns]', \n",
        "    'account_key': str,\n",
        "    'status': str,\n",
        "    'days_to_cancel': float,\n",
        "    'is_udacity': bool,\n",
        "    'is_canceled': bool,\n",
        "    })"
      ],
      "execution_count": 62,
      "outputs": [
        {
          "output_type": "execute_result",
          "data": {
            "text/plain": [
              "     account_key    status   join_date cancel_date  days_to_cancel  \\\n",
              "0            448  canceled  2014-11-10  2015-01-14            65.0   \n",
              "1            448  canceled  2014-11-05  2014-11-10             5.0   \n",
              "2            448  canceled  2015-01-27  2015-01-27             0.0   \n",
              "3            448  canceled  2014-11-10  2014-11-10             0.0   \n",
              "4            448   current  2015-03-10         NaT             NaN   \n",
              "...          ...       ...         ...         ...             ...   \n",
              "1635        1176   current  2015-08-12         NaT             NaN   \n",
              "1636        1110   current  2015-08-13         NaT             NaN   \n",
              "1637        1116  canceled  2015-08-15  2015-08-18             3.0   \n",
              "1638         874   current  2015-08-22         NaT             NaN   \n",
              "1639         686   current  2015-08-23         NaT             NaN   \n",
              "\n",
              "      is_udacity  is_canceled  \n",
              "0           True         True  \n",
              "1           True         True  \n",
              "2           True         True  \n",
              "3           True         True  \n",
              "4           True        False  \n",
              "...          ...          ...  \n",
              "1635       False        False  \n",
              "1636       False        False  \n",
              "1637       False         True  \n",
              "1638       False        False  \n",
              "1639       False        False  \n",
              "\n",
              "[1640 rows x 7 columns]"
            ],
            "text/html": [
              "<div>\n",
              "<style scoped>\n",
              "    .dataframe tbody tr th:only-of-type {\n",
              "        vertical-align: middle;\n",
              "    }\n",
              "\n",
              "    .dataframe tbody tr th {\n",
              "        vertical-align: top;\n",
              "    }\n",
              "\n",
              "    .dataframe thead th {\n",
              "        text-align: right;\n",
              "    }\n",
              "</style>\n",
              "<table border=\"1\" class=\"dataframe\">\n",
              "  <thead>\n",
              "    <tr style=\"text-align: right;\">\n",
              "      <th></th>\n",
              "      <th>account_key</th>\n",
              "      <th>status</th>\n",
              "      <th>join_date</th>\n",
              "      <th>cancel_date</th>\n",
              "      <th>days_to_cancel</th>\n",
              "      <th>is_udacity</th>\n",
              "      <th>is_canceled</th>\n",
              "    </tr>\n",
              "  </thead>\n",
              "  <tbody>\n",
              "    <tr>\n",
              "      <th>0</th>\n",
              "      <td>448</td>\n",
              "      <td>canceled</td>\n",
              "      <td>2014-11-10</td>\n",
              "      <td>2015-01-14</td>\n",
              "      <td>65.0</td>\n",
              "      <td>True</td>\n",
              "      <td>True</td>\n",
              "    </tr>\n",
              "    <tr>\n",
              "      <th>1</th>\n",
              "      <td>448</td>\n",
              "      <td>canceled</td>\n",
              "      <td>2014-11-05</td>\n",
              "      <td>2014-11-10</td>\n",
              "      <td>5.0</td>\n",
              "      <td>True</td>\n",
              "      <td>True</td>\n",
              "    </tr>\n",
              "    <tr>\n",
              "      <th>2</th>\n",
              "      <td>448</td>\n",
              "      <td>canceled</td>\n",
              "      <td>2015-01-27</td>\n",
              "      <td>2015-01-27</td>\n",
              "      <td>0.0</td>\n",
              "      <td>True</td>\n",
              "      <td>True</td>\n",
              "    </tr>\n",
              "    <tr>\n",
              "      <th>3</th>\n",
              "      <td>448</td>\n",
              "      <td>canceled</td>\n",
              "      <td>2014-11-10</td>\n",
              "      <td>2014-11-10</td>\n",
              "      <td>0.0</td>\n",
              "      <td>True</td>\n",
              "      <td>True</td>\n",
              "    </tr>\n",
              "    <tr>\n",
              "      <th>4</th>\n",
              "      <td>448</td>\n",
              "      <td>current</td>\n",
              "      <td>2015-03-10</td>\n",
              "      <td>NaT</td>\n",
              "      <td>NaN</td>\n",
              "      <td>True</td>\n",
              "      <td>False</td>\n",
              "    </tr>\n",
              "    <tr>\n",
              "      <th>...</th>\n",
              "      <td>...</td>\n",
              "      <td>...</td>\n",
              "      <td>...</td>\n",
              "      <td>...</td>\n",
              "      <td>...</td>\n",
              "      <td>...</td>\n",
              "      <td>...</td>\n",
              "    </tr>\n",
              "    <tr>\n",
              "      <th>1635</th>\n",
              "      <td>1176</td>\n",
              "      <td>current</td>\n",
              "      <td>2015-08-12</td>\n",
              "      <td>NaT</td>\n",
              "      <td>NaN</td>\n",
              "      <td>False</td>\n",
              "      <td>False</td>\n",
              "    </tr>\n",
              "    <tr>\n",
              "      <th>1636</th>\n",
              "      <td>1110</td>\n",
              "      <td>current</td>\n",
              "      <td>2015-08-13</td>\n",
              "      <td>NaT</td>\n",
              "      <td>NaN</td>\n",
              "      <td>False</td>\n",
              "      <td>False</td>\n",
              "    </tr>\n",
              "    <tr>\n",
              "      <th>1637</th>\n",
              "      <td>1116</td>\n",
              "      <td>canceled</td>\n",
              "      <td>2015-08-15</td>\n",
              "      <td>2015-08-18</td>\n",
              "      <td>3.0</td>\n",
              "      <td>False</td>\n",
              "      <td>True</td>\n",
              "    </tr>\n",
              "    <tr>\n",
              "      <th>1638</th>\n",
              "      <td>874</td>\n",
              "      <td>current</td>\n",
              "      <td>2015-08-22</td>\n",
              "      <td>NaT</td>\n",
              "      <td>NaN</td>\n",
              "      <td>False</td>\n",
              "      <td>False</td>\n",
              "    </tr>\n",
              "    <tr>\n",
              "      <th>1639</th>\n",
              "      <td>686</td>\n",
              "      <td>current</td>\n",
              "      <td>2015-08-23</td>\n",
              "      <td>NaT</td>\n",
              "      <td>NaN</td>\n",
              "      <td>False</td>\n",
              "      <td>False</td>\n",
              "    </tr>\n",
              "  </tbody>\n",
              "</table>\n",
              "<p>1640 rows × 7 columns</p>\n",
              "</div>"
            ]
          },
          "metadata": {
            "tags": []
          },
          "execution_count": 62
        }
      ]
    },
    {
      "cell_type": "code",
      "metadata": {
        "id": "8jdRf46sMhH0",
        "colab_type": "code",
        "colab": {}
      },
      "source": [
        "project_submissions = pd.read_csv(\n",
        "    'project_submissions.csv', infer_datetime_format=True, engine='c')"
      ],
      "execution_count": 0,
      "outputs": []
    },
    {
      "cell_type": "code",
      "metadata": {
        "id": "ENoCdyt1MwLC",
        "colab_type": "code",
        "colab": {
          "base_uri": "https://localhost:8080/",
          "height": 419
        },
        "outputId": "169276ce-5e7a-4ae1-cef2-a14f77095342"
      },
      "source": [
        "project_submissions.astype({\n",
        "    'creation_date': 'datetime64[ns]',\n",
        "    'completion_date': 'datetime64[ns]',\n",
        "    'assigned_rating': str,\n",
        "    'account_key': str,\n",
        "    'lesson_key': str,\n",
        "    })"
      ],
      "execution_count": 60,
      "outputs": [
        {
          "output_type": "execute_result",
          "data": {
            "text/plain": [
              "     creation_date completion_date assigned_rating account_key  lesson_key  \\\n",
              "0       2015-01-14      2015-01-16        UNGRADED         256  3176718735   \n",
              "1       2015-01-10      2015-01-13      INCOMPLETE         256  3176718735   \n",
              "2       2015-01-20      2015-01-20          PASSED         256  3176718735   \n",
              "3       2015-03-10      2015-03-13          PASSED         434  3176718735   \n",
              "4       2015-02-17      2015-03-03      INCOMPLETE         434  3176718735   \n",
              "...            ...             ...             ...         ...         ...   \n",
              "3637    2015-01-13      2015-01-22          PASSED         243  3176718735   \n",
              "3638    2015-07-07      2015-07-07      INCOMPLETE         771  3176718735   \n",
              "3639    2015-08-16      2015-08-16          PASSED           2  3176718735   \n",
              "3640    2015-03-03      2015-03-11          PASSED         623  3176718735   \n",
              "3641    2015-07-10      2015-07-11          PASSED        1274  4576183932   \n",
              "\n",
              "     processing_state  \n",
              "0           EVALUATED  \n",
              "1           EVALUATED  \n",
              "2           EVALUATED  \n",
              "3           EVALUATED  \n",
              "4           EVALUATED  \n",
              "...               ...  \n",
              "3637        EVALUATED  \n",
              "3638        EVALUATED  \n",
              "3639        EVALUATED  \n",
              "3640        EVALUATED  \n",
              "3641        EVALUATED  \n",
              "\n",
              "[3642 rows x 6 columns]"
            ],
            "text/html": [
              "<div>\n",
              "<style scoped>\n",
              "    .dataframe tbody tr th:only-of-type {\n",
              "        vertical-align: middle;\n",
              "    }\n",
              "\n",
              "    .dataframe tbody tr th {\n",
              "        vertical-align: top;\n",
              "    }\n",
              "\n",
              "    .dataframe thead th {\n",
              "        text-align: right;\n",
              "    }\n",
              "</style>\n",
              "<table border=\"1\" class=\"dataframe\">\n",
              "  <thead>\n",
              "    <tr style=\"text-align: right;\">\n",
              "      <th></th>\n",
              "      <th>creation_date</th>\n",
              "      <th>completion_date</th>\n",
              "      <th>assigned_rating</th>\n",
              "      <th>account_key</th>\n",
              "      <th>lesson_key</th>\n",
              "      <th>processing_state</th>\n",
              "    </tr>\n",
              "  </thead>\n",
              "  <tbody>\n",
              "    <tr>\n",
              "      <th>0</th>\n",
              "      <td>2015-01-14</td>\n",
              "      <td>2015-01-16</td>\n",
              "      <td>UNGRADED</td>\n",
              "      <td>256</td>\n",
              "      <td>3176718735</td>\n",
              "      <td>EVALUATED</td>\n",
              "    </tr>\n",
              "    <tr>\n",
              "      <th>1</th>\n",
              "      <td>2015-01-10</td>\n",
              "      <td>2015-01-13</td>\n",
              "      <td>INCOMPLETE</td>\n",
              "      <td>256</td>\n",
              "      <td>3176718735</td>\n",
              "      <td>EVALUATED</td>\n",
              "    </tr>\n",
              "    <tr>\n",
              "      <th>2</th>\n",
              "      <td>2015-01-20</td>\n",
              "      <td>2015-01-20</td>\n",
              "      <td>PASSED</td>\n",
              "      <td>256</td>\n",
              "      <td>3176718735</td>\n",
              "      <td>EVALUATED</td>\n",
              "    </tr>\n",
              "    <tr>\n",
              "      <th>3</th>\n",
              "      <td>2015-03-10</td>\n",
              "      <td>2015-03-13</td>\n",
              "      <td>PASSED</td>\n",
              "      <td>434</td>\n",
              "      <td>3176718735</td>\n",
              "      <td>EVALUATED</td>\n",
              "    </tr>\n",
              "    <tr>\n",
              "      <th>4</th>\n",
              "      <td>2015-02-17</td>\n",
              "      <td>2015-03-03</td>\n",
              "      <td>INCOMPLETE</td>\n",
              "      <td>434</td>\n",
              "      <td>3176718735</td>\n",
              "      <td>EVALUATED</td>\n",
              "    </tr>\n",
              "    <tr>\n",
              "      <th>...</th>\n",
              "      <td>...</td>\n",
              "      <td>...</td>\n",
              "      <td>...</td>\n",
              "      <td>...</td>\n",
              "      <td>...</td>\n",
              "      <td>...</td>\n",
              "    </tr>\n",
              "    <tr>\n",
              "      <th>3637</th>\n",
              "      <td>2015-01-13</td>\n",
              "      <td>2015-01-22</td>\n",
              "      <td>PASSED</td>\n",
              "      <td>243</td>\n",
              "      <td>3176718735</td>\n",
              "      <td>EVALUATED</td>\n",
              "    </tr>\n",
              "    <tr>\n",
              "      <th>3638</th>\n",
              "      <td>2015-07-07</td>\n",
              "      <td>2015-07-07</td>\n",
              "      <td>INCOMPLETE</td>\n",
              "      <td>771</td>\n",
              "      <td>3176718735</td>\n",
              "      <td>EVALUATED</td>\n",
              "    </tr>\n",
              "    <tr>\n",
              "      <th>3639</th>\n",
              "      <td>2015-08-16</td>\n",
              "      <td>2015-08-16</td>\n",
              "      <td>PASSED</td>\n",
              "      <td>2</td>\n",
              "      <td>3176718735</td>\n",
              "      <td>EVALUATED</td>\n",
              "    </tr>\n",
              "    <tr>\n",
              "      <th>3640</th>\n",
              "      <td>2015-03-03</td>\n",
              "      <td>2015-03-11</td>\n",
              "      <td>PASSED</td>\n",
              "      <td>623</td>\n",
              "      <td>3176718735</td>\n",
              "      <td>EVALUATED</td>\n",
              "    </tr>\n",
              "    <tr>\n",
              "      <th>3641</th>\n",
              "      <td>2015-07-10</td>\n",
              "      <td>2015-07-11</td>\n",
              "      <td>PASSED</td>\n",
              "      <td>1274</td>\n",
              "      <td>4576183932</td>\n",
              "      <td>EVALUATED</td>\n",
              "    </tr>\n",
              "  </tbody>\n",
              "</table>\n",
              "<p>3642 rows × 6 columns</p>\n",
              "</div>"
            ]
          },
          "metadata": {
            "tags": []
          },
          "execution_count": 60
        }
      ]
    },
    {
      "cell_type": "markdown",
      "metadata": {
        "id": "iNw3A6QJNV0M",
        "colab_type": "text"
      },
      "source": [
        "How many students enrolled?\n",
        "\n",
        "How many students passed/failed/didnt finish?\n",
        "\n",
        "when did students frequently join?\n",
        "\n",
        "is there a correlation between students joining/completing projects vs pass status?\n",
        "\n",
        "\n",
        "\n"
      ]
    },
    {
      "cell_type": "markdown",
      "metadata": {
        "id": "x59Gy8eMJgbl",
        "colab_type": "text"
      },
      "source": [
        "### Get Total Unique Engagements, Enrollments, Submissions"
      ]
    },
    {
      "cell_type": "code",
      "metadata": {
        "id": "XDvS5hHO-MUf",
        "colab_type": "code",
        "colab": {}
      },
      "source": [
        "uniq_student_engagement=engagements.drop_duplicates(subset=['acct'])\n",
        "uniq_student_enrollment = enrollments_df.drop_duplicates(subset=['account_key'])\n",
        "uniq_student_submission = project_submissions.drop_duplicates(subset=['account_key'])\n"
      ],
      "execution_count": 0,
      "outputs": []
    },
    {
      "cell_type": "code",
      "metadata": {
        "id": "ylqqtK5t-M_X",
        "colab_type": "code",
        "colab": {
          "base_uri": "https://localhost:8080/",
          "height": 34
        },
        "outputId": "7ece85a2-15ce-4580-c637-4d538b160fbc"
      },
      "source": [
        "uniq_student_engagement.size"
      ],
      "execution_count": 111,
      "outputs": [
        {
          "output_type": "execute_result",
          "data": {
            "text/plain": [
              "14844"
            ]
          },
          "metadata": {
            "tags": []
          },
          "execution_count": 111
        }
      ]
    },
    {
      "cell_type": "code",
      "metadata": {
        "id": "K3gY3dRB-Veg",
        "colab_type": "code",
        "colab": {
          "base_uri": "https://localhost:8080/",
          "height": 34
        },
        "outputId": "8c20bca8-a86c-46b9-8e92-5c07fdced6f7"
      },
      "source": [
        "uniq_student_enrollment.size"
      ],
      "execution_count": 112,
      "outputs": [
        {
          "output_type": "execute_result",
          "data": {
            "text/plain": [
              "9114"
            ]
          },
          "metadata": {
            "tags": []
          },
          "execution_count": 112
        }
      ]
    },
    {
      "cell_type": "code",
      "metadata": {
        "id": "NtXAsEaP-Xd9",
        "colab_type": "code",
        "colab": {
          "base_uri": "https://localhost:8080/",
          "height": 34
        },
        "outputId": "2a61bc1e-3b29-48b8-8bee-2b84759ca3de"
      },
      "source": [
        "uniq_student_submission.size"
      ],
      "execution_count": 113,
      "outputs": [
        {
          "output_type": "execute_result",
          "data": {
            "text/plain": [
              "4458"
            ]
          },
          "metadata": {
            "tags": []
          },
          "execution_count": 113
        }
      ]
    },
    {
      "cell_type": "code",
      "metadata": {
        "id": "fu1H4fBP_3Nv",
        "colab_type": "code",
        "colab": {
          "base_uri": "https://localhost:8080/",
          "height": 204
        },
        "outputId": "f5c7cbe5-4a27-4489-dc19-38daf24ea69f"
      },
      "source": [
        "uniq_student_enrollment.tail(5)"
      ],
      "execution_count": 121,
      "outputs": [
        {
          "output_type": "execute_result",
          "data": {
            "text/plain": [
              "      account_key    status   join_date cancel_date  days_to_cancel  \\\n",
              "1635         1176   current  2015-08-12         NaN             NaN   \n",
              "1636         1110   current  2015-08-13         NaN             NaN   \n",
              "1637         1116  canceled  2015-08-15  2015-08-18             3.0   \n",
              "1638          874   current  2015-08-22         NaN             NaN   \n",
              "1639          686   current  2015-08-23         NaN             NaN   \n",
              "\n",
              "      is_udacity  is_canceled  \n",
              "1635       False        False  \n",
              "1636       False        False  \n",
              "1637       False         True  \n",
              "1638       False        False  \n",
              "1639       False        False  "
            ],
            "text/html": [
              "<div>\n",
              "<style scoped>\n",
              "    .dataframe tbody tr th:only-of-type {\n",
              "        vertical-align: middle;\n",
              "    }\n",
              "\n",
              "    .dataframe tbody tr th {\n",
              "        vertical-align: top;\n",
              "    }\n",
              "\n",
              "    .dataframe thead th {\n",
              "        text-align: right;\n",
              "    }\n",
              "</style>\n",
              "<table border=\"1\" class=\"dataframe\">\n",
              "  <thead>\n",
              "    <tr style=\"text-align: right;\">\n",
              "      <th></th>\n",
              "      <th>account_key</th>\n",
              "      <th>status</th>\n",
              "      <th>join_date</th>\n",
              "      <th>cancel_date</th>\n",
              "      <th>days_to_cancel</th>\n",
              "      <th>is_udacity</th>\n",
              "      <th>is_canceled</th>\n",
              "    </tr>\n",
              "  </thead>\n",
              "  <tbody>\n",
              "    <tr>\n",
              "      <th>1635</th>\n",
              "      <td>1176</td>\n",
              "      <td>current</td>\n",
              "      <td>2015-08-12</td>\n",
              "      <td>NaN</td>\n",
              "      <td>NaN</td>\n",
              "      <td>False</td>\n",
              "      <td>False</td>\n",
              "    </tr>\n",
              "    <tr>\n",
              "      <th>1636</th>\n",
              "      <td>1110</td>\n",
              "      <td>current</td>\n",
              "      <td>2015-08-13</td>\n",
              "      <td>NaN</td>\n",
              "      <td>NaN</td>\n",
              "      <td>False</td>\n",
              "      <td>False</td>\n",
              "    </tr>\n",
              "    <tr>\n",
              "      <th>1637</th>\n",
              "      <td>1116</td>\n",
              "      <td>canceled</td>\n",
              "      <td>2015-08-15</td>\n",
              "      <td>2015-08-18</td>\n",
              "      <td>3.0</td>\n",
              "      <td>False</td>\n",
              "      <td>True</td>\n",
              "    </tr>\n",
              "    <tr>\n",
              "      <th>1638</th>\n",
              "      <td>874</td>\n",
              "      <td>current</td>\n",
              "      <td>2015-08-22</td>\n",
              "      <td>NaN</td>\n",
              "      <td>NaN</td>\n",
              "      <td>False</td>\n",
              "      <td>False</td>\n",
              "    </tr>\n",
              "    <tr>\n",
              "      <th>1639</th>\n",
              "      <td>686</td>\n",
              "      <td>current</td>\n",
              "      <td>2015-08-23</td>\n",
              "      <td>NaN</td>\n",
              "      <td>NaN</td>\n",
              "      <td>False</td>\n",
              "      <td>False</td>\n",
              "    </tr>\n",
              "  </tbody>\n",
              "</table>\n",
              "</div>"
            ]
          },
          "metadata": {
            "tags": []
          },
          "execution_count": 121
        }
      ]
    },
    {
      "cell_type": "code",
      "metadata": {
        "id": "4EuDvx81Amf7",
        "colab_type": "code",
        "colab": {
          "base_uri": "https://localhost:8080/",
          "height": 309
        },
        "outputId": "57ef70dc-ab89-485c-ddde-cf2c398e0e54"
      },
      "source": [
        "uniq_student_engagement.tail(5)"
      ],
      "execution_count": 123,
      "outputs": [
        {
          "output_type": "execute_result",
          "data": {
            "text/plain": [
              "           utc_date  acct registration_date subscription_start course_key  \\\n",
              "2308859  2015-08-23   686        2012-10-20         2015-08-23   ud032-nd   \n",
              "2308878  2015-08-23  1067        2012-08-30         2015-08-22   ud120-nd   \n",
              "2308973  2015-08-23   874        2015-08-05         2015-08-22   ud651-nd   \n",
              "2309068  2015-08-23   754        2015-01-22         2015-08-21   ud359-nd   \n",
              "2309163  2015-08-23   854        2012-10-12         2015-08-23   ud359-nd   \n",
              "\n",
              "        sibling_key                 course_title  has_visited  \\\n",
              "2308859       ud032  Data Wrangling with MongoDB          0.0   \n",
              "2308878       ud120    Intro to Machine Learning          0.0   \n",
              "2308973       ud651         Data Analysis with R          0.0   \n",
              "2309068       ud359        Intro to Data Science          0.0   \n",
              "2309163       ud359        Intro to Data Science          0.0   \n",
              "\n",
              "         total_minutes_visited  lessons_completed  projects_completed  \\\n",
              "2308859                    0.0                0.0                 0.0   \n",
              "2308878                    0.0                0.0                 0.0   \n",
              "2308973                    0.0                0.0                 0.0   \n",
              "2309068                    0.0                0.0                 0.0   \n",
              "2309163                    0.0                0.0                 0.0   \n",
              "\n",
              "        account_key  \n",
              "2308859   u28015558  \n",
              "2308878   u20522597  \n",
              "2308973  4804719296  \n",
              "2309068  3567109205  \n",
              "2309163   u26334020  "
            ],
            "text/html": [
              "<div>\n",
              "<style scoped>\n",
              "    .dataframe tbody tr th:only-of-type {\n",
              "        vertical-align: middle;\n",
              "    }\n",
              "\n",
              "    .dataframe tbody tr th {\n",
              "        vertical-align: top;\n",
              "    }\n",
              "\n",
              "    .dataframe thead th {\n",
              "        text-align: right;\n",
              "    }\n",
              "</style>\n",
              "<table border=\"1\" class=\"dataframe\">\n",
              "  <thead>\n",
              "    <tr style=\"text-align: right;\">\n",
              "      <th></th>\n",
              "      <th>utc_date</th>\n",
              "      <th>acct</th>\n",
              "      <th>registration_date</th>\n",
              "      <th>subscription_start</th>\n",
              "      <th>course_key</th>\n",
              "      <th>sibling_key</th>\n",
              "      <th>course_title</th>\n",
              "      <th>has_visited</th>\n",
              "      <th>total_minutes_visited</th>\n",
              "      <th>lessons_completed</th>\n",
              "      <th>projects_completed</th>\n",
              "      <th>account_key</th>\n",
              "    </tr>\n",
              "  </thead>\n",
              "  <tbody>\n",
              "    <tr>\n",
              "      <th>2308859</th>\n",
              "      <td>2015-08-23</td>\n",
              "      <td>686</td>\n",
              "      <td>2012-10-20</td>\n",
              "      <td>2015-08-23</td>\n",
              "      <td>ud032-nd</td>\n",
              "      <td>ud032</td>\n",
              "      <td>Data Wrangling with MongoDB</td>\n",
              "      <td>0.0</td>\n",
              "      <td>0.0</td>\n",
              "      <td>0.0</td>\n",
              "      <td>0.0</td>\n",
              "      <td>u28015558</td>\n",
              "    </tr>\n",
              "    <tr>\n",
              "      <th>2308878</th>\n",
              "      <td>2015-08-23</td>\n",
              "      <td>1067</td>\n",
              "      <td>2012-08-30</td>\n",
              "      <td>2015-08-22</td>\n",
              "      <td>ud120-nd</td>\n",
              "      <td>ud120</td>\n",
              "      <td>Intro to Machine Learning</td>\n",
              "      <td>0.0</td>\n",
              "      <td>0.0</td>\n",
              "      <td>0.0</td>\n",
              "      <td>0.0</td>\n",
              "      <td>u20522597</td>\n",
              "    </tr>\n",
              "    <tr>\n",
              "      <th>2308973</th>\n",
              "      <td>2015-08-23</td>\n",
              "      <td>874</td>\n",
              "      <td>2015-08-05</td>\n",
              "      <td>2015-08-22</td>\n",
              "      <td>ud651-nd</td>\n",
              "      <td>ud651</td>\n",
              "      <td>Data Analysis with R</td>\n",
              "      <td>0.0</td>\n",
              "      <td>0.0</td>\n",
              "      <td>0.0</td>\n",
              "      <td>0.0</td>\n",
              "      <td>4804719296</td>\n",
              "    </tr>\n",
              "    <tr>\n",
              "      <th>2309068</th>\n",
              "      <td>2015-08-23</td>\n",
              "      <td>754</td>\n",
              "      <td>2015-01-22</td>\n",
              "      <td>2015-08-21</td>\n",
              "      <td>ud359-nd</td>\n",
              "      <td>ud359</td>\n",
              "      <td>Intro to Data Science</td>\n",
              "      <td>0.0</td>\n",
              "      <td>0.0</td>\n",
              "      <td>0.0</td>\n",
              "      <td>0.0</td>\n",
              "      <td>3567109205</td>\n",
              "    </tr>\n",
              "    <tr>\n",
              "      <th>2309163</th>\n",
              "      <td>2015-08-23</td>\n",
              "      <td>854</td>\n",
              "      <td>2012-10-12</td>\n",
              "      <td>2015-08-23</td>\n",
              "      <td>ud359-nd</td>\n",
              "      <td>ud359</td>\n",
              "      <td>Intro to Data Science</td>\n",
              "      <td>0.0</td>\n",
              "      <td>0.0</td>\n",
              "      <td>0.0</td>\n",
              "      <td>0.0</td>\n",
              "      <td>u26334020</td>\n",
              "    </tr>\n",
              "  </tbody>\n",
              "</table>\n",
              "</div>"
            ]
          },
          "metadata": {
            "tags": []
          },
          "execution_count": 123
        }
      ]
    },
    {
      "cell_type": "code",
      "metadata": {
        "id": "o-n5QJVuBNRU",
        "colab_type": "code",
        "colab": {}
      },
      "source": [
        "uniq_enrolled_accounts = uniq_student_enrollment['account_key']\n",
        "uniq_engagement_accounts = uniq_student_engagement['acct']"
      ],
      "execution_count": 0,
      "outputs": []
    },
    {
      "cell_type": "code",
      "metadata": {
        "id": "wmqqXfooEFr4",
        "colab_type": "code",
        "colab": {
          "base_uri": "https://localhost:8080/",
          "height": 34
        },
        "outputId": "ff01b82e-a5ae-4e58-f104-7917d3a1b65c"
      },
      "source": [
        "uniq_enrolled_accounts.size"
      ],
      "execution_count": 133,
      "outputs": [
        {
          "output_type": "execute_result",
          "data": {
            "text/plain": [
              "1302"
            ]
          },
          "metadata": {
            "tags": []
          },
          "execution_count": 133
        }
      ]
    },
    {
      "cell_type": "code",
      "metadata": {
        "id": "v5sYyOuWF2Qk",
        "colab_type": "code",
        "colab": {
          "base_uri": "https://localhost:8080/",
          "height": 34
        },
        "outputId": "f5df3e10-75d0-4051-ae86-7ce82b69af83"
      },
      "source": [
        "uniq_engagement_accounts.size"
      ],
      "execution_count": 129,
      "outputs": [
        {
          "output_type": "execute_result",
          "data": {
            "text/plain": [
              "1237"
            ]
          },
          "metadata": {
            "tags": []
          },
          "execution_count": 129
        }
      ]
    },
    {
      "cell_type": "code",
      "metadata": {
        "id": "CDjKdfmvC_fm",
        "colab_type": "code",
        "colab": {
          "base_uri": "https://localhost:8080/",
          "height": 119
        },
        "outputId": "b6e85baa-26af-4376-caa4-263fce34fef7"
      },
      "source": [
        "uniq_engagement_accounts.head(5)"
      ],
      "execution_count": 130,
      "outputs": [
        {
          "output_type": "execute_result",
          "data": {
            "text/plain": [
              "0        448\n",
              "4858      44\n",
              "9641     258\n",
              "13657    366\n",
              "16059    587\n",
              "Name: acct, dtype: int64"
            ]
          },
          "metadata": {
            "tags": []
          },
          "execution_count": 130
        }
      ]
    },
    {
      "cell_type": "code",
      "metadata": {
        "id": "D5KU7GDDGShS",
        "colab_type": "code",
        "colab": {
          "base_uri": "https://localhost:8080/",
          "height": 119
        },
        "outputId": "57f1f805-1c63-49ab-cb1f-8f704b78aa49"
      },
      "source": [
        "uniq_enrolled_accounts.head(5)"
      ],
      "execution_count": 134,
      "outputs": [
        {
          "output_type": "execute_result",
          "data": {
            "text/plain": [
              "0      448\n",
              "9      700\n",
              "10     429\n",
              "12      60\n",
              "15    1300\n",
              "Name: account_key, dtype: int64"
            ]
          },
          "metadata": {
            "tags": []
          },
          "execution_count": 134
        }
      ]
    },
    {
      "cell_type": "markdown",
      "metadata": {
        "id": "rXQVJb_1Jph_",
        "colab_type": "text"
      },
      "source": [
        "### Get total Unique Accounts Enrolled but Not Engaged "
      ]
    },
    {
      "cell_type": "code",
      "metadata": {
        "id": "FEqF_FzpIDSh",
        "colab_type": "code",
        "colab": {
          "base_uri": "https://localhost:8080/",
          "height": 221
        },
        "outputId": "88d181ca-30d9-4b1d-b4ad-224a21d4aad8"
      },
      "source": [
        "enrolled_not_engaged_accounts = uniq_enrolled_accounts[~uniq_enrolled_accounts.isin(uniq_engagement_accounts)]\n",
        "enrolled_not_engaged_accounts"
      ],
      "execution_count": 148,
      "outputs": [
        {
          "output_type": "execute_result",
          "data": {
            "text/plain": [
              "65      1219\n",
              "75       871\n",
              "193     1218\n",
              "216      654\n",
              "220      964\n",
              "        ... \n",
              "1501    1079\n",
              "1543    1063\n",
              "1563    1270\n",
              "1608    1291\n",
              "1613    1241\n",
              "Name: account_key, Length: 65, dtype: int64"
            ]
          },
          "metadata": {
            "tags": []
          },
          "execution_count": 148
        }
      ]
    },
    {
      "cell_type": "code",
      "metadata": {
        "id": "aoNA1JunJPEY",
        "colab_type": "code",
        "colab": {
          "base_uri": "https://localhost:8080/",
          "height": 419
        },
        "outputId": "4286941d-905e-44c0-f662-95b20a425b72"
      },
      "source": [
        "uniq_student_enrollment[uniq_student_enrollment['account_key'].isin(enrolled_not_engaged_accounts)]"
      ],
      "execution_count": 150,
      "outputs": [
        {
          "output_type": "execute_result",
          "data": {
            "text/plain": [
              "      account_key    status   join_date cancel_date  days_to_cancel  \\\n",
              "65           1219  canceled  2014-11-12  2014-11-12             0.0   \n",
              "75            871  canceled  2014-11-13  2014-11-13             0.0   \n",
              "193          1218  canceled  2014-11-15  2014-11-15             0.0   \n",
              "216           654  canceled  2014-12-04  2014-12-04             0.0   \n",
              "220           964  canceled  2014-12-04  2014-12-04             0.0   \n",
              "...           ...       ...         ...         ...             ...   \n",
              "1501         1079  canceled  2015-02-09  2015-02-09             0.0   \n",
              "1543         1063  canceled  2015-07-14  2015-07-14             0.0   \n",
              "1563         1270  canceled  2015-07-20  2015-07-20             0.0   \n",
              "1608         1291  canceled  2015-06-03  2015-06-03             0.0   \n",
              "1613         1241  canceled  2015-06-09  2015-06-09             0.0   \n",
              "\n",
              "      is_udacity  is_canceled  \n",
              "65         False         True  \n",
              "75         False         True  \n",
              "193        False         True  \n",
              "216        False         True  \n",
              "220        False         True  \n",
              "...          ...          ...  \n",
              "1501       False         True  \n",
              "1543       False         True  \n",
              "1563       False         True  \n",
              "1608       False         True  \n",
              "1613       False         True  \n",
              "\n",
              "[65 rows x 7 columns]"
            ],
            "text/html": [
              "<div>\n",
              "<style scoped>\n",
              "    .dataframe tbody tr th:only-of-type {\n",
              "        vertical-align: middle;\n",
              "    }\n",
              "\n",
              "    .dataframe tbody tr th {\n",
              "        vertical-align: top;\n",
              "    }\n",
              "\n",
              "    .dataframe thead th {\n",
              "        text-align: right;\n",
              "    }\n",
              "</style>\n",
              "<table border=\"1\" class=\"dataframe\">\n",
              "  <thead>\n",
              "    <tr style=\"text-align: right;\">\n",
              "      <th></th>\n",
              "      <th>account_key</th>\n",
              "      <th>status</th>\n",
              "      <th>join_date</th>\n",
              "      <th>cancel_date</th>\n",
              "      <th>days_to_cancel</th>\n",
              "      <th>is_udacity</th>\n",
              "      <th>is_canceled</th>\n",
              "    </tr>\n",
              "  </thead>\n",
              "  <tbody>\n",
              "    <tr>\n",
              "      <th>65</th>\n",
              "      <td>1219</td>\n",
              "      <td>canceled</td>\n",
              "      <td>2014-11-12</td>\n",
              "      <td>2014-11-12</td>\n",
              "      <td>0.0</td>\n",
              "      <td>False</td>\n",
              "      <td>True</td>\n",
              "    </tr>\n",
              "    <tr>\n",
              "      <th>75</th>\n",
              "      <td>871</td>\n",
              "      <td>canceled</td>\n",
              "      <td>2014-11-13</td>\n",
              "      <td>2014-11-13</td>\n",
              "      <td>0.0</td>\n",
              "      <td>False</td>\n",
              "      <td>True</td>\n",
              "    </tr>\n",
              "    <tr>\n",
              "      <th>193</th>\n",
              "      <td>1218</td>\n",
              "      <td>canceled</td>\n",
              "      <td>2014-11-15</td>\n",
              "      <td>2014-11-15</td>\n",
              "      <td>0.0</td>\n",
              "      <td>False</td>\n",
              "      <td>True</td>\n",
              "    </tr>\n",
              "    <tr>\n",
              "      <th>216</th>\n",
              "      <td>654</td>\n",
              "      <td>canceled</td>\n",
              "      <td>2014-12-04</td>\n",
              "      <td>2014-12-04</td>\n",
              "      <td>0.0</td>\n",
              "      <td>False</td>\n",
              "      <td>True</td>\n",
              "    </tr>\n",
              "    <tr>\n",
              "      <th>220</th>\n",
              "      <td>964</td>\n",
              "      <td>canceled</td>\n",
              "      <td>2014-12-04</td>\n",
              "      <td>2014-12-04</td>\n",
              "      <td>0.0</td>\n",
              "      <td>False</td>\n",
              "      <td>True</td>\n",
              "    </tr>\n",
              "    <tr>\n",
              "      <th>...</th>\n",
              "      <td>...</td>\n",
              "      <td>...</td>\n",
              "      <td>...</td>\n",
              "      <td>...</td>\n",
              "      <td>...</td>\n",
              "      <td>...</td>\n",
              "      <td>...</td>\n",
              "    </tr>\n",
              "    <tr>\n",
              "      <th>1501</th>\n",
              "      <td>1079</td>\n",
              "      <td>canceled</td>\n",
              "      <td>2015-02-09</td>\n",
              "      <td>2015-02-09</td>\n",
              "      <td>0.0</td>\n",
              "      <td>False</td>\n",
              "      <td>True</td>\n",
              "    </tr>\n",
              "    <tr>\n",
              "      <th>1543</th>\n",
              "      <td>1063</td>\n",
              "      <td>canceled</td>\n",
              "      <td>2015-07-14</td>\n",
              "      <td>2015-07-14</td>\n",
              "      <td>0.0</td>\n",
              "      <td>False</td>\n",
              "      <td>True</td>\n",
              "    </tr>\n",
              "    <tr>\n",
              "      <th>1563</th>\n",
              "      <td>1270</td>\n",
              "      <td>canceled</td>\n",
              "      <td>2015-07-20</td>\n",
              "      <td>2015-07-20</td>\n",
              "      <td>0.0</td>\n",
              "      <td>False</td>\n",
              "      <td>True</td>\n",
              "    </tr>\n",
              "    <tr>\n",
              "      <th>1608</th>\n",
              "      <td>1291</td>\n",
              "      <td>canceled</td>\n",
              "      <td>2015-06-03</td>\n",
              "      <td>2015-06-03</td>\n",
              "      <td>0.0</td>\n",
              "      <td>False</td>\n",
              "      <td>True</td>\n",
              "    </tr>\n",
              "    <tr>\n",
              "      <th>1613</th>\n",
              "      <td>1241</td>\n",
              "      <td>canceled</td>\n",
              "      <td>2015-06-09</td>\n",
              "      <td>2015-06-09</td>\n",
              "      <td>0.0</td>\n",
              "      <td>False</td>\n",
              "      <td>True</td>\n",
              "    </tr>\n",
              "  </tbody>\n",
              "</table>\n",
              "<p>65 rows × 7 columns</p>\n",
              "</div>"
            ]
          },
          "metadata": {
            "tags": []
          },
          "execution_count": 150
        }
      ]
    },
    {
      "cell_type": "markdown",
      "metadata": {
        "id": "cVoA1djVXg9z",
        "colab_type": "text"
      },
      "source": [
        "## **Lets look at the project submissions grouped by accounts.**"
      ]
    },
    {
      "cell_type": "code",
      "metadata": {
        "id": "yKJmnE7dePKy",
        "colab_type": "code",
        "colab": {
          "base_uri": "https://localhost:8080/",
          "height": 204
        },
        "outputId": "122f7ed5-7085-45c8-fdcf-afc20f63ac26"
      },
      "source": [
        "project_submissions.head(5)"
      ],
      "execution_count": 184,
      "outputs": [
        {
          "output_type": "execute_result",
          "data": {
            "text/plain": [
              "  creation_date completion_date assigned_rating  account_key  lesson_key  \\\n",
              "0    2015-01-14      2015-01-16        UNGRADED          256  3176718735   \n",
              "1    2015-01-10      2015-01-13      INCOMPLETE          256  3176718735   \n",
              "2    2015-01-20      2015-01-20          PASSED          256  3176718735   \n",
              "3    2015-03-10      2015-03-13          PASSED          434  3176718735   \n",
              "4    2015-02-17      2015-03-03      INCOMPLETE          434  3176718735   \n",
              "\n",
              "  processing_state  \n",
              "0        EVALUATED  \n",
              "1        EVALUATED  \n",
              "2        EVALUATED  \n",
              "3        EVALUATED  \n",
              "4        EVALUATED  "
            ],
            "text/html": [
              "<div>\n",
              "<style scoped>\n",
              "    .dataframe tbody tr th:only-of-type {\n",
              "        vertical-align: middle;\n",
              "    }\n",
              "\n",
              "    .dataframe tbody tr th {\n",
              "        vertical-align: top;\n",
              "    }\n",
              "\n",
              "    .dataframe thead th {\n",
              "        text-align: right;\n",
              "    }\n",
              "</style>\n",
              "<table border=\"1\" class=\"dataframe\">\n",
              "  <thead>\n",
              "    <tr style=\"text-align: right;\">\n",
              "      <th></th>\n",
              "      <th>creation_date</th>\n",
              "      <th>completion_date</th>\n",
              "      <th>assigned_rating</th>\n",
              "      <th>account_key</th>\n",
              "      <th>lesson_key</th>\n",
              "      <th>processing_state</th>\n",
              "    </tr>\n",
              "  </thead>\n",
              "  <tbody>\n",
              "    <tr>\n",
              "      <th>0</th>\n",
              "      <td>2015-01-14</td>\n",
              "      <td>2015-01-16</td>\n",
              "      <td>UNGRADED</td>\n",
              "      <td>256</td>\n",
              "      <td>3176718735</td>\n",
              "      <td>EVALUATED</td>\n",
              "    </tr>\n",
              "    <tr>\n",
              "      <th>1</th>\n",
              "      <td>2015-01-10</td>\n",
              "      <td>2015-01-13</td>\n",
              "      <td>INCOMPLETE</td>\n",
              "      <td>256</td>\n",
              "      <td>3176718735</td>\n",
              "      <td>EVALUATED</td>\n",
              "    </tr>\n",
              "    <tr>\n",
              "      <th>2</th>\n",
              "      <td>2015-01-20</td>\n",
              "      <td>2015-01-20</td>\n",
              "      <td>PASSED</td>\n",
              "      <td>256</td>\n",
              "      <td>3176718735</td>\n",
              "      <td>EVALUATED</td>\n",
              "    </tr>\n",
              "    <tr>\n",
              "      <th>3</th>\n",
              "      <td>2015-03-10</td>\n",
              "      <td>2015-03-13</td>\n",
              "      <td>PASSED</td>\n",
              "      <td>434</td>\n",
              "      <td>3176718735</td>\n",
              "      <td>EVALUATED</td>\n",
              "    </tr>\n",
              "    <tr>\n",
              "      <th>4</th>\n",
              "      <td>2015-02-17</td>\n",
              "      <td>2015-03-03</td>\n",
              "      <td>INCOMPLETE</td>\n",
              "      <td>434</td>\n",
              "      <td>3176718735</td>\n",
              "      <td>EVALUATED</td>\n",
              "    </tr>\n",
              "  </tbody>\n",
              "</table>\n",
              "</div>"
            ]
          },
          "metadata": {
            "tags": []
          },
          "execution_count": 184
        }
      ]
    },
    {
      "cell_type": "code",
      "metadata": {
        "id": "fJiCy4o6XqFN",
        "colab_type": "code",
        "colab": {}
      },
      "source": [
        "submissions_groupby_account = project_submissions.groupby(by='account_key', squeeze=True)"
      ],
      "execution_count": 0,
      "outputs": []
    },
    {
      "cell_type": "markdown",
      "metadata": {
        "id": "fZZCRRw6m3yi",
        "colab_type": "text"
      },
      "source": [
        "### Project submissions in descending order"
      ]
    },
    {
      "cell_type": "code",
      "metadata": {
        "id": "7G3bwbFUZO0v",
        "colab_type": "code",
        "colab": {
          "base_uri": "https://localhost:8080/",
          "height": 238
        },
        "outputId": "77012697-51e0-4734-f490-c445648806a5"
      },
      "source": [
        "submissions_groupby_account.size().sort_values(ascending=False)"
      ],
      "execution_count": 283,
      "outputs": [
        {
          "output_type": "execute_result",
          "data": {
            "text/plain": [
              "account_key\n",
              "569    27\n",
              "281    20\n",
              "557    17\n",
              "427    17\n",
              "426    17\n",
              "       ..\n",
              "928     1\n",
              "470     1\n",
              "601     1\n",
              "378     1\n",
              "701     1\n",
              "Length: 743, dtype: int64"
            ]
          },
          "metadata": {
            "tags": []
          },
          "execution_count": 283
        }
      ]
    },
    {
      "cell_type": "markdown",
      "metadata": {
        "id": "0ZYL9OpEnGHP",
        "colab_type": "text"
      },
      "source": [
        "### Segregate Submitted Projects by their submission status(Assigned Rating)"
      ]
    },
    {
      "cell_type": "code",
      "metadata": {
        "id": "KApT42GEedDv",
        "colab_type": "code",
        "colab": {}
      },
      "source": [
        "project_grouped = project_submissions.groupby(by=['account_key', 'assigned_rating'])"
      ],
      "execution_count": 0,
      "outputs": []
    },
    {
      "cell_type": "code",
      "metadata": {
        "id": "KSiU717IerLp",
        "colab_type": "code",
        "colab": {
          "base_uri": "https://localhost:8080/",
          "height": 238
        },
        "outputId": "61f5c248-b82a-4f48-82e1-5f83dcb2c398"
      },
      "source": [
        "project_grouped_size=project_grouped.size()\n",
        "project_grouped_size"
      ],
      "execution_count": 285,
      "outputs": [
        {
          "output_type": "execute_result",
          "data": {
            "text/plain": [
              "account_key  assigned_rating\n",
              "0            INCOMPLETE         5\n",
              "             PASSED             2\n",
              "1            INCOMPLETE         1\n",
              "             PASSED             2\n",
              "2            PASSED             1\n",
              "                               ..\n",
              "1263         PASSED             1\n",
              "1274         PASSED             1\n",
              "1279         PASSED             1\n",
              "1292         INCOMPLETE         1\n",
              "1298         INCOMPLETE         2\n",
              "Length: 1408, dtype: int64"
            ]
          },
          "metadata": {
            "tags": []
          },
          "execution_count": 285
        }
      ]
    },
    {
      "cell_type": "code",
      "metadata": {
        "id": "q09AnxMNngoJ",
        "colab_type": "code",
        "colab": {
          "base_uri": "https://localhost:8080/",
          "height": 238
        },
        "outputId": "a89f25a2-9729-4b43-9845-a8a9ab416c61"
      },
      "source": [
        "project_grouped_size.sort_values(ascending=False)"
      ],
      "execution_count": 286,
      "outputs": [
        {
          "output_type": "execute_result",
          "data": {
            "text/plain": [
              "account_key  assigned_rating\n",
              "569          INCOMPLETE         20\n",
              "281          INCOMPLETE         16\n",
              "557          INCOMPLETE         13\n",
              "641          INCOMPLETE         12\n",
              "426          INCOMPLETE         11\n",
              "                                ..\n",
              "497          PASSED              1\n",
              "209          DISTINCTION         1\n",
              "208          INCOMPLETE          1\n",
              "503          INCOMPLETE          1\n",
              "353          PASSED              1\n",
              "Length: 1408, dtype: int64"
            ]
          },
          "metadata": {
            "tags": []
          },
          "execution_count": 286
        }
      ]
    },
    {
      "cell_type": "code",
      "metadata": {
        "id": "u926B79nh3Sw",
        "colab_type": "code",
        "colab": {}
      },
      "source": [
        "project_grouped_sample = project_grouped.size().unstack(fill_value=0).head(10)"
      ],
      "execution_count": 0,
      "outputs": []
    },
    {
      "cell_type": "code",
      "metadata": {
        "id": "qBSGstLyjXGM",
        "colab_type": "code",
        "colab": {
          "base_uri": "https://localhost:8080/",
          "height": 294
        },
        "outputId": "7818f7fc-ea8e-4110-b7c8-7e46d682ca6b"
      },
      "source": [
        "project_grouped_sample.plot.bar()"
      ],
      "execution_count": 262,
      "outputs": [
        {
          "output_type": "execute_result",
          "data": {
            "text/plain": [
              "<matplotlib.axes._subplots.AxesSubplot at 0x7fa6c6388b00>"
            ]
          },
          "metadata": {
            "tags": []
          },
          "execution_count": 262
        },
        {
          "output_type": "display_data",
          "data": {
            "text/plain": [
              "<Figure size 432x288 with 1 Axes>"
            ],
            "image/png": "[encoded data removed]"
          },
          "metadata": {
            "tags": [],
            "needs_background": "light"
          }
        }
      ]
    },
    {
      "cell_type": "code",
      "metadata": {
        "id": "parchZ85llnH",
        "colab_type": "code",
        "colab": {
          "base_uri": "https://localhost:8080/",
          "height": 450
        },
        "outputId": "b3fcf6cb-8711-4a14-a2b0-fd52a6647d03"
      },
      "source": [
        "grouped_ratings = project_grouped.size().unstack(fill_value=0)\n",
        "grouped_ratings"
      ],
      "execution_count": 265,
      "outputs": [
        {
          "output_type": "execute_result",
          "data": {
            "text/plain": [
              "assigned_rating  DISTINCTION  INCOMPLETE  PASSED  UNGRADED\n",
              "account_key                                               \n",
              "0                          0           5       2         0\n",
              "1                          0           1       2         0\n",
              "2                          0           0       1         0\n",
              "3                          0           3       2         0\n",
              "4                          0           5       2         0\n",
              "...                      ...         ...     ...       ...\n",
              "1263                       0           0       1         0\n",
              "1274                       0           0       1         0\n",
              "1279                       0           0       1         0\n",
              "1292                       0           1       0         0\n",
              "1298                       0           2       0         0\n",
              "\n",
              "[743 rows x 4 columns]"
            ],
            "text/html": [
              "<div>\n",
              "<style scoped>\n",
              "    .dataframe tbody tr th:only-of-type {\n",
              "        vertical-align: middle;\n",
              "    }\n",
              "\n",
              "    .dataframe tbody tr th {\n",
              "        vertical-align: top;\n",
              "    }\n",
              "\n",
              "    .dataframe thead th {\n",
              "        text-align: right;\n",
              "    }\n",
              "</style>\n",
              "<table border=\"1\" class=\"dataframe\">\n",
              "  <thead>\n",
              "    <tr style=\"text-align: right;\">\n",
              "      <th>assigned_rating</th>\n",
              "      <th>DISTINCTION</th>\n",
              "      <th>INCOMPLETE</th>\n",
              "      <th>PASSED</th>\n",
              "      <th>UNGRADED</th>\n",
              "    </tr>\n",
              "    <tr>\n",
              "      <th>account_key</th>\n",
              "      <th></th>\n",
              "      <th></th>\n",
              "      <th></th>\n",
              "      <th></th>\n",
              "    </tr>\n",
              "  </thead>\n",
              "  <tbody>\n",
              "    <tr>\n",
              "      <th>0</th>\n",
              "      <td>0</td>\n",
              "      <td>5</td>\n",
              "      <td>2</td>\n",
              "      <td>0</td>\n",
              "    </tr>\n",
              "    <tr>\n",
              "      <th>1</th>\n",
              "      <td>0</td>\n",
              "      <td>1</td>\n",
              "      <td>2</td>\n",
              "      <td>0</td>\n",
              "    </tr>\n",
              "    <tr>\n",
              "      <th>2</th>\n",
              "      <td>0</td>\n",
              "      <td>0</td>\n",
              "      <td>1</td>\n",
              "      <td>0</td>\n",
              "    </tr>\n",
              "    <tr>\n",
              "      <th>3</th>\n",
              "      <td>0</td>\n",
              "      <td>3</td>\n",
              "      <td>2</td>\n",
              "      <td>0</td>\n",
              "    </tr>\n",
              "    <tr>\n",
              "      <th>4</th>\n",
              "      <td>0</td>\n",
              "      <td>5</td>\n",
              "      <td>2</td>\n",
              "      <td>0</td>\n",
              "    </tr>\n",
              "    <tr>\n",
              "      <th>...</th>\n",
              "      <td>...</td>\n",
              "      <td>...</td>\n",
              "      <td>...</td>\n",
              "      <td>...</td>\n",
              "    </tr>\n",
              "    <tr>\n",
              "      <th>1263</th>\n",
              "      <td>0</td>\n",
              "      <td>0</td>\n",
              "      <td>1</td>\n",
              "      <td>0</td>\n",
              "    </tr>\n",
              "    <tr>\n",
              "      <th>1274</th>\n",
              "      <td>0</td>\n",
              "      <td>0</td>\n",
              "      <td>1</td>\n",
              "      <td>0</td>\n",
              "    </tr>\n",
              "    <tr>\n",
              "      <th>1279</th>\n",
              "      <td>0</td>\n",
              "      <td>0</td>\n",
              "      <td>1</td>\n",
              "      <td>0</td>\n",
              "    </tr>\n",
              "    <tr>\n",
              "      <th>1292</th>\n",
              "      <td>0</td>\n",
              "      <td>1</td>\n",
              "      <td>0</td>\n",
              "      <td>0</td>\n",
              "    </tr>\n",
              "    <tr>\n",
              "      <th>1298</th>\n",
              "      <td>0</td>\n",
              "      <td>2</td>\n",
              "      <td>0</td>\n",
              "      <td>0</td>\n",
              "    </tr>\n",
              "  </tbody>\n",
              "</table>\n",
              "<p>743 rows × 4 columns</p>\n",
              "</div>"
            ]
          },
          "metadata": {
            "tags": []
          },
          "execution_count": 265
        }
      ]
    },
    {
      "cell_type": "code",
      "metadata": {
        "id": "OiqaPmgXqgdm",
        "colab_type": "code",
        "colab": {
          "base_uri": "https://localhost:8080/",
          "height": 450
        },
        "outputId": "7ef739cb-9147-40dc-e6d3-f9d95907a08a"
      },
      "source": [
        "grouped_ratings.sort_values(['DISTINCTION'], ascending=False)"
      ],
      "execution_count": 295,
      "outputs": [
        {
          "output_type": "execute_result",
          "data": {
            "text/plain": [
              "assigned_rating  DISTINCTION  INCOMPLETE  PASSED  UNGRADED\n",
              "account_key                                               \n",
              "553                        2           3       3         2\n",
              "45                         2           2       1         0\n",
              "627                        2           3       0         0\n",
              "156                        2           3       0         0\n",
              "328                        1           6       6         0\n",
              "...                      ...         ...     ...       ...\n",
              "254                        0           5       3         2\n",
              "255                        0           2       2         0\n",
              "256                        0           1       1         1\n",
              "257                        0           7       5         1\n",
              "1298                       0           2       0         0\n",
              "\n",
              "[743 rows x 4 columns]"
            ],
            "text/html": [
              "<div>\n",
              "<style scoped>\n",
              "    .dataframe tbody tr th:only-of-type {\n",
              "        vertical-align: middle;\n",
              "    }\n",
              "\n",
              "    .dataframe tbody tr th {\n",
              "        vertical-align: top;\n",
              "    }\n",
              "\n",
              "    .dataframe thead th {\n",
              "        text-align: right;\n",
              "    }\n",
              "</style>\n",
              "<table border=\"1\" class=\"dataframe\">\n",
              "  <thead>\n",
              "    <tr style=\"text-align: right;\">\n",
              "      <th>assigned_rating</th>\n",
              "      <th>DISTINCTION</th>\n",
              "      <th>INCOMPLETE</th>\n",
              "      <th>PASSED</th>\n",
              "      <th>UNGRADED</th>\n",
              "    </tr>\n",
              "    <tr>\n",
              "      <th>account_key</th>\n",
              "      <th></th>\n",
              "      <th></th>\n",
              "      <th></th>\n",
              "      <th></th>\n",
              "    </tr>\n",
              "  </thead>\n",
              "  <tbody>\n",
              "    <tr>\n",
              "      <th>553</th>\n",
              "      <td>2</td>\n",
              "      <td>3</td>\n",
              "      <td>3</td>\n",
              "      <td>2</td>\n",
              "    </tr>\n",
              "    <tr>\n",
              "      <th>45</th>\n",
              "      <td>2</td>\n",
              "      <td>2</td>\n",
              "      <td>1</td>\n",
              "      <td>0</td>\n",
              "    </tr>\n",
              "    <tr>\n",
              "      <th>627</th>\n",
              "      <td>2</td>\n",
              "      <td>3</td>\n",
              "      <td>0</td>\n",
              "      <td>0</td>\n",
              "    </tr>\n",
              "    <tr>\n",
              "      <th>156</th>\n",
              "      <td>2</td>\n",
              "      <td>3</td>\n",
              "      <td>0</td>\n",
              "      <td>0</td>\n",
              "    </tr>\n",
              "    <tr>\n",
              "      <th>328</th>\n",
              "      <td>1</td>\n",
              "      <td>6</td>\n",
              "      <td>6</td>\n",
              "      <td>0</td>\n",
              "    </tr>\n",
              "    <tr>\n",
              "      <th>...</th>\n",
              "      <td>...</td>\n",
              "      <td>...</td>\n",
              "      <td>...</td>\n",
              "      <td>...</td>\n",
              "    </tr>\n",
              "    <tr>\n",
              "      <th>254</th>\n",
              "      <td>0</td>\n",
              "      <td>5</td>\n",
              "      <td>3</td>\n",
              "      <td>2</td>\n",
              "    </tr>\n",
              "    <tr>\n",
              "      <th>255</th>\n",
              "      <td>0</td>\n",
              "      <td>2</td>\n",
              "      <td>2</td>\n",
              "      <td>0</td>\n",
              "    </tr>\n",
              "    <tr>\n",
              "      <th>256</th>\n",
              "      <td>0</td>\n",
              "      <td>1</td>\n",
              "      <td>1</td>\n",
              "      <td>1</td>\n",
              "    </tr>\n",
              "    <tr>\n",
              "      <th>257</th>\n",
              "      <td>0</td>\n",
              "      <td>7</td>\n",
              "      <td>5</td>\n",
              "      <td>1</td>\n",
              "    </tr>\n",
              "    <tr>\n",
              "      <th>1298</th>\n",
              "      <td>0</td>\n",
              "      <td>2</td>\n",
              "      <td>0</td>\n",
              "      <td>0</td>\n",
              "    </tr>\n",
              "  </tbody>\n",
              "</table>\n",
              "<p>743 rows × 4 columns</p>\n",
              "</div>"
            ]
          },
          "metadata": {
            "tags": []
          },
          "execution_count": 295
        }
      ]
    },
    {
      "cell_type": "code",
      "metadata": {
        "id": "Anv5wqWZlxbH",
        "colab_type": "code",
        "colab": {
          "base_uri": "https://localhost:8080/",
          "height": 450
        },
        "outputId": "499a0316-665e-4322-ce70-3c53d89b01e3"
      },
      "source": [
        "grouped_ratings.sort_values(['DISTINCTION', 'PASSED'], ascending=False)"
      ],
      "execution_count": 272,
      "outputs": [
        {
          "output_type": "execute_result",
          "data": {
            "text/plain": [
              "assigned_rating  DISTINCTION  INCOMPLETE  PASSED  UNGRADED\n",
              "account_key                                               \n",
              "553                        2           3       3         2\n",
              "45                         2           2       1         0\n",
              "156                        2           3       0         0\n",
              "627                        2           3       0         0\n",
              "328                        1           6       6         0\n",
              "...                      ...         ...     ...       ...\n",
              "1206                       0           1       0         0\n",
              "1215                       0           3       0         0\n",
              "1247                       0           2       0         0\n",
              "1292                       0           1       0         0\n",
              "1298                       0           2       0         0\n",
              "\n",
              "[743 rows x 4 columns]"
            ],
            "text/html": [
              "<div>\n",
              "<style scoped>\n",
              "    .dataframe tbody tr th:only-of-type {\n",
              "        vertical-align: middle;\n",
              "    }\n",
              "\n",
              "    .dataframe tbody tr th {\n",
              "        vertical-align: top;\n",
              "    }\n",
              "\n",
              "    .dataframe thead th {\n",
              "        text-align: right;\n",
              "    }\n",
              "</style>\n",
              "<table border=\"1\" class=\"dataframe\">\n",
              "  <thead>\n",
              "    <tr style=\"text-align: right;\">\n",
              "      <th>assigned_rating</th>\n",
              "      <th>DISTINCTION</th>\n",
              "      <th>INCOMPLETE</th>\n",
              "      <th>PASSED</th>\n",
              "      <th>UNGRADED</th>\n",
              "    </tr>\n",
              "    <tr>\n",
              "      <th>account_key</th>\n",
              "      <th></th>\n",
              "      <th></th>\n",
              "      <th></th>\n",
              "      <th></th>\n",
              "    </tr>\n",
              "  </thead>\n",
              "  <tbody>\n",
              "    <tr>\n",
              "      <th>553</th>\n",
              "      <td>2</td>\n",
              "      <td>3</td>\n",
              "      <td>3</td>\n",
              "      <td>2</td>\n",
              "    </tr>\n",
              "    <tr>\n",
              "      <th>45</th>\n",
              "      <td>2</td>\n",
              "      <td>2</td>\n",
              "      <td>1</td>\n",
              "      <td>0</td>\n",
              "    </tr>\n",
              "    <tr>\n",
              "      <th>156</th>\n",
              "      <td>2</td>\n",
              "      <td>3</td>\n",
              "      <td>0</td>\n",
              "      <td>0</td>\n",
              "    </tr>\n",
              "    <tr>\n",
              "      <th>627</th>\n",
              "      <td>2</td>\n",
              "      <td>3</td>\n",
              "      <td>0</td>\n",
              "      <td>0</td>\n",
              "    </tr>\n",
              "    <tr>\n",
              "      <th>328</th>\n",
              "      <td>1</td>\n",
              "      <td>6</td>\n",
              "      <td>6</td>\n",
              "      <td>0</td>\n",
              "    </tr>\n",
              "    <tr>\n",
              "      <th>...</th>\n",
              "      <td>...</td>\n",
              "      <td>...</td>\n",
              "      <td>...</td>\n",
              "      <td>...</td>\n",
              "    </tr>\n",
              "    <tr>\n",
              "      <th>1206</th>\n",
              "      <td>0</td>\n",
              "      <td>1</td>\n",
              "      <td>0</td>\n",
              "      <td>0</td>\n",
              "    </tr>\n",
              "    <tr>\n",
              "      <th>1215</th>\n",
              "      <td>0</td>\n",
              "      <td>3</td>\n",
              "      <td>0</td>\n",
              "      <td>0</td>\n",
              "    </tr>\n",
              "    <tr>\n",
              "      <th>1247</th>\n",
              "      <td>0</td>\n",
              "      <td>2</td>\n",
              "      <td>0</td>\n",
              "      <td>0</td>\n",
              "    </tr>\n",
              "    <tr>\n",
              "      <th>1292</th>\n",
              "      <td>0</td>\n",
              "      <td>1</td>\n",
              "      <td>0</td>\n",
              "      <td>0</td>\n",
              "    </tr>\n",
              "    <tr>\n",
              "      <th>1298</th>\n",
              "      <td>0</td>\n",
              "      <td>2</td>\n",
              "      <td>0</td>\n",
              "      <td>0</td>\n",
              "    </tr>\n",
              "  </tbody>\n",
              "</table>\n",
              "<p>743 rows × 4 columns</p>\n",
              "</div>"
            ]
          },
          "metadata": {
            "tags": []
          },
          "execution_count": 272
        }
      ]
    },
    {
      "cell_type": "code",
      "metadata": {
        "id": "EGQdnVgrmVCX",
        "colab_type": "code",
        "colab": {
          "base_uri": "https://localhost:8080/",
          "height": 450
        },
        "outputId": "2163b32d-97be-4a21-b0d6-cb5f5cad3290"
      },
      "source": [
        "grouped_ratings.sort_values(['PASSED'], ascending=False)"
      ],
      "execution_count": 273,
      "outputs": [
        {
          "output_type": "execute_result",
          "data": {
            "text/plain": [
              "assigned_rating  DISTINCTION  INCOMPLETE  PASSED  UNGRADED\n",
              "account_key                                               \n",
              "317                        0           6       8         0\n",
              "85                         0           6       8         0\n",
              "569                        0          20       7         0\n",
              "125                        0           8       7         0\n",
              "316                        0           4       7         0\n",
              "...                      ...         ...     ...       ...\n",
              "1013                       0           1       0         0\n",
              "1033                       0           3       0         0\n",
              "1048                       0           1       0         0\n",
              "151                        1           0       0         0\n",
              "1298                       0           2       0         0\n",
              "\n",
              "[743 rows x 4 columns]"
            ],
            "text/html": [
              "<div>\n",
              "<style scoped>\n",
              "    .dataframe tbody tr th:only-of-type {\n",
              "        vertical-align: middle;\n",
              "    }\n",
              "\n",
              "    .dataframe tbody tr th {\n",
              "        vertical-align: top;\n",
              "    }\n",
              "\n",
              "    .dataframe thead th {\n",
              "        text-align: right;\n",
              "    }\n",
              "</style>\n",
              "<table border=\"1\" class=\"dataframe\">\n",
              "  <thead>\n",
              "    <tr style=\"text-align: right;\">\n",
              "      <th>assigned_rating</th>\n",
              "      <th>DISTINCTION</th>\n",
              "      <th>INCOMPLETE</th>\n",
              "      <th>PASSED</th>\n",
              "      <th>UNGRADED</th>\n",
              "    </tr>\n",
              "    <tr>\n",
              "      <th>account_key</th>\n",
              "      <th></th>\n",
              "      <th></th>\n",
              "      <th></th>\n",
              "      <th></th>\n",
              "    </tr>\n",
              "  </thead>\n",
              "  <tbody>\n",
              "    <tr>\n",
              "      <th>317</th>\n",
              "      <td>0</td>\n",
              "      <td>6</td>\n",
              "      <td>8</td>\n",
              "      <td>0</td>\n",
              "    </tr>\n",
              "    <tr>\n",
              "      <th>85</th>\n",
              "      <td>0</td>\n",
              "      <td>6</td>\n",
              "      <td>8</td>\n",
              "      <td>0</td>\n",
              "    </tr>\n",
              "    <tr>\n",
              "      <th>569</th>\n",
              "      <td>0</td>\n",
              "      <td>20</td>\n",
              "      <td>7</td>\n",
              "      <td>0</td>\n",
              "    </tr>\n",
              "    <tr>\n",
              "      <th>125</th>\n",
              "      <td>0</td>\n",
              "      <td>8</td>\n",
              "      <td>7</td>\n",
              "      <td>0</td>\n",
              "    </tr>\n",
              "    <tr>\n",
              "      <th>316</th>\n",
              "      <td>0</td>\n",
              "      <td>4</td>\n",
              "      <td>7</td>\n",
              "      <td>0</td>\n",
              "    </tr>\n",
              "    <tr>\n",
              "      <th>...</th>\n",
              "      <td>...</td>\n",
              "      <td>...</td>\n",
              "      <td>...</td>\n",
              "      <td>...</td>\n",
              "    </tr>\n",
              "    <tr>\n",
              "      <th>1013</th>\n",
              "      <td>0</td>\n",
              "      <td>1</td>\n",
              "      <td>0</td>\n",
              "      <td>0</td>\n",
              "    </tr>\n",
              "    <tr>\n",
              "      <th>1033</th>\n",
              "      <td>0</td>\n",
              "      <td>3</td>\n",
              "      <td>0</td>\n",
              "      <td>0</td>\n",
              "    </tr>\n",
              "    <tr>\n",
              "      <th>1048</th>\n",
              "      <td>0</td>\n",
              "      <td>1</td>\n",
              "      <td>0</td>\n",
              "      <td>0</td>\n",
              "    </tr>\n",
              "    <tr>\n",
              "      <th>151</th>\n",
              "      <td>1</td>\n",
              "      <td>0</td>\n",
              "      <td>0</td>\n",
              "      <td>0</td>\n",
              "    </tr>\n",
              "    <tr>\n",
              "      <th>1298</th>\n",
              "      <td>0</td>\n",
              "      <td>2</td>\n",
              "      <td>0</td>\n",
              "      <td>0</td>\n",
              "    </tr>\n",
              "  </tbody>\n",
              "</table>\n",
              "<p>743 rows × 4 columns</p>\n",
              "</div>"
            ]
          },
          "metadata": {
            "tags": []
          },
          "execution_count": 273
        }
      ]
    },
    {
      "cell_type": "code",
      "metadata": {
        "id": "AohGggCemXh2",
        "colab_type": "code",
        "colab": {
          "base_uri": "https://localhost:8080/",
          "height": 450
        },
        "outputId": "351676a4-e5ba-49ec-e716-59d7c4992154"
      },
      "source": [
        "grouped_ratings.sort_values(['INCOMPLETE'], ascending=False)"
      ],
      "execution_count": 275,
      "outputs": [
        {
          "output_type": "execute_result",
          "data": {
            "text/plain": [
              "assigned_rating  DISTINCTION  INCOMPLETE  PASSED  UNGRADED\n",
              "account_key                                               \n",
              "569                        0          20       7         0\n",
              "281                        0          16       4         0\n",
              "557                        0          13       4         0\n",
              "641                        0          12       5         0\n",
              "427                        0          11       5         1\n",
              "...                      ...         ...     ...       ...\n",
              "65                         0           0       1         0\n",
              "64                         0           0       1         0\n",
              "447                        0           0       1         0\n",
              "60                         0           0       1         0\n",
              "355                        0           0       3         0\n",
              "\n",
              "[743 rows x 4 columns]"
            ],
            "text/html": [
              "<div>\n",
              "<style scoped>\n",
              "    .dataframe tbody tr th:only-of-type {\n",
              "        vertical-align: middle;\n",
              "    }\n",
              "\n",
              "    .dataframe tbody tr th {\n",
              "        vertical-align: top;\n",
              "    }\n",
              "\n",
              "    .dataframe thead th {\n",
              "        text-align: right;\n",
              "    }\n",
              "</style>\n",
              "<table border=\"1\" class=\"dataframe\">\n",
              "  <thead>\n",
              "    <tr style=\"text-align: right;\">\n",
              "      <th>assigned_rating</th>\n",
              "      <th>DISTINCTION</th>\n",
              "      <th>INCOMPLETE</th>\n",
              "      <th>PASSED</th>\n",
              "      <th>UNGRADED</th>\n",
              "    </tr>\n",
              "    <tr>\n",
              "      <th>account_key</th>\n",
              "      <th></th>\n",
              "      <th></th>\n",
              "      <th></th>\n",
              "      <th></th>\n",
              "    </tr>\n",
              "  </thead>\n",
              "  <tbody>\n",
              "    <tr>\n",
              "      <th>569</th>\n",
              "      <td>0</td>\n",
              "      <td>20</td>\n",
              "      <td>7</td>\n",
              "      <td>0</td>\n",
              "    </tr>\n",
              "    <tr>\n",
              "      <th>281</th>\n",
              "      <td>0</td>\n",
              "      <td>16</td>\n",
              "      <td>4</td>\n",
              "      <td>0</td>\n",
              "    </tr>\n",
              "    <tr>\n",
              "      <th>557</th>\n",
              "      <td>0</td>\n",
              "      <td>13</td>\n",
              "      <td>4</td>\n",
              "      <td>0</td>\n",
              "    </tr>\n",
              "    <tr>\n",
              "      <th>641</th>\n",
              "      <td>0</td>\n",
              "      <td>12</td>\n",
              "      <td>5</td>\n",
              "      <td>0</td>\n",
              "    </tr>\n",
              "    <tr>\n",
              "      <th>427</th>\n",
              "      <td>0</td>\n",
              "      <td>11</td>\n",
              "      <td>5</td>\n",
              "      <td>1</td>\n",
              "    </tr>\n",
              "    <tr>\n",
              "      <th>...</th>\n",
              "      <td>...</td>\n",
              "      <td>...</td>\n",
              "      <td>...</td>\n",
              "      <td>...</td>\n",
              "    </tr>\n",
              "    <tr>\n",
              "      <th>65</th>\n",
              "      <td>0</td>\n",
              "      <td>0</td>\n",
              "      <td>1</td>\n",
              "      <td>0</td>\n",
              "    </tr>\n",
              "    <tr>\n",
              "      <th>64</th>\n",
              "      <td>0</td>\n",
              "      <td>0</td>\n",
              "      <td>1</td>\n",
              "      <td>0</td>\n",
              "    </tr>\n",
              "    <tr>\n",
              "      <th>447</th>\n",
              "      <td>0</td>\n",
              "      <td>0</td>\n",
              "      <td>1</td>\n",
              "      <td>0</td>\n",
              "    </tr>\n",
              "    <tr>\n",
              "      <th>60</th>\n",
              "      <td>0</td>\n",
              "      <td>0</td>\n",
              "      <td>1</td>\n",
              "      <td>0</td>\n",
              "    </tr>\n",
              "    <tr>\n",
              "      <th>355</th>\n",
              "      <td>0</td>\n",
              "      <td>0</td>\n",
              "      <td>3</td>\n",
              "      <td>0</td>\n",
              "    </tr>\n",
              "  </tbody>\n",
              "</table>\n",
              "<p>743 rows × 4 columns</p>\n",
              "</div>"
            ]
          },
          "metadata": {
            "tags": []
          },
          "execution_count": 275
        }
      ]
    },
    {
      "cell_type": "code",
      "metadata": {
        "id": "7UImgT0tmeD2",
        "colab_type": "code",
        "colab": {
          "base_uri": "https://localhost:8080/",
          "height": 450
        },
        "outputId": "f4088752-6138-4c0e-9acb-93a8b01bca02"
      },
      "source": [
        "grouped_ratings.sort_values(['UNGRADED'], ascending=False)"
      ],
      "execution_count": 276,
      "outputs": [
        {
          "output_type": "execute_result",
          "data": {
            "text/plain": [
              "assigned_rating  DISTINCTION  INCOMPLETE  PASSED  UNGRADED\n",
              "account_key                                               \n",
              "634                        0           3       2         2\n",
              "461                        0           2       4         2\n",
              "755                        0           0       0         2\n",
              "553                        2           3       3         2\n",
              "643                        0           5       2         2\n",
              "...                      ...         ...     ...       ...\n",
              "263                        0           5       4         0\n",
              "264                        0           0       1         0\n",
              "265                        0           0       1         0\n",
              "266                        0           6       4         0\n",
              "1298                       0           2       0         0\n",
              "\n",
              "[743 rows x 4 columns]"
            ],
            "text/html": [
              "<div>\n",
              "<style scoped>\n",
              "    .dataframe tbody tr th:only-of-type {\n",
              "        vertical-align: middle;\n",
              "    }\n",
              "\n",
              "    .dataframe tbody tr th {\n",
              "        vertical-align: top;\n",
              "    }\n",
              "\n",
              "    .dataframe thead th {\n",
              "        text-align: right;\n",
              "    }\n",
              "</style>\n",
              "<table border=\"1\" class=\"dataframe\">\n",
              "  <thead>\n",
              "    <tr style=\"text-align: right;\">\n",
              "      <th>assigned_rating</th>\n",
              "      <th>DISTINCTION</th>\n",
              "      <th>INCOMPLETE</th>\n",
              "      <th>PASSED</th>\n",
              "      <th>UNGRADED</th>\n",
              "    </tr>\n",
              "    <tr>\n",
              "      <th>account_key</th>\n",
              "      <th></th>\n",
              "      <th></th>\n",
              "      <th></th>\n",
              "      <th></th>\n",
              "    </tr>\n",
              "  </thead>\n",
              "  <tbody>\n",
              "    <tr>\n",
              "      <th>634</th>\n",
              "      <td>0</td>\n",
              "      <td>3</td>\n",
              "      <td>2</td>\n",
              "      <td>2</td>\n",
              "    </tr>\n",
              "    <tr>\n",
              "      <th>461</th>\n",
              "      <td>0</td>\n",
              "      <td>2</td>\n",
              "      <td>4</td>\n",
              "      <td>2</td>\n",
              "    </tr>\n",
              "    <tr>\n",
              "      <th>755</th>\n",
              "      <td>0</td>\n",
              "      <td>0</td>\n",
              "      <td>0</td>\n",
              "      <td>2</td>\n",
              "    </tr>\n",
              "    <tr>\n",
              "      <th>553</th>\n",
              "      <td>2</td>\n",
              "      <td>3</td>\n",
              "      <td>3</td>\n",
              "      <td>2</td>\n",
              "    </tr>\n",
              "    <tr>\n",
              "      <th>643</th>\n",
              "      <td>0</td>\n",
              "      <td>5</td>\n",
              "      <td>2</td>\n",
              "      <td>2</td>\n",
              "    </tr>\n",
              "    <tr>\n",
              "      <th>...</th>\n",
              "      <td>...</td>\n",
              "      <td>...</td>\n",
              "      <td>...</td>\n",
              "      <td>...</td>\n",
              "    </tr>\n",
              "    <tr>\n",
              "      <th>263</th>\n",
              "      <td>0</td>\n",
              "      <td>5</td>\n",
              "      <td>4</td>\n",
              "      <td>0</td>\n",
              "    </tr>\n",
              "    <tr>\n",
              "      <th>264</th>\n",
              "      <td>0</td>\n",
              "      <td>0</td>\n",
              "      <td>1</td>\n",
              "      <td>0</td>\n",
              "    </tr>\n",
              "    <tr>\n",
              "      <th>265</th>\n",
              "      <td>0</td>\n",
              "      <td>0</td>\n",
              "      <td>1</td>\n",
              "      <td>0</td>\n",
              "    </tr>\n",
              "    <tr>\n",
              "      <th>266</th>\n",
              "      <td>0</td>\n",
              "      <td>6</td>\n",
              "      <td>4</td>\n",
              "      <td>0</td>\n",
              "    </tr>\n",
              "    <tr>\n",
              "      <th>1298</th>\n",
              "      <td>0</td>\n",
              "      <td>2</td>\n",
              "      <td>0</td>\n",
              "      <td>0</td>\n",
              "    </tr>\n",
              "  </tbody>\n",
              "</table>\n",
              "<p>743 rows × 4 columns</p>\n",
              "</div>"
            ]
          },
          "metadata": {
            "tags": []
          },
          "execution_count": 276
        }
      ]
    },
    {
      "cell_type": "markdown",
      "metadata": {
        "id": "pyRvM_zWoPCz",
        "colab_type": "text"
      },
      "source": [
        "## Lets look at the nature of Cumulative Submission Status "
      ]
    },
    {
      "cell_type": "code",
      "metadata": {
        "id": "J3mk8iYeoDNY",
        "colab_type": "code",
        "colab": {
          "base_uri": "https://localhost:8080/",
          "height": 282
        },
        "outputId": "b4feb3cd-9908-4226-a465-67fe45f45761"
      },
      "source": [
        "grouped_ratings.plot.hist(by='assigned_rating')"
      ],
      "execution_count": 289,
      "outputs": [
        {
          "output_type": "execute_result",
          "data": {
            "text/plain": [
              "<matplotlib.axes._subplots.AxesSubplot at 0x7fa6c6a3eb00>"
            ]
          },
          "metadata": {
            "tags": []
          },
          "execution_count": 289
        },
        {
          "output_type": "display_data",
          "data": {
            "text/plain": [
              "<Figure size 432x288 with 1 Axes>"
            ],
            "image/png": "[encoded data removed]"
          },
          "metadata": {
            "tags": [],
            "needs_background": "light"
          }
        }
      ]
    },
    {
      "cell_type": "code",
      "metadata": {
        "id": "gUiJG29xpBBC",
        "colab_type": "code",
        "colab": {
          "base_uri": "https://localhost:8080/",
          "height": 119
        },
        "outputId": "0c1790c6-6962-4499-e590-f22dc4d5b5be"
      },
      "source": [
        "grouped_ratings.agg(np.sum)"
      ],
      "execution_count": 294,
      "outputs": [
        {
          "output_type": "execute_result",
          "data": {
            "text/plain": [
              "assigned_rating\n",
              "DISTINCTION      36\n",
              "INCOMPLETE     1912\n",
              "PASSED         1630\n",
              "UNGRADED         58\n",
              "dtype: int64"
            ]
          },
          "metadata": {
            "tags": []
          },
          "execution_count": 294
        }
      ]
    },
    {
      "cell_type": "markdown",
      "metadata": {
        "id": "LUwahZeVoyew",
        "colab_type": "text"
      },
      "source": [
        "# Observations\n",
        "\n",
        "*   There are **more Incomplete submissions** than **Passed**\n",
        "*   There are **more Passed submissions** than **Ungraded**\n",
        "*   The Ungraded submissions per account is not more than 2.\n",
        "*   There are not more than 20 incomplete submissions per account.\n",
        "*   At best an account has passed 8 submissions.\n",
        "*   Someone doing very well **with Distinction** has **also had \n",
        "incomplete and ungraded submissions**. \n",
        "\n",
        "\n"
      ]
    }
  ]
}