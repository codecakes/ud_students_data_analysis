{
  "nbformat": 4,
  "nbformat_minor": 0,
  "metadata": {
    "colab": {
      "name": "ud_students_data_analysis.ipynb",
      "provenance": [],
      "collapsed_sections": [],
      "machine_shape": "hm",
      "include_colab_link": true
    },
    "kernelspec": {
      "name": "python3",
      "display_name": "Python 3"
    }
  },
  "cells": [
    {
      "cell_type": "markdown",
      "metadata": {
        "id": "view-in-github",
        "colab_type": "text"
      },
      "source": [
        "<a href=\"https://colab.research.google.com/github/codecakes/ud_students_data_analysis/blob/master/ud_students_data_analysis.ipynb\" target=\"_parent\"><img src=\"https://colab.research.google.com/assets/colab-badge.svg\" alt=\"Open In Colab\"/></a>"
      ]
    },
    {
      "cell_type": "code",
      "metadata": {
        "id": "CS1KeIvrCa7x",
        "colab_type": "code",
        "colab": {}
      },
      "source": [
        "import os\n",
        "import matplotlib\n",
        "%matplotlib inline\n",
        "import numpy as np\n",
        "import pandas as pd\n",
        "%config IPCompleter.greedy=True\n"
      ],
      "execution_count": 0,
      "outputs": []
    },
    {
      "cell_type": "markdown",
      "metadata": {
        "id": "sV0HGZ4JT3is",
        "colab_type": "text"
      },
      "source": [
        "## Load DF."
      ]
    },
    {
      "cell_type": "code",
      "metadata": {
        "id": "jWKQolCqCivy",
        "colab_type": "code",
        "outputId": "23b6ccb4-9a7b-422f-9551-7c484a0226c3",
        "colab": {
          "base_uri": "https://localhost:8080/",
          "height": 34
        }
      },
      "source": [
        "# Mount Google drive for data set.\n",
        "from google.colab import drive\n",
        "drive.mount('/content/gdrive')"
      ],
      "execution_count": 274,
      "outputs": [
        {
          "output_type": "stream",
          "text": [
            "Drive already mounted at /content/gdrive; to attempt to forcibly remount, call drive.mount(\"/content/gdrive\", force_remount=True).\n"
          ],
          "name": "stdout"
        }
      ]
    },
    {
      "cell_type": "code",
      "metadata": {
        "id": "vflLekDcSiLH",
        "colab_type": "code",
        "colab": {}
      },
      "source": [
        "root_path = r'gdrive/My Drive/Colab Notebooks/ud_data_analysis'"
      ],
      "execution_count": 0,
      "outputs": []
    },
    {
      "cell_type": "code",
      "metadata": {
        "id": "lCjisWIgDHRP",
        "colab_type": "code",
        "outputId": "572cb7ae-55a4-4cad-ac25-7ad1e80c7cd0",
        "colab": {
          "base_uri": "https://localhost:8080/",
          "height": 111
        }
      },
      "source": [
        "f = os.path.join(root_path, 'daily_engagement.csv')\n",
        "daily_engagement_sample_df = pd.read_csv(\n",
        "    f, infer_datetime_format=True, engine='c')\n",
        "daily_engagement_sample_df.head(2)"
      ],
      "execution_count": 276,
      "outputs": [
        {
          "output_type": "execute_result",
          "data": {
            "text/html": [
              "<div>\n",
              "<style scoped>\n",
              "    .dataframe tbody tr th:only-of-type {\n",
              "        vertical-align: middle;\n",
              "    }\n",
              "\n",
              "    .dataframe tbody tr th {\n",
              "        vertical-align: top;\n",
              "    }\n",
              "\n",
              "    .dataframe thead th {\n",
              "        text-align: right;\n",
              "    }\n",
              "</style>\n",
              "<table border=\"1\" class=\"dataframe\">\n",
              "  <thead>\n",
              "    <tr style=\"text-align: right;\">\n",
              "      <th></th>\n",
              "      <th>acct</th>\n",
              "      <th>utc_date</th>\n",
              "      <th>num_courses_visited</th>\n",
              "      <th>total_minutes_visited</th>\n",
              "      <th>lessons_completed</th>\n",
              "      <th>projects_completed</th>\n",
              "    </tr>\n",
              "  </thead>\n",
              "  <tbody>\n",
              "    <tr>\n",
              "      <th>0</th>\n",
              "      <td>0</td>\n",
              "      <td>2015-01-09</td>\n",
              "      <td>1.0</td>\n",
              "      <td>11.679374</td>\n",
              "      <td>0.0</td>\n",
              "      <td>0.0</td>\n",
              "    </tr>\n",
              "    <tr>\n",
              "      <th>1</th>\n",
              "      <td>0</td>\n",
              "      <td>2015-01-10</td>\n",
              "      <td>2.0</td>\n",
              "      <td>37.284887</td>\n",
              "      <td>0.0</td>\n",
              "      <td>0.0</td>\n",
              "    </tr>\n",
              "  </tbody>\n",
              "</table>\n",
              "</div>"
            ],
            "text/plain": [
              "   acct    utc_date  ...  lessons_completed  projects_completed\n",
              "0     0  2015-01-09  ...                0.0                 0.0\n",
              "1     0  2015-01-10  ...                0.0                 0.0\n",
              "\n",
              "[2 rows x 6 columns]"
            ]
          },
          "metadata": {
            "tags": []
          },
          "execution_count": 276
        }
      ]
    },
    {
      "cell_type": "code",
      "metadata": {
        "id": "f5mKOXyaFeqj",
        "colab_type": "code",
        "colab": {
          "base_uri": "https://localhost:8080/",
          "height": 626
        },
        "outputId": "3ac78da1-af49-49ec-ca29-0a60be11af59"
      },
      "source": [
        "f = os.path.join(root_path, 'daily_engagement_full.csv')\n",
        "columns = ['utc_date', 'acct', 'registration_date', 'subscription_start',\n",
        "       'course_key', 'sibling_key', 'course_title', 'has_visited',\n",
        "       'total_minutes_visited', 'lessons_completed', 'projects_completed',\n",
        "       'account_key']\n",
        "engagements = pd.read_csv(\n",
        "    f, infer_datetime_format=True, engine='c', usecols=columns)\n",
        "engagements.astype({k: str for k in ['acct', 'course_key', 'sibling_key', 'course_title', 'account_key']})\n",
        "engagements.astype({k: 'datetime64[ns]' for k in ['utc_date', 'registration_date', 'subscription_start']})"
      ],
      "execution_count": 277,
      "outputs": [
        {
          "output_type": "execute_result",
          "data": {
            "text/html": [
              "<div>\n",
              "<style scoped>\n",
              "    .dataframe tbody tr th:only-of-type {\n",
              "        vertical-align: middle;\n",
              "    }\n",
              "\n",
              "    .dataframe tbody tr th {\n",
              "        vertical-align: top;\n",
              "    }\n",
              "\n",
              "    .dataframe thead th {\n",
              "        text-align: right;\n",
              "    }\n",
              "</style>\n",
              "<table border=\"1\" class=\"dataframe\">\n",
              "  <thead>\n",
              "    <tr style=\"text-align: right;\">\n",
              "      <th></th>\n",
              "      <th>utc_date</th>\n",
              "      <th>acct</th>\n",
              "      <th>registration_date</th>\n",
              "      <th>subscription_start</th>\n",
              "      <th>course_key</th>\n",
              "      <th>sibling_key</th>\n",
              "      <th>course_title</th>\n",
              "      <th>has_visited</th>\n",
              "      <th>total_minutes_visited</th>\n",
              "      <th>lessons_completed</th>\n",
              "      <th>projects_completed</th>\n",
              "      <th>account_key</th>\n",
              "    </tr>\n",
              "  </thead>\n",
              "  <tbody>\n",
              "    <tr>\n",
              "      <th>0</th>\n",
              "      <td>2014-11-05</td>\n",
              "      <td>448</td>\n",
              "      <td>2014-08-05</td>\n",
              "      <td>2014-11-05</td>\n",
              "      <td>ud359-nd</td>\n",
              "      <td>ud359</td>\n",
              "      <td>Intro to Data Science</td>\n",
              "      <td>0.0</td>\n",
              "      <td>0.0</td>\n",
              "      <td>0.0</td>\n",
              "      <td>0.0</td>\n",
              "      <td>2257038596</td>\n",
              "    </tr>\n",
              "    <tr>\n",
              "      <th>1</th>\n",
              "      <td>2014-11-05</td>\n",
              "      <td>448</td>\n",
              "      <td>2014-08-05</td>\n",
              "      <td>2014-11-05</td>\n",
              "      <td>ud120-nd</td>\n",
              "      <td>ud120</td>\n",
              "      <td>Intro to Machine Learning</td>\n",
              "      <td>0.0</td>\n",
              "      <td>0.0</td>\n",
              "      <td>0.0</td>\n",
              "      <td>0.0</td>\n",
              "      <td>2257038596</td>\n",
              "    </tr>\n",
              "    <tr>\n",
              "      <th>2</th>\n",
              "      <td>2014-11-05</td>\n",
              "      <td>448</td>\n",
              "      <td>2014-08-05</td>\n",
              "      <td>2014-11-05</td>\n",
              "      <td>ud651-nd</td>\n",
              "      <td>ud651</td>\n",
              "      <td>Data Analysis with R</td>\n",
              "      <td>0.0</td>\n",
              "      <td>0.0</td>\n",
              "      <td>0.0</td>\n",
              "      <td>0.0</td>\n",
              "      <td>2257038596</td>\n",
              "    </tr>\n",
              "    <tr>\n",
              "      <th>3</th>\n",
              "      <td>2014-11-05</td>\n",
              "      <td>448</td>\n",
              "      <td>2014-08-05</td>\n",
              "      <td>2014-11-05</td>\n",
              "      <td>ud507-nd</td>\n",
              "      <td>ud507</td>\n",
              "      <td>Data Visualization and D3.js</td>\n",
              "      <td>0.0</td>\n",
              "      <td>0.0</td>\n",
              "      <td>0.0</td>\n",
              "      <td>0.0</td>\n",
              "      <td>2257038596</td>\n",
              "    </tr>\n",
              "    <tr>\n",
              "      <th>4</th>\n",
              "      <td>2014-11-05</td>\n",
              "      <td>448</td>\n",
              "      <td>2014-08-05</td>\n",
              "      <td>2014-11-05</td>\n",
              "      <td>ud651</td>\n",
              "      <td>ud651</td>\n",
              "      <td>Data Analysis with R</td>\n",
              "      <td>0.0</td>\n",
              "      <td>0.0</td>\n",
              "      <td>0.0</td>\n",
              "      <td>0.0</td>\n",
              "      <td>2257038596</td>\n",
              "    </tr>\n",
              "    <tr>\n",
              "      <th>...</th>\n",
              "      <td>...</td>\n",
              "      <td>...</td>\n",
              "      <td>...</td>\n",
              "      <td>...</td>\n",
              "      <td>...</td>\n",
              "      <td>...</td>\n",
              "      <td>...</td>\n",
              "      <td>...</td>\n",
              "      <td>...</td>\n",
              "      <td>...</td>\n",
              "      <td>...</td>\n",
              "      <td>...</td>\n",
              "    </tr>\n",
              "    <tr>\n",
              "      <th>2309234</th>\n",
              "      <td>2015-08-26</td>\n",
              "      <td>854</td>\n",
              "      <td>2012-10-12</td>\n",
              "      <td>2015-08-23</td>\n",
              "      <td>ud359</td>\n",
              "      <td>ud359</td>\n",
              "      <td>Intro to Data Science</td>\n",
              "      <td>0.0</td>\n",
              "      <td>0.0</td>\n",
              "      <td>0.0</td>\n",
              "      <td>0.0</td>\n",
              "      <td>u26334020</td>\n",
              "    </tr>\n",
              "    <tr>\n",
              "      <th>2309235</th>\n",
              "      <td>2015-08-26</td>\n",
              "      <td>854</td>\n",
              "      <td>2012-10-12</td>\n",
              "      <td>2015-08-23</td>\n",
              "      <td>ud804</td>\n",
              "      <td>ud804</td>\n",
              "      <td>JavaScript Basics</td>\n",
              "      <td>0.0</td>\n",
              "      <td>0.0</td>\n",
              "      <td>0.0</td>\n",
              "      <td>0.0</td>\n",
              "      <td>u26334020</td>\n",
              "    </tr>\n",
              "    <tr>\n",
              "      <th>2309236</th>\n",
              "      <td>2015-08-26</td>\n",
              "      <td>854</td>\n",
              "      <td>2012-10-12</td>\n",
              "      <td>2015-08-23</td>\n",
              "      <td>ud651</td>\n",
              "      <td>ud651</td>\n",
              "      <td>Data Analysis with R</td>\n",
              "      <td>0.0</td>\n",
              "      <td>0.0</td>\n",
              "      <td>0.0</td>\n",
              "      <td>0.0</td>\n",
              "      <td>u26334020</td>\n",
              "    </tr>\n",
              "    <tr>\n",
              "      <th>2309237</th>\n",
              "      <td>2015-08-26</td>\n",
              "      <td>854</td>\n",
              "      <td>2012-10-12</td>\n",
              "      <td>2015-08-23</td>\n",
              "      <td>ud304</td>\n",
              "      <td>ud304</td>\n",
              "      <td>Intro to HTML and CSS</td>\n",
              "      <td>0.0</td>\n",
              "      <td>0.0</td>\n",
              "      <td>0.0</td>\n",
              "      <td>0.0</td>\n",
              "      <td>u26334020</td>\n",
              "    </tr>\n",
              "    <tr>\n",
              "      <th>2309238</th>\n",
              "      <td>2015-08-26</td>\n",
              "      <td>854</td>\n",
              "      <td>2012-10-12</td>\n",
              "      <td>2015-08-23</td>\n",
              "      <td>nd002</td>\n",
              "      <td>nd002</td>\n",
              "      <td>Data Analyst Nanodegree</td>\n",
              "      <td>0.0</td>\n",
              "      <td>0.0</td>\n",
              "      <td>0.0</td>\n",
              "      <td>0.0</td>\n",
              "      <td>u26334020</td>\n",
              "    </tr>\n",
              "  </tbody>\n",
              "</table>\n",
              "<p>2309239 rows × 12 columns</p>\n",
              "</div>"
            ],
            "text/plain": [
              "          utc_date  acct  ... projects_completed account_key\n",
              "0       2014-11-05   448  ...                0.0  2257038596\n",
              "1       2014-11-05   448  ...                0.0  2257038596\n",
              "2       2014-11-05   448  ...                0.0  2257038596\n",
              "3       2014-11-05   448  ...                0.0  2257038596\n",
              "4       2014-11-05   448  ...                0.0  2257038596\n",
              "...            ...   ...  ...                ...         ...\n",
              "2309234 2015-08-26   854  ...                0.0   u26334020\n",
              "2309235 2015-08-26   854  ...                0.0   u26334020\n",
              "2309236 2015-08-26   854  ...                0.0   u26334020\n",
              "2309237 2015-08-26   854  ...                0.0   u26334020\n",
              "2309238 2015-08-26   854  ...                0.0   u26334020\n",
              "\n",
              "[2309239 rows x 12 columns]"
            ]
          },
          "metadata": {
            "tags": []
          },
          "execution_count": 277
        }
      ]
    },
    {
      "cell_type": "code",
      "metadata": {
        "id": "V9OIlB3kKTer",
        "colab_type": "code",
        "colab": {
          "base_uri": "https://localhost:8080/",
          "height": 419
        },
        "outputId": "f10511f1-6ba0-4ee6-a6b1-6bd46fb04edd"
      },
      "source": [
        "f = os.path.join(root_path, 'enrollments.csv')\n",
        "columns=['account_key', 'status', 'join_date', 'cancel_date', 'days_to_cancel',\n",
        "       'is_udacity', 'is_canceled']\n",
        "enrollments = pd.read_csv(\n",
        "    f, infer_datetime_format=True, engine='c', usecols=columns)\n",
        "enrollments.astype({\n",
        "    'cancel_date': 'datetime64[ns]', \n",
        "    'account_key': str,\n",
        "    'status': str,\n",
        "    'days_to_cancel': float,\n",
        "    'is_udacity': bool,\n",
        "    'is_canceled': bool,\n",
        "    })"
      ],
      "execution_count": 278,
      "outputs": [
        {
          "output_type": "execute_result",
          "data": {
            "text/html": [
              "<div>\n",
              "<style scoped>\n",
              "    .dataframe tbody tr th:only-of-type {\n",
              "        vertical-align: middle;\n",
              "    }\n",
              "\n",
              "    .dataframe tbody tr th {\n",
              "        vertical-align: top;\n",
              "    }\n",
              "\n",
              "    .dataframe thead th {\n",
              "        text-align: right;\n",
              "    }\n",
              "</style>\n",
              "<table border=\"1\" class=\"dataframe\">\n",
              "  <thead>\n",
              "    <tr style=\"text-align: right;\">\n",
              "      <th></th>\n",
              "      <th>account_key</th>\n",
              "      <th>status</th>\n",
              "      <th>join_date</th>\n",
              "      <th>cancel_date</th>\n",
              "      <th>days_to_cancel</th>\n",
              "      <th>is_udacity</th>\n",
              "      <th>is_canceled</th>\n",
              "    </tr>\n",
              "  </thead>\n",
              "  <tbody>\n",
              "    <tr>\n",
              "      <th>0</th>\n",
              "      <td>448</td>\n",
              "      <td>canceled</td>\n",
              "      <td>2014-11-10</td>\n",
              "      <td>2015-01-14</td>\n",
              "      <td>65.0</td>\n",
              "      <td>True</td>\n",
              "      <td>True</td>\n",
              "    </tr>\n",
              "    <tr>\n",
              "      <th>1</th>\n",
              "      <td>448</td>\n",
              "      <td>canceled</td>\n",
              "      <td>2014-11-05</td>\n",
              "      <td>2014-11-10</td>\n",
              "      <td>5.0</td>\n",
              "      <td>True</td>\n",
              "      <td>True</td>\n",
              "    </tr>\n",
              "    <tr>\n",
              "      <th>2</th>\n",
              "      <td>448</td>\n",
              "      <td>canceled</td>\n",
              "      <td>2015-01-27</td>\n",
              "      <td>2015-01-27</td>\n",
              "      <td>0.0</td>\n",
              "      <td>True</td>\n",
              "      <td>True</td>\n",
              "    </tr>\n",
              "    <tr>\n",
              "      <th>3</th>\n",
              "      <td>448</td>\n",
              "      <td>canceled</td>\n",
              "      <td>2014-11-10</td>\n",
              "      <td>2014-11-10</td>\n",
              "      <td>0.0</td>\n",
              "      <td>True</td>\n",
              "      <td>True</td>\n",
              "    </tr>\n",
              "    <tr>\n",
              "      <th>4</th>\n",
              "      <td>448</td>\n",
              "      <td>current</td>\n",
              "      <td>2015-03-10</td>\n",
              "      <td>NaT</td>\n",
              "      <td>NaN</td>\n",
              "      <td>True</td>\n",
              "      <td>False</td>\n",
              "    </tr>\n",
              "    <tr>\n",
              "      <th>...</th>\n",
              "      <td>...</td>\n",
              "      <td>...</td>\n",
              "      <td>...</td>\n",
              "      <td>...</td>\n",
              "      <td>...</td>\n",
              "      <td>...</td>\n",
              "      <td>...</td>\n",
              "    </tr>\n",
              "    <tr>\n",
              "      <th>1635</th>\n",
              "      <td>1176</td>\n",
              "      <td>current</td>\n",
              "      <td>2015-08-12</td>\n",
              "      <td>NaT</td>\n",
              "      <td>NaN</td>\n",
              "      <td>False</td>\n",
              "      <td>False</td>\n",
              "    </tr>\n",
              "    <tr>\n",
              "      <th>1636</th>\n",
              "      <td>1110</td>\n",
              "      <td>current</td>\n",
              "      <td>2015-08-13</td>\n",
              "      <td>NaT</td>\n",
              "      <td>NaN</td>\n",
              "      <td>False</td>\n",
              "      <td>False</td>\n",
              "    </tr>\n",
              "    <tr>\n",
              "      <th>1637</th>\n",
              "      <td>1116</td>\n",
              "      <td>canceled</td>\n",
              "      <td>2015-08-15</td>\n",
              "      <td>2015-08-18</td>\n",
              "      <td>3.0</td>\n",
              "      <td>False</td>\n",
              "      <td>True</td>\n",
              "    </tr>\n",
              "    <tr>\n",
              "      <th>1638</th>\n",
              "      <td>874</td>\n",
              "      <td>current</td>\n",
              "      <td>2015-08-22</td>\n",
              "      <td>NaT</td>\n",
              "      <td>NaN</td>\n",
              "      <td>False</td>\n",
              "      <td>False</td>\n",
              "    </tr>\n",
              "    <tr>\n",
              "      <th>1639</th>\n",
              "      <td>686</td>\n",
              "      <td>current</td>\n",
              "      <td>2015-08-23</td>\n",
              "      <td>NaT</td>\n",
              "      <td>NaN</td>\n",
              "      <td>False</td>\n",
              "      <td>False</td>\n",
              "    </tr>\n",
              "  </tbody>\n",
              "</table>\n",
              "<p>1640 rows × 7 columns</p>\n",
              "</div>"
            ],
            "text/plain": [
              "     account_key    status   join_date  ... days_to_cancel  is_udacity  is_canceled\n",
              "0            448  canceled  2014-11-10  ...           65.0        True         True\n",
              "1            448  canceled  2014-11-05  ...            5.0        True         True\n",
              "2            448  canceled  2015-01-27  ...            0.0        True         True\n",
              "3            448  canceled  2014-11-10  ...            0.0        True         True\n",
              "4            448   current  2015-03-10  ...            NaN        True        False\n",
              "...          ...       ...         ...  ...            ...         ...          ...\n",
              "1635        1176   current  2015-08-12  ...            NaN       False        False\n",
              "1636        1110   current  2015-08-13  ...            NaN       False        False\n",
              "1637        1116  canceled  2015-08-15  ...            3.0       False         True\n",
              "1638         874   current  2015-08-22  ...            NaN       False        False\n",
              "1639         686   current  2015-08-23  ...            NaN       False        False\n",
              "\n",
              "[1640 rows x 7 columns]"
            ]
          },
          "metadata": {
            "tags": []
          },
          "execution_count": 278
        }
      ]
    },
    {
      "cell_type": "code",
      "metadata": {
        "id": "8jdRf46sMhH0",
        "colab_type": "code",
        "colab": {
          "base_uri": "https://localhost:8080/",
          "height": 419
        },
        "outputId": "300cfa89-3b94-4789-f159-c5182b62d581"
      },
      "source": [
        "f = os.path.join(root_path, 'project_submissions.csv')\n",
        "project_submissions = pd.read_csv(\n",
        "    f, infer_datetime_format=True, engine='c')\n",
        "project_submissions.astype({\n",
        "    'creation_date': 'datetime64[ns]',\n",
        "    'completion_date': 'datetime64[ns]',\n",
        "    'assigned_rating': str,\n",
        "    'account_key': str,\n",
        "    'lesson_key': str,\n",
        "    })"
      ],
      "execution_count": 279,
      "outputs": [
        {
          "output_type": "execute_result",
          "data": {
            "text/html": [
              "<div>\n",
              "<style scoped>\n",
              "    .dataframe tbody tr th:only-of-type {\n",
              "        vertical-align: middle;\n",
              "    }\n",
              "\n",
              "    .dataframe tbody tr th {\n",
              "        vertical-align: top;\n",
              "    }\n",
              "\n",
              "    .dataframe thead th {\n",
              "        text-align: right;\n",
              "    }\n",
              "</style>\n",
              "<table border=\"1\" class=\"dataframe\">\n",
              "  <thead>\n",
              "    <tr style=\"text-align: right;\">\n",
              "      <th></th>\n",
              "      <th>creation_date</th>\n",
              "      <th>completion_date</th>\n",
              "      <th>assigned_rating</th>\n",
              "      <th>account_key</th>\n",
              "      <th>lesson_key</th>\n",
              "      <th>processing_state</th>\n",
              "    </tr>\n",
              "  </thead>\n",
              "  <tbody>\n",
              "    <tr>\n",
              "      <th>0</th>\n",
              "      <td>2015-01-14</td>\n",
              "      <td>2015-01-16</td>\n",
              "      <td>UNGRADED</td>\n",
              "      <td>256</td>\n",
              "      <td>3176718735</td>\n",
              "      <td>EVALUATED</td>\n",
              "    </tr>\n",
              "    <tr>\n",
              "      <th>1</th>\n",
              "      <td>2015-01-10</td>\n",
              "      <td>2015-01-13</td>\n",
              "      <td>INCOMPLETE</td>\n",
              "      <td>256</td>\n",
              "      <td>3176718735</td>\n",
              "      <td>EVALUATED</td>\n",
              "    </tr>\n",
              "    <tr>\n",
              "      <th>2</th>\n",
              "      <td>2015-01-20</td>\n",
              "      <td>2015-01-20</td>\n",
              "      <td>PASSED</td>\n",
              "      <td>256</td>\n",
              "      <td>3176718735</td>\n",
              "      <td>EVALUATED</td>\n",
              "    </tr>\n",
              "    <tr>\n",
              "      <th>3</th>\n",
              "      <td>2015-03-10</td>\n",
              "      <td>2015-03-13</td>\n",
              "      <td>PASSED</td>\n",
              "      <td>434</td>\n",
              "      <td>3176718735</td>\n",
              "      <td>EVALUATED</td>\n",
              "    </tr>\n",
              "    <tr>\n",
              "      <th>4</th>\n",
              "      <td>2015-02-17</td>\n",
              "      <td>2015-03-03</td>\n",
              "      <td>INCOMPLETE</td>\n",
              "      <td>434</td>\n",
              "      <td>3176718735</td>\n",
              "      <td>EVALUATED</td>\n",
              "    </tr>\n",
              "    <tr>\n",
              "      <th>...</th>\n",
              "      <td>...</td>\n",
              "      <td>...</td>\n",
              "      <td>...</td>\n",
              "      <td>...</td>\n",
              "      <td>...</td>\n",
              "      <td>...</td>\n",
              "    </tr>\n",
              "    <tr>\n",
              "      <th>3637</th>\n",
              "      <td>2015-01-13</td>\n",
              "      <td>2015-01-22</td>\n",
              "      <td>PASSED</td>\n",
              "      <td>243</td>\n",
              "      <td>3176718735</td>\n",
              "      <td>EVALUATED</td>\n",
              "    </tr>\n",
              "    <tr>\n",
              "      <th>3638</th>\n",
              "      <td>2015-07-07</td>\n",
              "      <td>2015-07-07</td>\n",
              "      <td>INCOMPLETE</td>\n",
              "      <td>771</td>\n",
              "      <td>3176718735</td>\n",
              "      <td>EVALUATED</td>\n",
              "    </tr>\n",
              "    <tr>\n",
              "      <th>3639</th>\n",
              "      <td>2015-08-16</td>\n",
              "      <td>2015-08-16</td>\n",
              "      <td>PASSED</td>\n",
              "      <td>2</td>\n",
              "      <td>3176718735</td>\n",
              "      <td>EVALUATED</td>\n",
              "    </tr>\n",
              "    <tr>\n",
              "      <th>3640</th>\n",
              "      <td>2015-03-03</td>\n",
              "      <td>2015-03-11</td>\n",
              "      <td>PASSED</td>\n",
              "      <td>623</td>\n",
              "      <td>3176718735</td>\n",
              "      <td>EVALUATED</td>\n",
              "    </tr>\n",
              "    <tr>\n",
              "      <th>3641</th>\n",
              "      <td>2015-07-10</td>\n",
              "      <td>2015-07-11</td>\n",
              "      <td>PASSED</td>\n",
              "      <td>1274</td>\n",
              "      <td>4576183932</td>\n",
              "      <td>EVALUATED</td>\n",
              "    </tr>\n",
              "  </tbody>\n",
              "</table>\n",
              "<p>3642 rows × 6 columns</p>\n",
              "</div>"
            ],
            "text/plain": [
              "     creation_date completion_date  ...  lesson_key processing_state\n",
              "0       2015-01-14      2015-01-16  ...  3176718735        EVALUATED\n",
              "1       2015-01-10      2015-01-13  ...  3176718735        EVALUATED\n",
              "2       2015-01-20      2015-01-20  ...  3176718735        EVALUATED\n",
              "3       2015-03-10      2015-03-13  ...  3176718735        EVALUATED\n",
              "4       2015-02-17      2015-03-03  ...  3176718735        EVALUATED\n",
              "...            ...             ...  ...         ...              ...\n",
              "3637    2015-01-13      2015-01-22  ...  3176718735        EVALUATED\n",
              "3638    2015-07-07      2015-07-07  ...  3176718735        EVALUATED\n",
              "3639    2015-08-16      2015-08-16  ...  3176718735        EVALUATED\n",
              "3640    2015-03-03      2015-03-11  ...  3176718735        EVALUATED\n",
              "3641    2015-07-10      2015-07-11  ...  4576183932        EVALUATED\n",
              "\n",
              "[3642 rows x 6 columns]"
            ]
          },
          "metadata": {
            "tags": []
          },
          "execution_count": 279
        }
      ]
    },
    {
      "cell_type": "code",
      "metadata": {
        "id": "ENoCdyt1MwLC",
        "colab_type": "code",
        "colab": {}
      },
      "source": [
        ""
      ],
      "execution_count": 0,
      "outputs": []
    },
    {
      "cell_type": "markdown",
      "metadata": {
        "id": "iNw3A6QJNV0M",
        "colab_type": "text"
      },
      "source": [
        "How many students enrolled?\n",
        "\n",
        "How many students passed/failed/didnt finish?\n",
        "\n",
        "when did students frequently join?\n",
        "\n",
        "is there a correlation between students joining/completing projects vs pass status?\n",
        "\n",
        "\n",
        "\n"
      ]
    },
    {
      "cell_type": "markdown",
      "metadata": {
        "id": "8cCavF7NbHl5",
        "colab_type": "text"
      },
      "source": [
        "## Size Before Cleaning"
      ]
    },
    {
      "cell_type": "code",
      "metadata": {
        "id": "Y55259xObLR3",
        "colab_type": "code",
        "colab": {
          "base_uri": "https://localhost:8080/",
          "height": 34
        },
        "outputId": "07e15c17-d684-4666-f5e7-1cb14363cfb7"
      },
      "source": [
        "enrollments.shape, engagements.shape, project_submissions.shape"
      ],
      "execution_count": 280,
      "outputs": [
        {
          "output_type": "execute_result",
          "data": {
            "text/plain": [
              "((1640, 7), (2309239, 12), (3642, 6))"
            ]
          },
          "metadata": {
            "tags": []
          },
          "execution_count": 280
        }
      ]
    },
    {
      "cell_type": "code",
      "metadata": {
        "id": "E2bKxBTct93u",
        "colab_type": "code",
        "colab": {}
      },
      "source": [
        "# Update only valid accounts.\n",
        "def resetIndex(df1):\n",
        "  df1.reset_index(inplace=True)\n",
        "  return df1\n",
        "\n",
        "# Remove all Test Udacity accounts.\n",
        "filter_enrollments = enrollments[enrollments['is_udacity'] == False]\n",
        "valid_accounts = filter_enrollments['account_key']\n",
        "filter_engagements = engagements[engagements['acct'].isin(valid_accounts)]\n",
        "valid_submissions = project_submissions['account_key'].isin(valid_accounts)\n",
        "filter_project_submissions = project_submissions[valid_submissions]"
      ],
      "execution_count": 0,
      "outputs": []
    },
    {
      "cell_type": "code",
      "metadata": {
        "id": "Msv-DuWGJYTx",
        "colab_type": "code",
        "colab": {}
      },
      "source": [
        "enrollments = resetIndex(filter_enrollments)\n",
        "engagements = resetIndex(filter_engagements)\n",
        "project_submissions = resetIndex(filter_project_submissions)"
      ],
      "execution_count": 0,
      "outputs": []
    },
    {
      "cell_type": "markdown",
      "metadata": {
        "id": "uLEl_Kr5a4ZN",
        "colab_type": "text"
      },
      "source": [
        "## Size After Cleaning"
      ]
    },
    {
      "cell_type": "code",
      "metadata": {
        "id": "nEzs3XUbXViQ",
        "colab_type": "code",
        "colab": {
          "base_uri": "https://localhost:8080/",
          "height": 34
        },
        "outputId": "51754ab0-cdf9-4cbb-a1f4-1664766bcae8"
      },
      "source": [
        "enrollments.shape, engagements.shape, project_submissions.shape"
      ],
      "execution_count": 283,
      "outputs": [
        {
          "output_type": "execute_result",
          "data": {
            "text/plain": [
              "((1622, 8), (2299629, 13), (3626, 7))"
            ]
          },
          "metadata": {
            "tags": []
          },
          "execution_count": 283
        }
      ]
    },
    {
      "cell_type": "markdown",
      "metadata": {
        "id": "x59Gy8eMJgbl",
        "colab_type": "text"
      },
      "source": [
        "### Get Total Unique Engagements, Enrollments, Submissions"
      ]
    },
    {
      "cell_type": "code",
      "metadata": {
        "id": "XDvS5hHO-MUf",
        "colab_type": "code",
        "colab": {}
      },
      "source": [
        "uniq_student_engagement=engagements.drop_duplicates(subset=['acct'])\n",
        "uniq_student_enrollment = enrollments.drop_duplicates(subset=['account_key'])\n",
        "uniq_student_submission = project_submissions.drop_duplicates(subset=['account_key'])\n"
      ],
      "execution_count": 0,
      "outputs": []
    },
    {
      "cell_type": "code",
      "metadata": {
        "id": "ylqqtK5t-M_X",
        "colab_type": "code",
        "outputId": "dcdad87c-420e-4662-e725-d4466e3d27b2",
        "colab": {
          "base_uri": "https://localhost:8080/",
          "height": 34
        }
      },
      "source": [
        "uniq_student_engagement.size"
      ],
      "execution_count": 285,
      "outputs": [
        {
          "output_type": "execute_result",
          "data": {
            "text/plain": [
              "16042"
            ]
          },
          "metadata": {
            "tags": []
          },
          "execution_count": 285
        }
      ]
    },
    {
      "cell_type": "code",
      "metadata": {
        "id": "K3gY3dRB-Veg",
        "colab_type": "code",
        "outputId": "6842fc3b-6238-4a68-e603-97f8fa59db04",
        "colab": {
          "base_uri": "https://localhost:8080/",
          "height": 34
        }
      },
      "source": [
        "uniq_student_enrollment.size"
      ],
      "execution_count": 286,
      "outputs": [
        {
          "output_type": "execute_result",
          "data": {
            "text/plain": [
              "10368"
            ]
          },
          "metadata": {
            "tags": []
          },
          "execution_count": 286
        }
      ]
    },
    {
      "cell_type": "code",
      "metadata": {
        "id": "NtXAsEaP-Xd9",
        "colab_type": "code",
        "outputId": "1f1184a3-7090-4e1f-fc70-25776e30b900",
        "colab": {
          "base_uri": "https://localhost:8080/",
          "height": 34
        }
      },
      "source": [
        "uniq_student_submission.size"
      ],
      "execution_count": 287,
      "outputs": [
        {
          "output_type": "execute_result",
          "data": {
            "text/plain": [
              "5159"
            ]
          },
          "metadata": {
            "tags": []
          },
          "execution_count": 287
        }
      ]
    },
    {
      "cell_type": "code",
      "metadata": {
        "id": "fu1H4fBP_3Nv",
        "colab_type": "code",
        "outputId": "2b9aaf3c-a866-4b94-c7b6-af418e2a6d37",
        "colab": {
          "base_uri": "https://localhost:8080/",
          "height": 204
        }
      },
      "source": [
        "uniq_student_enrollment.tail(5)"
      ],
      "execution_count": 288,
      "outputs": [
        {
          "output_type": "execute_result",
          "data": {
            "text/html": [
              "<div>\n",
              "<style scoped>\n",
              "    .dataframe tbody tr th:only-of-type {\n",
              "        vertical-align: middle;\n",
              "    }\n",
              "\n",
              "    .dataframe tbody tr th {\n",
              "        vertical-align: top;\n",
              "    }\n",
              "\n",
              "    .dataframe thead th {\n",
              "        text-align: right;\n",
              "    }\n",
              "</style>\n",
              "<table border=\"1\" class=\"dataframe\">\n",
              "  <thead>\n",
              "    <tr style=\"text-align: right;\">\n",
              "      <th></th>\n",
              "      <th>index</th>\n",
              "      <th>account_key</th>\n",
              "      <th>status</th>\n",
              "      <th>join_date</th>\n",
              "      <th>cancel_date</th>\n",
              "      <th>days_to_cancel</th>\n",
              "      <th>is_udacity</th>\n",
              "      <th>is_canceled</th>\n",
              "    </tr>\n",
              "  </thead>\n",
              "  <tbody>\n",
              "    <tr>\n",
              "      <th>1617</th>\n",
              "      <td>1635</td>\n",
              "      <td>1176</td>\n",
              "      <td>current</td>\n",
              "      <td>2015-08-12</td>\n",
              "      <td>NaN</td>\n",
              "      <td>NaN</td>\n",
              "      <td>False</td>\n",
              "      <td>False</td>\n",
              "    </tr>\n",
              "    <tr>\n",
              "      <th>1618</th>\n",
              "      <td>1636</td>\n",
              "      <td>1110</td>\n",
              "      <td>current</td>\n",
              "      <td>2015-08-13</td>\n",
              "      <td>NaN</td>\n",
              "      <td>NaN</td>\n",
              "      <td>False</td>\n",
              "      <td>False</td>\n",
              "    </tr>\n",
              "    <tr>\n",
              "      <th>1619</th>\n",
              "      <td>1637</td>\n",
              "      <td>1116</td>\n",
              "      <td>canceled</td>\n",
              "      <td>2015-08-15</td>\n",
              "      <td>2015-08-18</td>\n",
              "      <td>3.0</td>\n",
              "      <td>False</td>\n",
              "      <td>True</td>\n",
              "    </tr>\n",
              "    <tr>\n",
              "      <th>1620</th>\n",
              "      <td>1638</td>\n",
              "      <td>874</td>\n",
              "      <td>current</td>\n",
              "      <td>2015-08-22</td>\n",
              "      <td>NaN</td>\n",
              "      <td>NaN</td>\n",
              "      <td>False</td>\n",
              "      <td>False</td>\n",
              "    </tr>\n",
              "    <tr>\n",
              "      <th>1621</th>\n",
              "      <td>1639</td>\n",
              "      <td>686</td>\n",
              "      <td>current</td>\n",
              "      <td>2015-08-23</td>\n",
              "      <td>NaN</td>\n",
              "      <td>NaN</td>\n",
              "      <td>False</td>\n",
              "      <td>False</td>\n",
              "    </tr>\n",
              "  </tbody>\n",
              "</table>\n",
              "</div>"
            ],
            "text/plain": [
              "      index  account_key    status  ... days_to_cancel is_udacity  is_canceled\n",
              "1617   1635         1176   current  ...            NaN      False        False\n",
              "1618   1636         1110   current  ...            NaN      False        False\n",
              "1619   1637         1116  canceled  ...            3.0      False         True\n",
              "1620   1638          874   current  ...            NaN      False        False\n",
              "1621   1639          686   current  ...            NaN      False        False\n",
              "\n",
              "[5 rows x 8 columns]"
            ]
          },
          "metadata": {
            "tags": []
          },
          "execution_count": 288
        }
      ]
    },
    {
      "cell_type": "code",
      "metadata": {
        "id": "4EuDvx81Amf7",
        "colab_type": "code",
        "outputId": "325ea144-16d5-4521-c256-afcb667ca1d2",
        "colab": {
          "base_uri": "https://localhost:8080/",
          "height": 309
        }
      },
      "source": [
        "uniq_student_engagement.tail(5)"
      ],
      "execution_count": 289,
      "outputs": [
        {
          "output_type": "execute_result",
          "data": {
            "text/html": [
              "<div>\n",
              "<style scoped>\n",
              "    .dataframe tbody tr th:only-of-type {\n",
              "        vertical-align: middle;\n",
              "    }\n",
              "\n",
              "    .dataframe tbody tr th {\n",
              "        vertical-align: top;\n",
              "    }\n",
              "\n",
              "    .dataframe thead th {\n",
              "        text-align: right;\n",
              "    }\n",
              "</style>\n",
              "<table border=\"1\" class=\"dataframe\">\n",
              "  <thead>\n",
              "    <tr style=\"text-align: right;\">\n",
              "      <th></th>\n",
              "      <th>index</th>\n",
              "      <th>utc_date</th>\n",
              "      <th>acct</th>\n",
              "      <th>registration_date</th>\n",
              "      <th>subscription_start</th>\n",
              "      <th>course_key</th>\n",
              "      <th>sibling_key</th>\n",
              "      <th>course_title</th>\n",
              "      <th>has_visited</th>\n",
              "      <th>total_minutes_visited</th>\n",
              "      <th>lessons_completed</th>\n",
              "      <th>projects_completed</th>\n",
              "      <th>account_key</th>\n",
              "    </tr>\n",
              "  </thead>\n",
              "  <tbody>\n",
              "    <tr>\n",
              "      <th>2299249</th>\n",
              "      <td>2308859</td>\n",
              "      <td>2015-08-23</td>\n",
              "      <td>686</td>\n",
              "      <td>2012-10-20</td>\n",
              "      <td>2015-08-23</td>\n",
              "      <td>ud032-nd</td>\n",
              "      <td>ud032</td>\n",
              "      <td>Data Wrangling with MongoDB</td>\n",
              "      <td>0.0</td>\n",
              "      <td>0.0</td>\n",
              "      <td>0.0</td>\n",
              "      <td>0.0</td>\n",
              "      <td>u28015558</td>\n",
              "    </tr>\n",
              "    <tr>\n",
              "      <th>2299268</th>\n",
              "      <td>2308878</td>\n",
              "      <td>2015-08-23</td>\n",
              "      <td>1067</td>\n",
              "      <td>2012-08-30</td>\n",
              "      <td>2015-08-22</td>\n",
              "      <td>ud120-nd</td>\n",
              "      <td>ud120</td>\n",
              "      <td>Intro to Machine Learning</td>\n",
              "      <td>0.0</td>\n",
              "      <td>0.0</td>\n",
              "      <td>0.0</td>\n",
              "      <td>0.0</td>\n",
              "      <td>u20522597</td>\n",
              "    </tr>\n",
              "    <tr>\n",
              "      <th>2299363</th>\n",
              "      <td>2308973</td>\n",
              "      <td>2015-08-23</td>\n",
              "      <td>874</td>\n",
              "      <td>2015-08-05</td>\n",
              "      <td>2015-08-22</td>\n",
              "      <td>ud651-nd</td>\n",
              "      <td>ud651</td>\n",
              "      <td>Data Analysis with R</td>\n",
              "      <td>0.0</td>\n",
              "      <td>0.0</td>\n",
              "      <td>0.0</td>\n",
              "      <td>0.0</td>\n",
              "      <td>4804719296</td>\n",
              "    </tr>\n",
              "    <tr>\n",
              "      <th>2299458</th>\n",
              "      <td>2309068</td>\n",
              "      <td>2015-08-23</td>\n",
              "      <td>754</td>\n",
              "      <td>2015-01-22</td>\n",
              "      <td>2015-08-21</td>\n",
              "      <td>ud359-nd</td>\n",
              "      <td>ud359</td>\n",
              "      <td>Intro to Data Science</td>\n",
              "      <td>0.0</td>\n",
              "      <td>0.0</td>\n",
              "      <td>0.0</td>\n",
              "      <td>0.0</td>\n",
              "      <td>3567109205</td>\n",
              "    </tr>\n",
              "    <tr>\n",
              "      <th>2299553</th>\n",
              "      <td>2309163</td>\n",
              "      <td>2015-08-23</td>\n",
              "      <td>854</td>\n",
              "      <td>2012-10-12</td>\n",
              "      <td>2015-08-23</td>\n",
              "      <td>ud359-nd</td>\n",
              "      <td>ud359</td>\n",
              "      <td>Intro to Data Science</td>\n",
              "      <td>0.0</td>\n",
              "      <td>0.0</td>\n",
              "      <td>0.0</td>\n",
              "      <td>0.0</td>\n",
              "      <td>u26334020</td>\n",
              "    </tr>\n",
              "  </tbody>\n",
              "</table>\n",
              "</div>"
            ],
            "text/plain": [
              "           index    utc_date  ...  projects_completed account_key\n",
              "2299249  2308859  2015-08-23  ...                 0.0   u28015558\n",
              "2299268  2308878  2015-08-23  ...                 0.0   u20522597\n",
              "2299363  2308973  2015-08-23  ...                 0.0  4804719296\n",
              "2299458  2309068  2015-08-23  ...                 0.0  3567109205\n",
              "2299553  2309163  2015-08-23  ...                 0.0   u26334020\n",
              "\n",
              "[5 rows x 13 columns]"
            ]
          },
          "metadata": {
            "tags": []
          },
          "execution_count": 289
        }
      ]
    },
    {
      "cell_type": "code",
      "metadata": {
        "id": "o-n5QJVuBNRU",
        "colab_type": "code",
        "colab": {}
      },
      "source": [
        "uniq_enrolled_accounts = uniq_student_enrollment['account_key']\n",
        "uniq_engagement_accounts = uniq_student_engagement['acct']"
      ],
      "execution_count": 0,
      "outputs": []
    },
    {
      "cell_type": "code",
      "metadata": {
        "id": "wmqqXfooEFr4",
        "colab_type": "code",
        "outputId": "b63928b2-53fd-4c02-a039-f8efcfce2f4c",
        "colab": {
          "base_uri": "https://localhost:8080/",
          "height": 34
        }
      },
      "source": [
        "uniq_enrolled_accounts.size"
      ],
      "execution_count": 291,
      "outputs": [
        {
          "output_type": "execute_result",
          "data": {
            "text/plain": [
              "1296"
            ]
          },
          "metadata": {
            "tags": []
          },
          "execution_count": 291
        }
      ]
    },
    {
      "cell_type": "code",
      "metadata": {
        "id": "v5sYyOuWF2Qk",
        "colab_type": "code",
        "outputId": "29a3947d-b66f-4c42-f0a4-6b5cd3cd5ba6",
        "colab": {
          "base_uri": "https://localhost:8080/",
          "height": 34
        }
      },
      "source": [
        "uniq_engagement_accounts.size"
      ],
      "execution_count": 292,
      "outputs": [
        {
          "output_type": "execute_result",
          "data": {
            "text/plain": [
              "1234"
            ]
          },
          "metadata": {
            "tags": []
          },
          "execution_count": 292
        }
      ]
    },
    {
      "cell_type": "code",
      "metadata": {
        "id": "CDjKdfmvC_fm",
        "colab_type": "code",
        "outputId": "649e28e2-3643-4989-e90c-497475b5b5ce",
        "colab": {
          "base_uri": "https://localhost:8080/",
          "height": 119
        }
      },
      "source": [
        "uniq_engagement_accounts.head(5)"
      ],
      "execution_count": 293,
      "outputs": [
        {
          "output_type": "execute_result",
          "data": {
            "text/plain": [
              "0         44\n",
              "4783     258\n",
              "8799     366\n",
              "11201    587\n",
              "15287    943\n",
              "Name: acct, dtype: int64"
            ]
          },
          "metadata": {
            "tags": []
          },
          "execution_count": 293
        }
      ]
    },
    {
      "cell_type": "code",
      "metadata": {
        "id": "D5KU7GDDGShS",
        "colab_type": "code",
        "outputId": "50ead38e-badc-4072-a7bf-5acf55d59b01",
        "colab": {
          "base_uri": "https://localhost:8080/",
          "height": 119
        }
      },
      "source": [
        "uniq_enrolled_accounts.head(5)"
      ],
      "execution_count": 294,
      "outputs": [
        {
          "output_type": "execute_result",
          "data": {
            "text/plain": [
              "0     700\n",
              "1     429\n",
              "3      60\n",
              "6    1300\n",
              "7     369\n",
              "Name: account_key, dtype: int64"
            ]
          },
          "metadata": {
            "tags": []
          },
          "execution_count": 294
        }
      ]
    },
    {
      "cell_type": "markdown",
      "metadata": {
        "id": "rXQVJb_1Jph_",
        "colab_type": "text"
      },
      "source": [
        "### Get total Unique Accounts Enrolled but Not Engaged "
      ]
    },
    {
      "cell_type": "code",
      "metadata": {
        "id": "FEqF_FzpIDSh",
        "colab_type": "code",
        "outputId": "c3bc8cac-5d7f-4b3b-f2d5-15710d4396bb",
        "colab": {
          "base_uri": "https://localhost:8080/",
          "height": 221
        }
      },
      "source": [
        "enrolled_not_engaged_accounts = uniq_enrolled_accounts[~uniq_enrolled_accounts.isin(uniq_engagement_accounts)]\n",
        "enrolled_not_engaged_accounts"
      ],
      "execution_count": 295,
      "outputs": [
        {
          "output_type": "execute_result",
          "data": {
            "text/plain": [
              "56      1219\n",
              "66       871\n",
              "184     1218\n",
              "207      654\n",
              "211      964\n",
              "        ... \n",
              "1483    1079\n",
              "1525    1063\n",
              "1545    1270\n",
              "1590    1291\n",
              "1595    1241\n",
              "Name: account_key, Length: 62, dtype: int64"
            ]
          },
          "metadata": {
            "tags": []
          },
          "execution_count": 295
        }
      ]
    },
    {
      "cell_type": "markdown",
      "metadata": {
        "id": "qM9gxaJjjsDH",
        "colab_type": "text"
      },
      "source": [
        "### Students Enrolled But Not Engaged"
      ]
    },
    {
      "cell_type": "code",
      "metadata": {
        "id": "aoNA1JunJPEY",
        "colab_type": "code",
        "outputId": "9e00b2c2-d944-4a3a-9523-13e79a7231a7",
        "colab": {
          "base_uri": "https://localhost:8080/",
          "height": 419
        }
      },
      "source": [
        "uniq_student_enrollment[uniq_student_enrollment['account_key'].isin(enrolled_not_engaged_accounts)]"
      ],
      "execution_count": 296,
      "outputs": [
        {
          "output_type": "execute_result",
          "data": {
            "text/html": [
              "<div>\n",
              "<style scoped>\n",
              "    .dataframe tbody tr th:only-of-type {\n",
              "        vertical-align: middle;\n",
              "    }\n",
              "\n",
              "    .dataframe tbody tr th {\n",
              "        vertical-align: top;\n",
              "    }\n",
              "\n",
              "    .dataframe thead th {\n",
              "        text-align: right;\n",
              "    }\n",
              "</style>\n",
              "<table border=\"1\" class=\"dataframe\">\n",
              "  <thead>\n",
              "    <tr style=\"text-align: right;\">\n",
              "      <th></th>\n",
              "      <th>index</th>\n",
              "      <th>account_key</th>\n",
              "      <th>status</th>\n",
              "      <th>join_date</th>\n",
              "      <th>cancel_date</th>\n",
              "      <th>days_to_cancel</th>\n",
              "      <th>is_udacity</th>\n",
              "      <th>is_canceled</th>\n",
              "    </tr>\n",
              "  </thead>\n",
              "  <tbody>\n",
              "    <tr>\n",
              "      <th>56</th>\n",
              "      <td>65</td>\n",
              "      <td>1219</td>\n",
              "      <td>canceled</td>\n",
              "      <td>2014-11-12</td>\n",
              "      <td>2014-11-12</td>\n",
              "      <td>0.0</td>\n",
              "      <td>False</td>\n",
              "      <td>True</td>\n",
              "    </tr>\n",
              "    <tr>\n",
              "      <th>66</th>\n",
              "      <td>75</td>\n",
              "      <td>871</td>\n",
              "      <td>canceled</td>\n",
              "      <td>2014-11-13</td>\n",
              "      <td>2014-11-13</td>\n",
              "      <td>0.0</td>\n",
              "      <td>False</td>\n",
              "      <td>True</td>\n",
              "    </tr>\n",
              "    <tr>\n",
              "      <th>184</th>\n",
              "      <td>193</td>\n",
              "      <td>1218</td>\n",
              "      <td>canceled</td>\n",
              "      <td>2014-11-15</td>\n",
              "      <td>2014-11-15</td>\n",
              "      <td>0.0</td>\n",
              "      <td>False</td>\n",
              "      <td>True</td>\n",
              "    </tr>\n",
              "    <tr>\n",
              "      <th>207</th>\n",
              "      <td>216</td>\n",
              "      <td>654</td>\n",
              "      <td>canceled</td>\n",
              "      <td>2014-12-04</td>\n",
              "      <td>2014-12-04</td>\n",
              "      <td>0.0</td>\n",
              "      <td>False</td>\n",
              "      <td>True</td>\n",
              "    </tr>\n",
              "    <tr>\n",
              "      <th>211</th>\n",
              "      <td>220</td>\n",
              "      <td>964</td>\n",
              "      <td>canceled</td>\n",
              "      <td>2014-12-04</td>\n",
              "      <td>2014-12-04</td>\n",
              "      <td>0.0</td>\n",
              "      <td>False</td>\n",
              "      <td>True</td>\n",
              "    </tr>\n",
              "    <tr>\n",
              "      <th>...</th>\n",
              "      <td>...</td>\n",
              "      <td>...</td>\n",
              "      <td>...</td>\n",
              "      <td>...</td>\n",
              "      <td>...</td>\n",
              "      <td>...</td>\n",
              "      <td>...</td>\n",
              "      <td>...</td>\n",
              "    </tr>\n",
              "    <tr>\n",
              "      <th>1483</th>\n",
              "      <td>1501</td>\n",
              "      <td>1079</td>\n",
              "      <td>canceled</td>\n",
              "      <td>2015-02-09</td>\n",
              "      <td>2015-02-09</td>\n",
              "      <td>0.0</td>\n",
              "      <td>False</td>\n",
              "      <td>True</td>\n",
              "    </tr>\n",
              "    <tr>\n",
              "      <th>1525</th>\n",
              "      <td>1543</td>\n",
              "      <td>1063</td>\n",
              "      <td>canceled</td>\n",
              "      <td>2015-07-14</td>\n",
              "      <td>2015-07-14</td>\n",
              "      <td>0.0</td>\n",
              "      <td>False</td>\n",
              "      <td>True</td>\n",
              "    </tr>\n",
              "    <tr>\n",
              "      <th>1545</th>\n",
              "      <td>1563</td>\n",
              "      <td>1270</td>\n",
              "      <td>canceled</td>\n",
              "      <td>2015-07-20</td>\n",
              "      <td>2015-07-20</td>\n",
              "      <td>0.0</td>\n",
              "      <td>False</td>\n",
              "      <td>True</td>\n",
              "    </tr>\n",
              "    <tr>\n",
              "      <th>1590</th>\n",
              "      <td>1608</td>\n",
              "      <td>1291</td>\n",
              "      <td>canceled</td>\n",
              "      <td>2015-06-03</td>\n",
              "      <td>2015-06-03</td>\n",
              "      <td>0.0</td>\n",
              "      <td>False</td>\n",
              "      <td>True</td>\n",
              "    </tr>\n",
              "    <tr>\n",
              "      <th>1595</th>\n",
              "      <td>1613</td>\n",
              "      <td>1241</td>\n",
              "      <td>canceled</td>\n",
              "      <td>2015-06-09</td>\n",
              "      <td>2015-06-09</td>\n",
              "      <td>0.0</td>\n",
              "      <td>False</td>\n",
              "      <td>True</td>\n",
              "    </tr>\n",
              "  </tbody>\n",
              "</table>\n",
              "<p>62 rows × 8 columns</p>\n",
              "</div>"
            ],
            "text/plain": [
              "      index  account_key    status  ... days_to_cancel is_udacity  is_canceled\n",
              "56       65         1219  canceled  ...            0.0      False         True\n",
              "66       75          871  canceled  ...            0.0      False         True\n",
              "184     193         1218  canceled  ...            0.0      False         True\n",
              "207     216          654  canceled  ...            0.0      False         True\n",
              "211     220          964  canceled  ...            0.0      False         True\n",
              "...     ...          ...       ...  ...            ...        ...          ...\n",
              "1483   1501         1079  canceled  ...            0.0      False         True\n",
              "1525   1543         1063  canceled  ...            0.0      False         True\n",
              "1545   1563         1270  canceled  ...            0.0      False         True\n",
              "1590   1608         1291  canceled  ...            0.0      False         True\n",
              "1595   1613         1241  canceled  ...            0.0      False         True\n",
              "\n",
              "[62 rows x 8 columns]"
            ]
          },
          "metadata": {
            "tags": []
          },
          "execution_count": 296
        }
      ]
    },
    {
      "cell_type": "markdown",
      "metadata": {
        "id": "cVoA1djVXg9z",
        "colab_type": "text"
      },
      "source": [
        "## **Lets look at the project submissions grouped by accounts.**"
      ]
    },
    {
      "cell_type": "code",
      "metadata": {
        "id": "yKJmnE7dePKy",
        "colab_type": "code",
        "outputId": "cdc70999-fbad-42f2-c764-9559a66f6417",
        "colab": {
          "base_uri": "https://localhost:8080/",
          "height": 204
        }
      },
      "source": [
        "project_submissions.head(5)"
      ],
      "execution_count": 297,
      "outputs": [
        {
          "output_type": "execute_result",
          "data": {
            "text/html": [
              "<div>\n",
              "<style scoped>\n",
              "    .dataframe tbody tr th:only-of-type {\n",
              "        vertical-align: middle;\n",
              "    }\n",
              "\n",
              "    .dataframe tbody tr th {\n",
              "        vertical-align: top;\n",
              "    }\n",
              "\n",
              "    .dataframe thead th {\n",
              "        text-align: right;\n",
              "    }\n",
              "</style>\n",
              "<table border=\"1\" class=\"dataframe\">\n",
              "  <thead>\n",
              "    <tr style=\"text-align: right;\">\n",
              "      <th></th>\n",
              "      <th>index</th>\n",
              "      <th>creation_date</th>\n",
              "      <th>completion_date</th>\n",
              "      <th>assigned_rating</th>\n",
              "      <th>account_key</th>\n",
              "      <th>lesson_key</th>\n",
              "      <th>processing_state</th>\n",
              "    </tr>\n",
              "  </thead>\n",
              "  <tbody>\n",
              "    <tr>\n",
              "      <th>0</th>\n",
              "      <td>0</td>\n",
              "      <td>2015-01-14</td>\n",
              "      <td>2015-01-16</td>\n",
              "      <td>UNGRADED</td>\n",
              "      <td>256</td>\n",
              "      <td>3176718735</td>\n",
              "      <td>EVALUATED</td>\n",
              "    </tr>\n",
              "    <tr>\n",
              "      <th>1</th>\n",
              "      <td>1</td>\n",
              "      <td>2015-01-10</td>\n",
              "      <td>2015-01-13</td>\n",
              "      <td>INCOMPLETE</td>\n",
              "      <td>256</td>\n",
              "      <td>3176718735</td>\n",
              "      <td>EVALUATED</td>\n",
              "    </tr>\n",
              "    <tr>\n",
              "      <th>2</th>\n",
              "      <td>2</td>\n",
              "      <td>2015-01-20</td>\n",
              "      <td>2015-01-20</td>\n",
              "      <td>PASSED</td>\n",
              "      <td>256</td>\n",
              "      <td>3176718735</td>\n",
              "      <td>EVALUATED</td>\n",
              "    </tr>\n",
              "    <tr>\n",
              "      <th>3</th>\n",
              "      <td>3</td>\n",
              "      <td>2015-03-10</td>\n",
              "      <td>2015-03-13</td>\n",
              "      <td>PASSED</td>\n",
              "      <td>434</td>\n",
              "      <td>3176718735</td>\n",
              "      <td>EVALUATED</td>\n",
              "    </tr>\n",
              "    <tr>\n",
              "      <th>4</th>\n",
              "      <td>4</td>\n",
              "      <td>2015-02-17</td>\n",
              "      <td>2015-03-03</td>\n",
              "      <td>INCOMPLETE</td>\n",
              "      <td>434</td>\n",
              "      <td>3176718735</td>\n",
              "      <td>EVALUATED</td>\n",
              "    </tr>\n",
              "  </tbody>\n",
              "</table>\n",
              "</div>"
            ],
            "text/plain": [
              "   index creation_date  ...  lesson_key processing_state\n",
              "0      0    2015-01-14  ...  3176718735        EVALUATED\n",
              "1      1    2015-01-10  ...  3176718735        EVALUATED\n",
              "2      2    2015-01-20  ...  3176718735        EVALUATED\n",
              "3      3    2015-03-10  ...  3176718735        EVALUATED\n",
              "4      4    2015-02-17  ...  3176718735        EVALUATED\n",
              "\n",
              "[5 rows x 7 columns]"
            ]
          },
          "metadata": {
            "tags": []
          },
          "execution_count": 297
        }
      ]
    },
    {
      "cell_type": "code",
      "metadata": {
        "id": "fJiCy4o6XqFN",
        "colab_type": "code",
        "colab": {}
      },
      "source": [
        "submissions_groupby_account = project_submissions.groupby(by='account_key', squeeze=True)"
      ],
      "execution_count": 0,
      "outputs": []
    },
    {
      "cell_type": "markdown",
      "metadata": {
        "id": "fZZCRRw6m3yi",
        "colab_type": "text"
      },
      "source": [
        "### Project submissions in descending order"
      ]
    },
    {
      "cell_type": "code",
      "metadata": {
        "id": "7G3bwbFUZO0v",
        "colab_type": "code",
        "outputId": "79e236be-a233-44f0-da75-744296aabc4f",
        "colab": {
          "base_uri": "https://localhost:8080/",
          "height": 238
        }
      },
      "source": [
        "submissions_groupby_account.size().sort_values(ascending=False)"
      ],
      "execution_count": 299,
      "outputs": [
        {
          "output_type": "execute_result",
          "data": {
            "text/plain": [
              "account_key\n",
              "569    27\n",
              "281    20\n",
              "427    17\n",
              "426    17\n",
              "641    17\n",
              "       ..\n",
              "88      1\n",
              "534     1\n",
              "243     1\n",
              "771     1\n",
              "64      1\n",
              "Length: 737, dtype: int64"
            ]
          },
          "metadata": {
            "tags": []
          },
          "execution_count": 299
        }
      ]
    },
    {
      "cell_type": "markdown",
      "metadata": {
        "id": "0ZYL9OpEnGHP",
        "colab_type": "text"
      },
      "source": [
        "### Segregate Submitted Projects by their submission status(Assigned Rating)"
      ]
    },
    {
      "cell_type": "code",
      "metadata": {
        "id": "KApT42GEedDv",
        "colab_type": "code",
        "colab": {}
      },
      "source": [
        "project_grouped = project_submissions.groupby(by=['account_key', 'assigned_rating'])"
      ],
      "execution_count": 0,
      "outputs": []
    },
    {
      "cell_type": "code",
      "metadata": {
        "id": "KSiU717IerLp",
        "colab_type": "code",
        "outputId": "361d8fa1-a617-4218-b79c-3c16fc03ebeb",
        "colab": {
          "base_uri": "https://localhost:8080/",
          "height": 238
        }
      },
      "source": [
        "project_grouped_size=project_grouped.size()\n",
        "project_grouped_size"
      ],
      "execution_count": 301,
      "outputs": [
        {
          "output_type": "execute_result",
          "data": {
            "text/plain": [
              "account_key  assigned_rating\n",
              "0            INCOMPLETE         5\n",
              "             PASSED             2\n",
              "1            INCOMPLETE         1\n",
              "             PASSED             2\n",
              "2            PASSED             1\n",
              "                               ..\n",
              "1263         PASSED             1\n",
              "1274         PASSED             1\n",
              "1279         PASSED             1\n",
              "1292         INCOMPLETE         1\n",
              "1298         INCOMPLETE         2\n",
              "Length: 1398, dtype: int64"
            ]
          },
          "metadata": {
            "tags": []
          },
          "execution_count": 301
        }
      ]
    },
    {
      "cell_type": "code",
      "metadata": {
        "id": "q09AnxMNngoJ",
        "colab_type": "code",
        "outputId": "b18ec4e1-b1bb-4bde-d729-09c5bb0973f5",
        "colab": {
          "base_uri": "https://localhost:8080/",
          "height": 238
        }
      },
      "source": [
        "project_grouped_size.sort_values(ascending=False)"
      ],
      "execution_count": 302,
      "outputs": [
        {
          "output_type": "execute_result",
          "data": {
            "text/plain": [
              "account_key  assigned_rating\n",
              "569          INCOMPLETE         20\n",
              "281          INCOMPLETE         16\n",
              "557          INCOMPLETE         13\n",
              "641          INCOMPLETE         12\n",
              "427          INCOMPLETE         11\n",
              "                                ..\n",
              "212          PASSED              1\n",
              "493          INCOMPLETE          1\n",
              "214          UNGRADED            1\n",
              "215          INCOMPLETE          1\n",
              "353          PASSED              1\n",
              "Length: 1398, dtype: int64"
            ]
          },
          "metadata": {
            "tags": []
          },
          "execution_count": 302
        }
      ]
    },
    {
      "cell_type": "code",
      "metadata": {
        "id": "u926B79nh3Sw",
        "colab_type": "code",
        "colab": {}
      },
      "source": [
        "project_grouped_sample = project_grouped.size().unstack(fill_value=0).head(10)"
      ],
      "execution_count": 0,
      "outputs": []
    },
    {
      "cell_type": "code",
      "metadata": {
        "id": "qBSGstLyjXGM",
        "colab_type": "code",
        "outputId": "ba931e21-4c0d-441c-ba0f-c1728adaed79",
        "colab": {
          "base_uri": "https://localhost:8080/",
          "height": 294
        }
      },
      "source": [
        "project_grouped_sample.plot.bar()"
      ],
      "execution_count": 304,
      "outputs": [
        {
          "output_type": "execute_result",
          "data": {
            "text/plain": [
              "<matplotlib.axes._subplots.AxesSubplot at 0x7efda3db6710>"
            ]
          },
          "metadata": {
            "tags": []
          },
          "execution_count": 304
        },
        {
          "output_type": "display_data",
          "data": {
            "image/png": "[encoded data removed]",
            "text/plain": [
              "<Figure size 432x288 with 1 Axes>"
            ]
          },
          "metadata": {
            "tags": []
          }
        }
      ]
    },
    {
      "cell_type": "code",
      "metadata": {
        "id": "parchZ85llnH",
        "colab_type": "code",
        "outputId": "bf40412d-3eca-495e-8341-394b39c7ba6e",
        "colab": {
          "base_uri": "https://localhost:8080/",
          "height": 450
        }
      },
      "source": [
        "grouped_ratings = project_grouped.size().unstack(fill_value=0)\n",
        "grouped_ratings"
      ],
      "execution_count": 305,
      "outputs": [
        {
          "output_type": "execute_result",
          "data": {
            "text/html": [
              "<div>\n",
              "<style scoped>\n",
              "    .dataframe tbody tr th:only-of-type {\n",
              "        vertical-align: middle;\n",
              "    }\n",
              "\n",
              "    .dataframe tbody tr th {\n",
              "        vertical-align: top;\n",
              "    }\n",
              "\n",
              "    .dataframe thead th {\n",
              "        text-align: right;\n",
              "    }\n",
              "</style>\n",
              "<table border=\"1\" class=\"dataframe\">\n",
              "  <thead>\n",
              "    <tr style=\"text-align: right;\">\n",
              "      <th>assigned_rating</th>\n",
              "      <th>DISTINCTION</th>\n",
              "      <th>INCOMPLETE</th>\n",
              "      <th>PASSED</th>\n",
              "      <th>UNGRADED</th>\n",
              "    </tr>\n",
              "    <tr>\n",
              "      <th>account_key</th>\n",
              "      <th></th>\n",
              "      <th></th>\n",
              "      <th></th>\n",
              "      <th></th>\n",
              "    </tr>\n",
              "  </thead>\n",
              "  <tbody>\n",
              "    <tr>\n",
              "      <th>0</th>\n",
              "      <td>0</td>\n",
              "      <td>5</td>\n",
              "      <td>2</td>\n",
              "      <td>0</td>\n",
              "    </tr>\n",
              "    <tr>\n",
              "      <th>1</th>\n",
              "      <td>0</td>\n",
              "      <td>1</td>\n",
              "      <td>2</td>\n",
              "      <td>0</td>\n",
              "    </tr>\n",
              "    <tr>\n",
              "      <th>2</th>\n",
              "      <td>0</td>\n",
              "      <td>0</td>\n",
              "      <td>1</td>\n",
              "      <td>0</td>\n",
              "    </tr>\n",
              "    <tr>\n",
              "      <th>3</th>\n",
              "      <td>0</td>\n",
              "      <td>3</td>\n",
              "      <td>2</td>\n",
              "      <td>0</td>\n",
              "    </tr>\n",
              "    <tr>\n",
              "      <th>4</th>\n",
              "      <td>0</td>\n",
              "      <td>5</td>\n",
              "      <td>2</td>\n",
              "      <td>0</td>\n",
              "    </tr>\n",
              "    <tr>\n",
              "      <th>...</th>\n",
              "      <td>...</td>\n",
              "      <td>...</td>\n",
              "      <td>...</td>\n",
              "      <td>...</td>\n",
              "    </tr>\n",
              "    <tr>\n",
              "      <th>1263</th>\n",
              "      <td>0</td>\n",
              "      <td>0</td>\n",
              "      <td>1</td>\n",
              "      <td>0</td>\n",
              "    </tr>\n",
              "    <tr>\n",
              "      <th>1274</th>\n",
              "      <td>0</td>\n",
              "      <td>0</td>\n",
              "      <td>1</td>\n",
              "      <td>0</td>\n",
              "    </tr>\n",
              "    <tr>\n",
              "      <th>1279</th>\n",
              "      <td>0</td>\n",
              "      <td>0</td>\n",
              "      <td>1</td>\n",
              "      <td>0</td>\n",
              "    </tr>\n",
              "    <tr>\n",
              "      <th>1292</th>\n",
              "      <td>0</td>\n",
              "      <td>1</td>\n",
              "      <td>0</td>\n",
              "      <td>0</td>\n",
              "    </tr>\n",
              "    <tr>\n",
              "      <th>1298</th>\n",
              "      <td>0</td>\n",
              "      <td>2</td>\n",
              "      <td>0</td>\n",
              "      <td>0</td>\n",
              "    </tr>\n",
              "  </tbody>\n",
              "</table>\n",
              "<p>737 rows × 4 columns</p>\n",
              "</div>"
            ],
            "text/plain": [
              "assigned_rating  DISTINCTION  INCOMPLETE  PASSED  UNGRADED\n",
              "account_key                                               \n",
              "0                          0           5       2         0\n",
              "1                          0           1       2         0\n",
              "2                          0           0       1         0\n",
              "3                          0           3       2         0\n",
              "4                          0           5       2         0\n",
              "...                      ...         ...     ...       ...\n",
              "1263                       0           0       1         0\n",
              "1274                       0           0       1         0\n",
              "1279                       0           0       1         0\n",
              "1292                       0           1       0         0\n",
              "1298                       0           2       0         0\n",
              "\n",
              "[737 rows x 4 columns]"
            ]
          },
          "metadata": {
            "tags": []
          },
          "execution_count": 305
        }
      ]
    },
    {
      "cell_type": "code",
      "metadata": {
        "id": "OiqaPmgXqgdm",
        "colab_type": "code",
        "outputId": "1f4681d2-6c17-4f97-ba79-c348555ceba4",
        "colab": {
          "base_uri": "https://localhost:8080/",
          "height": 450
        }
      },
      "source": [
        "grouped_ratings.sort_values(['DISTINCTION'], ascending=False)"
      ],
      "execution_count": 306,
      "outputs": [
        {
          "output_type": "execute_result",
          "data": {
            "text/html": [
              "<div>\n",
              "<style scoped>\n",
              "    .dataframe tbody tr th:only-of-type {\n",
              "        vertical-align: middle;\n",
              "    }\n",
              "\n",
              "    .dataframe tbody tr th {\n",
              "        vertical-align: top;\n",
              "    }\n",
              "\n",
              "    .dataframe thead th {\n",
              "        text-align: right;\n",
              "    }\n",
              "</style>\n",
              "<table border=\"1\" class=\"dataframe\">\n",
              "  <thead>\n",
              "    <tr style=\"text-align: right;\">\n",
              "      <th>assigned_rating</th>\n",
              "      <th>DISTINCTION</th>\n",
              "      <th>INCOMPLETE</th>\n",
              "      <th>PASSED</th>\n",
              "      <th>UNGRADED</th>\n",
              "    </tr>\n",
              "    <tr>\n",
              "      <th>account_key</th>\n",
              "      <th></th>\n",
              "      <th></th>\n",
              "      <th></th>\n",
              "      <th></th>\n",
              "    </tr>\n",
              "  </thead>\n",
              "  <tbody>\n",
              "    <tr>\n",
              "      <th>553</th>\n",
              "      <td>2</td>\n",
              "      <td>3</td>\n",
              "      <td>3</td>\n",
              "      <td>2</td>\n",
              "    </tr>\n",
              "    <tr>\n",
              "      <th>627</th>\n",
              "      <td>2</td>\n",
              "      <td>3</td>\n",
              "      <td>0</td>\n",
              "      <td>0</td>\n",
              "    </tr>\n",
              "    <tr>\n",
              "      <th>156</th>\n",
              "      <td>2</td>\n",
              "      <td>3</td>\n",
              "      <td>0</td>\n",
              "      <td>0</td>\n",
              "    </tr>\n",
              "    <tr>\n",
              "      <th>45</th>\n",
              "      <td>2</td>\n",
              "      <td>2</td>\n",
              "      <td>1</td>\n",
              "      <td>0</td>\n",
              "    </tr>\n",
              "    <tr>\n",
              "      <th>280</th>\n",
              "      <td>1</td>\n",
              "      <td>4</td>\n",
              "      <td>2</td>\n",
              "      <td>0</td>\n",
              "    </tr>\n",
              "    <tr>\n",
              "      <th>...</th>\n",
              "      <td>...</td>\n",
              "      <td>...</td>\n",
              "      <td>...</td>\n",
              "      <td>...</td>\n",
              "    </tr>\n",
              "    <tr>\n",
              "      <th>254</th>\n",
              "      <td>0</td>\n",
              "      <td>5</td>\n",
              "      <td>3</td>\n",
              "      <td>2</td>\n",
              "    </tr>\n",
              "    <tr>\n",
              "      <th>255</th>\n",
              "      <td>0</td>\n",
              "      <td>2</td>\n",
              "      <td>2</td>\n",
              "      <td>0</td>\n",
              "    </tr>\n",
              "    <tr>\n",
              "      <th>256</th>\n",
              "      <td>0</td>\n",
              "      <td>1</td>\n",
              "      <td>1</td>\n",
              "      <td>1</td>\n",
              "    </tr>\n",
              "    <tr>\n",
              "      <th>257</th>\n",
              "      <td>0</td>\n",
              "      <td>7</td>\n",
              "      <td>5</td>\n",
              "      <td>1</td>\n",
              "    </tr>\n",
              "    <tr>\n",
              "      <th>1298</th>\n",
              "      <td>0</td>\n",
              "      <td>2</td>\n",
              "      <td>0</td>\n",
              "      <td>0</td>\n",
              "    </tr>\n",
              "  </tbody>\n",
              "</table>\n",
              "<p>737 rows × 4 columns</p>\n",
              "</div>"
            ],
            "text/plain": [
              "assigned_rating  DISTINCTION  INCOMPLETE  PASSED  UNGRADED\n",
              "account_key                                               \n",
              "553                        2           3       3         2\n",
              "627                        2           3       0         0\n",
              "156                        2           3       0         0\n",
              "45                         2           2       1         0\n",
              "280                        1           4       2         0\n",
              "...                      ...         ...     ...       ...\n",
              "254                        0           5       3         2\n",
              "255                        0           2       2         0\n",
              "256                        0           1       1         1\n",
              "257                        0           7       5         1\n",
              "1298                       0           2       0         0\n",
              "\n",
              "[737 rows x 4 columns]"
            ]
          },
          "metadata": {
            "tags": []
          },
          "execution_count": 306
        }
      ]
    },
    {
      "cell_type": "code",
      "metadata": {
        "id": "Anv5wqWZlxbH",
        "colab_type": "code",
        "outputId": "2905c727-c3bd-4285-af01-cf78708c84a0",
        "colab": {
          "base_uri": "https://localhost:8080/",
          "height": 450
        }
      },
      "source": [
        "grouped_ratings.sort_values(['DISTINCTION', 'PASSED'], ascending=False)"
      ],
      "execution_count": 307,
      "outputs": [
        {
          "output_type": "execute_result",
          "data": {
            "text/html": [
              "<div>\n",
              "<style scoped>\n",
              "    .dataframe tbody tr th:only-of-type {\n",
              "        vertical-align: middle;\n",
              "    }\n",
              "\n",
              "    .dataframe tbody tr th {\n",
              "        vertical-align: top;\n",
              "    }\n",
              "\n",
              "    .dataframe thead th {\n",
              "        text-align: right;\n",
              "    }\n",
              "</style>\n",
              "<table border=\"1\" class=\"dataframe\">\n",
              "  <thead>\n",
              "    <tr style=\"text-align: right;\">\n",
              "      <th>assigned_rating</th>\n",
              "      <th>DISTINCTION</th>\n",
              "      <th>INCOMPLETE</th>\n",
              "      <th>PASSED</th>\n",
              "      <th>UNGRADED</th>\n",
              "    </tr>\n",
              "    <tr>\n",
              "      <th>account_key</th>\n",
              "      <th></th>\n",
              "      <th></th>\n",
              "      <th></th>\n",
              "      <th></th>\n",
              "    </tr>\n",
              "  </thead>\n",
              "  <tbody>\n",
              "    <tr>\n",
              "      <th>553</th>\n",
              "      <td>2</td>\n",
              "      <td>3</td>\n",
              "      <td>3</td>\n",
              "      <td>2</td>\n",
              "    </tr>\n",
              "    <tr>\n",
              "      <th>45</th>\n",
              "      <td>2</td>\n",
              "      <td>2</td>\n",
              "      <td>1</td>\n",
              "      <td>0</td>\n",
              "    </tr>\n",
              "    <tr>\n",
              "      <th>156</th>\n",
              "      <td>2</td>\n",
              "      <td>3</td>\n",
              "      <td>0</td>\n",
              "      <td>0</td>\n",
              "    </tr>\n",
              "    <tr>\n",
              "      <th>627</th>\n",
              "      <td>2</td>\n",
              "      <td>3</td>\n",
              "      <td>0</td>\n",
              "      <td>0</td>\n",
              "    </tr>\n",
              "    <tr>\n",
              "      <th>328</th>\n",
              "      <td>1</td>\n",
              "      <td>6</td>\n",
              "      <td>6</td>\n",
              "      <td>0</td>\n",
              "    </tr>\n",
              "    <tr>\n",
              "      <th>...</th>\n",
              "      <td>...</td>\n",
              "      <td>...</td>\n",
              "      <td>...</td>\n",
              "      <td>...</td>\n",
              "    </tr>\n",
              "    <tr>\n",
              "      <th>1206</th>\n",
              "      <td>0</td>\n",
              "      <td>1</td>\n",
              "      <td>0</td>\n",
              "      <td>0</td>\n",
              "    </tr>\n",
              "    <tr>\n",
              "      <th>1215</th>\n",
              "      <td>0</td>\n",
              "      <td>3</td>\n",
              "      <td>0</td>\n",
              "      <td>0</td>\n",
              "    </tr>\n",
              "    <tr>\n",
              "      <th>1247</th>\n",
              "      <td>0</td>\n",
              "      <td>2</td>\n",
              "      <td>0</td>\n",
              "      <td>0</td>\n",
              "    </tr>\n",
              "    <tr>\n",
              "      <th>1292</th>\n",
              "      <td>0</td>\n",
              "      <td>1</td>\n",
              "      <td>0</td>\n",
              "      <td>0</td>\n",
              "    </tr>\n",
              "    <tr>\n",
              "      <th>1298</th>\n",
              "      <td>0</td>\n",
              "      <td>2</td>\n",
              "      <td>0</td>\n",
              "      <td>0</td>\n",
              "    </tr>\n",
              "  </tbody>\n",
              "</table>\n",
              "<p>737 rows × 4 columns</p>\n",
              "</div>"
            ],
            "text/plain": [
              "assigned_rating  DISTINCTION  INCOMPLETE  PASSED  UNGRADED\n",
              "account_key                                               \n",
              "553                        2           3       3         2\n",
              "45                         2           2       1         0\n",
              "156                        2           3       0         0\n",
              "627                        2           3       0         0\n",
              "328                        1           6       6         0\n",
              "...                      ...         ...     ...       ...\n",
              "1206                       0           1       0         0\n",
              "1215                       0           3       0         0\n",
              "1247                       0           2       0         0\n",
              "1292                       0           1       0         0\n",
              "1298                       0           2       0         0\n",
              "\n",
              "[737 rows x 4 columns]"
            ]
          },
          "metadata": {
            "tags": []
          },
          "execution_count": 307
        }
      ]
    },
    {
      "cell_type": "code",
      "metadata": {
        "id": "EGQdnVgrmVCX",
        "colab_type": "code",
        "outputId": "93586fa4-463a-420a-9b2a-18c568fd02f6",
        "colab": {
          "base_uri": "https://localhost:8080/",
          "height": 450
        }
      },
      "source": [
        "grouped_ratings.sort_values(['PASSED'], ascending=False)"
      ],
      "execution_count": 308,
      "outputs": [
        {
          "output_type": "execute_result",
          "data": {
            "text/html": [
              "<div>\n",
              "<style scoped>\n",
              "    .dataframe tbody tr th:only-of-type {\n",
              "        vertical-align: middle;\n",
              "    }\n",
              "\n",
              "    .dataframe tbody tr th {\n",
              "        vertical-align: top;\n",
              "    }\n",
              "\n",
              "    .dataframe thead th {\n",
              "        text-align: right;\n",
              "    }\n",
              "</style>\n",
              "<table border=\"1\" class=\"dataframe\">\n",
              "  <thead>\n",
              "    <tr style=\"text-align: right;\">\n",
              "      <th>assigned_rating</th>\n",
              "      <th>DISTINCTION</th>\n",
              "      <th>INCOMPLETE</th>\n",
              "      <th>PASSED</th>\n",
              "      <th>UNGRADED</th>\n",
              "    </tr>\n",
              "    <tr>\n",
              "      <th>account_key</th>\n",
              "      <th></th>\n",
              "      <th></th>\n",
              "      <th></th>\n",
              "      <th></th>\n",
              "    </tr>\n",
              "  </thead>\n",
              "  <tbody>\n",
              "    <tr>\n",
              "      <th>317</th>\n",
              "      <td>0</td>\n",
              "      <td>6</td>\n",
              "      <td>8</td>\n",
              "      <td>0</td>\n",
              "    </tr>\n",
              "    <tr>\n",
              "      <th>85</th>\n",
              "      <td>0</td>\n",
              "      <td>6</td>\n",
              "      <td>8</td>\n",
              "      <td>0</td>\n",
              "    </tr>\n",
              "    <tr>\n",
              "      <th>569</th>\n",
              "      <td>0</td>\n",
              "      <td>20</td>\n",
              "      <td>7</td>\n",
              "      <td>0</td>\n",
              "    </tr>\n",
              "    <tr>\n",
              "      <th>316</th>\n",
              "      <td>0</td>\n",
              "      <td>4</td>\n",
              "      <td>7</td>\n",
              "      <td>0</td>\n",
              "    </tr>\n",
              "    <tr>\n",
              "      <th>125</th>\n",
              "      <td>0</td>\n",
              "      <td>8</td>\n",
              "      <td>7</td>\n",
              "      <td>0</td>\n",
              "    </tr>\n",
              "    <tr>\n",
              "      <th>...</th>\n",
              "      <td>...</td>\n",
              "      <td>...</td>\n",
              "      <td>...</td>\n",
              "      <td>...</td>\n",
              "    </tr>\n",
              "    <tr>\n",
              "      <th>1002</th>\n",
              "      <td>0</td>\n",
              "      <td>1</td>\n",
              "      <td>0</td>\n",
              "      <td>0</td>\n",
              "    </tr>\n",
              "    <tr>\n",
              "      <th>1013</th>\n",
              "      <td>0</td>\n",
              "      <td>1</td>\n",
              "      <td>0</td>\n",
              "      <td>0</td>\n",
              "    </tr>\n",
              "    <tr>\n",
              "      <th>1033</th>\n",
              "      <td>0</td>\n",
              "      <td>3</td>\n",
              "      <td>0</td>\n",
              "      <td>0</td>\n",
              "    </tr>\n",
              "    <tr>\n",
              "      <th>1048</th>\n",
              "      <td>0</td>\n",
              "      <td>1</td>\n",
              "      <td>0</td>\n",
              "      <td>0</td>\n",
              "    </tr>\n",
              "    <tr>\n",
              "      <th>1298</th>\n",
              "      <td>0</td>\n",
              "      <td>2</td>\n",
              "      <td>0</td>\n",
              "      <td>0</td>\n",
              "    </tr>\n",
              "  </tbody>\n",
              "</table>\n",
              "<p>737 rows × 4 columns</p>\n",
              "</div>"
            ],
            "text/plain": [
              "assigned_rating  DISTINCTION  INCOMPLETE  PASSED  UNGRADED\n",
              "account_key                                               \n",
              "317                        0           6       8         0\n",
              "85                         0           6       8         0\n",
              "569                        0          20       7         0\n",
              "316                        0           4       7         0\n",
              "125                        0           8       7         0\n",
              "...                      ...         ...     ...       ...\n",
              "1002                       0           1       0         0\n",
              "1013                       0           1       0         0\n",
              "1033                       0           3       0         0\n",
              "1048                       0           1       0         0\n",
              "1298                       0           2       0         0\n",
              "\n",
              "[737 rows x 4 columns]"
            ]
          },
          "metadata": {
            "tags": []
          },
          "execution_count": 308
        }
      ]
    },
    {
      "cell_type": "code",
      "metadata": {
        "id": "AohGggCemXh2",
        "colab_type": "code",
        "outputId": "53f56cc0-5c9d-4498-ce4a-efcadad33398",
        "colab": {
          "base_uri": "https://localhost:8080/",
          "height": 450
        }
      },
      "source": [
        "grouped_ratings.sort_values(['INCOMPLETE'], ascending=False)"
      ],
      "execution_count": 309,
      "outputs": [
        {
          "output_type": "execute_result",
          "data": {
            "text/html": [
              "<div>\n",
              "<style scoped>\n",
              "    .dataframe tbody tr th:only-of-type {\n",
              "        vertical-align: middle;\n",
              "    }\n",
              "\n",
              "    .dataframe tbody tr th {\n",
              "        vertical-align: top;\n",
              "    }\n",
              "\n",
              "    .dataframe thead th {\n",
              "        text-align: right;\n",
              "    }\n",
              "</style>\n",
              "<table border=\"1\" class=\"dataframe\">\n",
              "  <thead>\n",
              "    <tr style=\"text-align: right;\">\n",
              "      <th>assigned_rating</th>\n",
              "      <th>DISTINCTION</th>\n",
              "      <th>INCOMPLETE</th>\n",
              "      <th>PASSED</th>\n",
              "      <th>UNGRADED</th>\n",
              "    </tr>\n",
              "    <tr>\n",
              "      <th>account_key</th>\n",
              "      <th></th>\n",
              "      <th></th>\n",
              "      <th></th>\n",
              "      <th></th>\n",
              "    </tr>\n",
              "  </thead>\n",
              "  <tbody>\n",
              "    <tr>\n",
              "      <th>569</th>\n",
              "      <td>0</td>\n",
              "      <td>20</td>\n",
              "      <td>7</td>\n",
              "      <td>0</td>\n",
              "    </tr>\n",
              "    <tr>\n",
              "      <th>281</th>\n",
              "      <td>0</td>\n",
              "      <td>16</td>\n",
              "      <td>4</td>\n",
              "      <td>0</td>\n",
              "    </tr>\n",
              "    <tr>\n",
              "      <th>557</th>\n",
              "      <td>0</td>\n",
              "      <td>13</td>\n",
              "      <td>4</td>\n",
              "      <td>0</td>\n",
              "    </tr>\n",
              "    <tr>\n",
              "      <th>641</th>\n",
              "      <td>0</td>\n",
              "      <td>12</td>\n",
              "      <td>5</td>\n",
              "      <td>0</td>\n",
              "    </tr>\n",
              "    <tr>\n",
              "      <th>426</th>\n",
              "      <td>0</td>\n",
              "      <td>11</td>\n",
              "      <td>6</td>\n",
              "      <td>0</td>\n",
              "    </tr>\n",
              "    <tr>\n",
              "      <th>...</th>\n",
              "      <td>...</td>\n",
              "      <td>...</td>\n",
              "      <td>...</td>\n",
              "      <td>...</td>\n",
              "    </tr>\n",
              "    <tr>\n",
              "      <th>601</th>\n",
              "      <td>0</td>\n",
              "      <td>0</td>\n",
              "      <td>1</td>\n",
              "      <td>0</td>\n",
              "    </tr>\n",
              "    <tr>\n",
              "      <th>88</th>\n",
              "      <td>0</td>\n",
              "      <td>0</td>\n",
              "      <td>1</td>\n",
              "      <td>0</td>\n",
              "    </tr>\n",
              "    <tr>\n",
              "      <th>325</th>\n",
              "      <td>0</td>\n",
              "      <td>0</td>\n",
              "      <td>3</td>\n",
              "      <td>0</td>\n",
              "    </tr>\n",
              "    <tr>\n",
              "      <th>610</th>\n",
              "      <td>0</td>\n",
              "      <td>0</td>\n",
              "      <td>1</td>\n",
              "      <td>0</td>\n",
              "    </tr>\n",
              "    <tr>\n",
              "      <th>355</th>\n",
              "      <td>0</td>\n",
              "      <td>0</td>\n",
              "      <td>3</td>\n",
              "      <td>0</td>\n",
              "    </tr>\n",
              "  </tbody>\n",
              "</table>\n",
              "<p>737 rows × 4 columns</p>\n",
              "</div>"
            ],
            "text/plain": [
              "assigned_rating  DISTINCTION  INCOMPLETE  PASSED  UNGRADED\n",
              "account_key                                               \n",
              "569                        0          20       7         0\n",
              "281                        0          16       4         0\n",
              "557                        0          13       4         0\n",
              "641                        0          12       5         0\n",
              "426                        0          11       6         0\n",
              "...                      ...         ...     ...       ...\n",
              "601                        0           0       1         0\n",
              "88                         0           0       1         0\n",
              "325                        0           0       3         0\n",
              "610                        0           0       1         0\n",
              "355                        0           0       3         0\n",
              "\n",
              "[737 rows x 4 columns]"
            ]
          },
          "metadata": {
            "tags": []
          },
          "execution_count": 309
        }
      ]
    },
    {
      "cell_type": "code",
      "metadata": {
        "id": "7UImgT0tmeD2",
        "colab_type": "code",
        "outputId": "07eb80c7-e896-48b0-f2b8-e86418c8ef17",
        "colab": {
          "base_uri": "https://localhost:8080/",
          "height": 450
        }
      },
      "source": [
        "grouped_ratings.sort_values(['UNGRADED'], ascending=False)"
      ],
      "execution_count": 310,
      "outputs": [
        {
          "output_type": "execute_result",
          "data": {
            "text/html": [
              "<div>\n",
              "<style scoped>\n",
              "    .dataframe tbody tr th:only-of-type {\n",
              "        vertical-align: middle;\n",
              "    }\n",
              "\n",
              "    .dataframe tbody tr th {\n",
              "        vertical-align: top;\n",
              "    }\n",
              "\n",
              "    .dataframe thead th {\n",
              "        text-align: right;\n",
              "    }\n",
              "</style>\n",
              "<table border=\"1\" class=\"dataframe\">\n",
              "  <thead>\n",
              "    <tr style=\"text-align: right;\">\n",
              "      <th>assigned_rating</th>\n",
              "      <th>DISTINCTION</th>\n",
              "      <th>INCOMPLETE</th>\n",
              "      <th>PASSED</th>\n",
              "      <th>UNGRADED</th>\n",
              "    </tr>\n",
              "    <tr>\n",
              "      <th>account_key</th>\n",
              "      <th></th>\n",
              "      <th></th>\n",
              "      <th></th>\n",
              "      <th></th>\n",
              "    </tr>\n",
              "  </thead>\n",
              "  <tbody>\n",
              "    <tr>\n",
              "      <th>553</th>\n",
              "      <td>2</td>\n",
              "      <td>3</td>\n",
              "      <td>3</td>\n",
              "      <td>2</td>\n",
              "    </tr>\n",
              "    <tr>\n",
              "      <th>755</th>\n",
              "      <td>0</td>\n",
              "      <td>0</td>\n",
              "      <td>0</td>\n",
              "      <td>2</td>\n",
              "    </tr>\n",
              "    <tr>\n",
              "      <th>620</th>\n",
              "      <td>0</td>\n",
              "      <td>1</td>\n",
              "      <td>1</td>\n",
              "      <td>2</td>\n",
              "    </tr>\n",
              "    <tr>\n",
              "      <th>473</th>\n",
              "      <td>0</td>\n",
              "      <td>1</td>\n",
              "      <td>1</td>\n",
              "      <td>2</td>\n",
              "    </tr>\n",
              "    <tr>\n",
              "      <th>254</th>\n",
              "      <td>0</td>\n",
              "      <td>5</td>\n",
              "      <td>3</td>\n",
              "      <td>2</td>\n",
              "    </tr>\n",
              "    <tr>\n",
              "      <th>...</th>\n",
              "      <td>...</td>\n",
              "      <td>...</td>\n",
              "      <td>...</td>\n",
              "      <td>...</td>\n",
              "    </tr>\n",
              "    <tr>\n",
              "      <th>263</th>\n",
              "      <td>0</td>\n",
              "      <td>5</td>\n",
              "      <td>4</td>\n",
              "      <td>0</td>\n",
              "    </tr>\n",
              "    <tr>\n",
              "      <th>264</th>\n",
              "      <td>0</td>\n",
              "      <td>0</td>\n",
              "      <td>1</td>\n",
              "      <td>0</td>\n",
              "    </tr>\n",
              "    <tr>\n",
              "      <th>265</th>\n",
              "      <td>0</td>\n",
              "      <td>0</td>\n",
              "      <td>1</td>\n",
              "      <td>0</td>\n",
              "    </tr>\n",
              "    <tr>\n",
              "      <th>266</th>\n",
              "      <td>0</td>\n",
              "      <td>6</td>\n",
              "      <td>4</td>\n",
              "      <td>0</td>\n",
              "    </tr>\n",
              "    <tr>\n",
              "      <th>1298</th>\n",
              "      <td>0</td>\n",
              "      <td>2</td>\n",
              "      <td>0</td>\n",
              "      <td>0</td>\n",
              "    </tr>\n",
              "  </tbody>\n",
              "</table>\n",
              "<p>737 rows × 4 columns</p>\n",
              "</div>"
            ],
            "text/plain": [
              "assigned_rating  DISTINCTION  INCOMPLETE  PASSED  UNGRADED\n",
              "account_key                                               \n",
              "553                        2           3       3         2\n",
              "755                        0           0       0         2\n",
              "620                        0           1       1         2\n",
              "473                        0           1       1         2\n",
              "254                        0           5       3         2\n",
              "...                      ...         ...     ...       ...\n",
              "263                        0           5       4         0\n",
              "264                        0           0       1         0\n",
              "265                        0           0       1         0\n",
              "266                        0           6       4         0\n",
              "1298                       0           2       0         0\n",
              "\n",
              "[737 rows x 4 columns]"
            ]
          },
          "metadata": {
            "tags": []
          },
          "execution_count": 310
        }
      ]
    },
    {
      "cell_type": "markdown",
      "metadata": {
        "id": "pyRvM_zWoPCz",
        "colab_type": "text"
      },
      "source": [
        "## Lets look at the nature of Cumulative Submission Status "
      ]
    },
    {
      "cell_type": "code",
      "metadata": {
        "id": "gUiJG29xpBBC",
        "colab_type": "code",
        "outputId": "f393b68d-b6f0-4e00-a2de-14ee096e1bed",
        "colab": {
          "base_uri": "https://localhost:8080/",
          "height": 119
        }
      },
      "source": [
        "grouped_ratings.agg(np.sum)"
      ],
      "execution_count": 312,
      "outputs": [
        {
          "output_type": "execute_result",
          "data": {
            "text/plain": [
              "assigned_rating\n",
              "DISTINCTION      36\n",
              "INCOMPLETE     1903\n",
              "PASSED         1623\n",
              "UNGRADED         58\n",
              "dtype: int64"
            ]
          },
          "metadata": {
            "tags": []
          },
          "execution_count": 312
        }
      ]
    },
    {
      "cell_type": "code",
      "metadata": {
        "id": "uioRNBStkXp6",
        "colab_type": "code",
        "colab": {
          "base_uri": "https://localhost:8080/",
          "height": 334
        },
        "outputId": "02c9ca6e-c0dd-4702-ead9-91fa053e5cb9"
      },
      "source": [
        "ratings_sum = grouped_ratings.agg(np.sum)\n",
        "ax = ratings_sum.plot.bar(x=grouped_ratings.columns.values, \n",
        "                     color=['green', 'red', 'blue', 'gray'])"
      ],
      "execution_count": 357,
      "outputs": [
        {
          "output_type": "display_data",
          "data": {
            "image/png": "[encoded data removed]",
            "text/plain": [
              "<Figure size 432x288 with 1 Axes>"
            ]
          },
          "metadata": {
            "tags": []
          }
        }
      ]
    },
    {
      "cell_type": "markdown",
      "metadata": {
        "id": "LUwahZeVoyew",
        "colab_type": "text"
      },
      "source": [
        "# Observations\n",
        "\n",
        "*   There are **more Incomplete submissions** than **Passed**\n",
        "*   There are **more Passed submissions** than **Ungraded**\n",
        "*   The Ungraded submissions per account is not more than 2.\n",
        "*   There are not more than 20 incomplete submissions per account.\n",
        "*   At best an account has passed 8 submissions.\n",
        "*   Someone doing very well **with Distinction** has **also had \n",
        "incomplete and ungraded submissions**. \n",
        "\n",
        "\n"
      ]
    }
  ]
}